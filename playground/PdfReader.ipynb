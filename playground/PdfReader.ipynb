{
 "cells": [
  {
   "cell_type": "markdown",
   "metadata": {},
   "source": [
    "#### Thursday, March 28, 2024\n",
    "\n",
    "Getting back to this stuff today ... \n",
    "\n",
    "mamba activate mls2 .... I think? ... \n",
    "\n",
    "#### Monday, February 12, 2024\n",
    "\n",
    "Reading the LangChain docs on implementing RAG, it talks about a 'Load, Split, Embed, Store' pipeline process.\n",
    "\n",
    "#### Sunday, February 11, 2024\n",
    "\n",
    "Continuing to work through the issues of creating embeddings from the text of a pdf file.\n",
    "\n",
    "#### Saturday, February 10, 2024\n",
    "\n",
    "How do I load a pdf file, and then extract the text from it?"
   ]
  },
  {
   "cell_type": "markdown",
   "metadata": {},
   "source": [
    "#### Libraries to consider:\n",
    "\n",
    "* [pypdf](https://github.com/py-pdf/PyPDF) \n",
    "* [pdfminer.six](https://github.com/pdfminer/pdfminer.six)\n",
    "* [pdfplumber](https://github.com/jsvine/pdfplumber) "
   ]
  },
  {
   "cell_type": "code",
   "execution_count": 1,
   "metadata": {},
   "outputs": [],
   "source": [
    "import os \n",
    "\n",
    "pdfFolder = \"../pdf\"\n",
    "dataFolder = \"../data\""
   ]
  },
  {
   "cell_type": "code",
   "execution_count": 2,
   "metadata": {},
   "outputs": [],
   "source": [
    "def list_files_in_folder(folder_path):\n",
    "    \n",
    "    # Get the list of files in the specified folder\n",
    "    files = os.listdir(folder_path)\n",
    "\n",
    "    # Filter out subdirectories, leaving only files\n",
    "    files = [f for f in files if os.path.isfile(os.path.join(folder_path, f))]\n",
    "\n",
    "    return files"
   ]
  },
  {
   "cell_type": "code",
   "execution_count": 3,
   "metadata": {},
   "outputs": [],
   "source": [
    "pdfFiles = list_files_in_folder(pdfFolder)"
   ]
  },
  {
   "cell_type": "code",
   "execution_count": 4,
   "metadata": {},
   "outputs": [
    {
     "name": "stdout",
     "output_type": "stream",
     "text": [
      "Jordan B. Peterson -12 Rules for Life_ An Antidote to Chaos.pdf\n",
      "Jordan Peterson - Beyond Order_ 12 More Rules For Life.pdf\n"
     ]
    }
   ],
   "source": [
    "for file_name in pdfFiles:\n",
    "    print(file_name)"
   ]
  },
  {
   "cell_type": "markdown",
   "metadata": {},
   "source": [
    "#### pypdf\n",
    "\n",
    "* https://github.com/py-pdf/PyPDF\n",
    "* https://pypdf.readthedocs.io/en/latest/\n",
    "* mamba install conda-forge::pypdf "
   ]
  },
  {
   "cell_type": "code",
   "execution_count": 5,
   "metadata": {},
   "outputs": [],
   "source": [
    "from pypdf import PdfReader"
   ]
  },
  {
   "cell_type": "code",
   "execution_count": 6,
   "metadata": {},
   "outputs": [
    {
     "name": "stdout",
     "output_type": "stream",
     "text": [
      "../pdf/Jordan B. Peterson -12 Rules for Life_ An Antidote to Chaos.pdf\n"
     ]
    }
   ],
   "source": [
    "pdfFile = pdfFolder +  \"/\" + pdfFiles[0]\n",
    "print(pdfFile)"
   ]
  },
  {
   "cell_type": "code",
   "execution_count": 7,
   "metadata": {},
   "outputs": [],
   "source": [
    "reader = PdfReader(pdfFile)"
   ]
  },
  {
   "cell_type": "markdown",
   "metadata": {},
   "source": [
    "### 12 Rules for Life - An Antidote to Chaos\n",
    "\n",
    "Extract the text from every chapter of the book into individual objects.\n",
    "\n",
    "There does not seem to be any obvious way to automatically extract the page numbers from each chapter, so I am just gonna manually determine that.\n"
   ]
  },
  {
   "cell_type": "markdown",
   "metadata": {},
   "source": [
    "#### Extract the text from every chapter and save all of it in a csv separate file."
   ]
  },
  {
   "cell_type": "code",
   "execution_count": 8,
   "metadata": {},
   "outputs": [],
   "source": [
    "# A helper function to validate the chapters start and end page values\n",
    "def validateChapter(chapter):\n",
    "\n",
    "    limit = 256\n",
    "    start = chapter[0].extract_text()\n",
    "    end = chapter[len(chapter)-1].extract_text()\n",
    "    print(\"*** START ***\")\n",
    "    print(start[:limit])\n",
    "    print(\"...\")\n",
    "    print(\"*** End ***\")\n",
    "    print(end[-limit:])"
   ]
  },
  {
   "cell_type": "markdown",
   "metadata": {},
   "source": [
    "##### Forward"
   ]
  },
  {
   "cell_type": "code",
   "execution_count": 9,
   "metadata": {},
   "outputs": [
    {
     "name": "stdout",
     "output_type": "stream",
     "text": [
      "*** START ***\n",
      "Foreword\n",
      "Rules? More rules? Really? Isn’t life complicated enough, restricting enough,\n",
      "without abstract rules that don’t take our unique, individual situations into\n",
      "account? And given that our brains are plastic, and all develop differently\n",
      "based on our li\n",
      "...\n",
      "*** End ***\n",
      ", it is certain\n",
      "you will never feel that your life has meaning.\n",
      "And perhaps because, as unfamiliar and strange as it sounds, in the deepest\n",
      "part of our psyche, we all want to be judged.\n",
      "Dr. Norman Doidge, MD, is the author\n",
      "of \n",
      "The Brain That Changes Itself\n"
     ]
    }
   ],
   "source": [
    "forward = reader.pages[4:19]\n",
    "validateChapter(forward)"
   ]
  },
  {
   "cell_type": "markdown",
   "metadata": {},
   "source": [
    "##### Overture"
   ]
  },
  {
   "cell_type": "code",
   "execution_count": 10,
   "metadata": {},
   "outputs": [
    {
     "name": "stdout",
     "output_type": "stream",
     "text": [
      "*** START ***\n",
      "Overture\n",
      "This book has a short history and a long history. We’ll begin with the short\n",
      "history.\n",
      "In 2012, I started contributing to a website called Quora. On Quora,\n",
      "anyone can ask a question, of any sort—and anyone can answer. Readers\n",
      "upvote those answers t\n",
      "...\n",
      "*** End ***\n",
      "onsibility is identical to the decision to live a meaningful life.\n",
      "If we each live properly, we will collectively flourish.\n",
      "Best wishes to you all, as you proceed through these pages.\n",
      "Dr. Jordan B. Peterson\n",
      "Clinical Psychologist and Professor of Psychology\n"
     ]
    }
   ],
   "source": [
    "overture = reader.pages[19:28]\n",
    "validateChapter(overture)"
   ]
  },
  {
   "cell_type": "markdown",
   "metadata": {},
   "source": [
    "##### Chapter 1"
   ]
  },
  {
   "cell_type": "code",
   "execution_count": 11,
   "metadata": {},
   "outputs": [
    {
     "name": "stdout",
     "output_type": "stream",
     "text": [
      "*** START ***\n",
      "RULE 1\n",
      "STAND UP STRAIGHT WITH YOUR\n",
      "SHOULDERS BACK\n",
      "LOBSTERS—AND TERRITORY\n",
      "If you are like most people, you don’t often think about lobsters\n",
      "2\n",
      "—unless\n",
      "you’re eating one. However, these interesting and delicious crustaceans are\n",
      "very much worth considering. Th\n",
      "...\n",
      "*** End ***\n",
      "uence of mortal despair at bay.\n",
      "Then you may be able to accept the terrible burden of the World, and find\n",
      "joy.\n",
      "Look for your inspiration to the victorious lobster, with its 350 million\n",
      "years of practical wisdom. Stand up straight, with your shoulders back.\n"
     ]
    }
   ],
   "source": [
    "chapter1 = reader.pages[30:56]\n",
    "validateChapter(chapter1)"
   ]
  },
  {
   "cell_type": "markdown",
   "metadata": {},
   "source": [
    "##### Chapter 2"
   ]
  },
  {
   "cell_type": "code",
   "execution_count": 12,
   "metadata": {},
   "outputs": [
    {
     "name": "stdout",
     "output_type": "stream",
     "text": [
      "*** START ***\n",
      "RULE 2\n",
      "TREAT YOURSELF LIKE SOMEONE YOU ARE\n",
      "RESPONSIBLE FOR HELPING\n",
      "WHY WON’T YOU JUST TAKE YOUR DAMN PILLS?\n",
      "Imagine that a hundred people are prescribed a drug. Consider what happens\n",
      "next. One-third of them won’t fill the prescription.\n",
      "30\n",
      " Half of the rema\n",
      "...\n",
      "*** End ***\n",
      "d replace your shame and self-consciousness with the\n",
      "natural pride and forthright confidence of someone who has learned once\n",
      "again to walk with God in the Garden.\n",
      "You could begin by treating yourself as if you were someone you were\n",
      "responsible for helping.\n"
     ]
    }
   ],
   "source": [
    "chapter2 = reader.pages[59:89]\n",
    "validateChapter(chapter2)\n"
   ]
  },
  {
   "cell_type": "markdown",
   "metadata": {},
   "source": [
    "##### Chapter 3"
   ]
  },
  {
   "cell_type": "code",
   "execution_count": 13,
   "metadata": {},
   "outputs": [
    {
     "name": "stdout",
     "output_type": "stream",
     "text": [
      "*** START ***\n",
      "RULE 3\n",
      "MAKE FRIENDS WITH PEOPLE WHO WANT\n",
      "THE BEST FOR YOU\n",
      "THE OLD HOMETOWN\n",
      "The town I grew up in had been scraped only fifty years earlier out of the\n",
      "endless flat Northern prairie. Fairview, Alberta, was part of the frontier, and\n",
      "had the cowboy bars to pro\n",
      "...\n",
      "*** End ***\n",
      " person is an ideal. It\n",
      "requires strength and daring to stand up near such a person. Have some\n",
      "humility. Have some courage. Use your judgment, and protect yourself from\n",
      "too-uncritical compassion and pity.\n",
      "Make friends with people who want the best for you.\n"
     ]
    }
   ],
   "source": [
    "chapter3 = reader.pages[92:107]\n",
    "validateChapter(chapter3)"
   ]
  },
  {
   "cell_type": "markdown",
   "metadata": {},
   "source": [
    "##### Chapter 4"
   ]
  },
  {
   "cell_type": "code",
   "execution_count": 14,
   "metadata": {},
   "outputs": [
    {
     "name": "stdout",
     "output_type": "stream",
     "text": [
      "*** START ***\n",
      "RULE 4\n",
      "COMPARE YOURSELF TO WHO YOU WERE\n",
      "YESTERDAY, NOT TO WHO SOMEONE ELSE\n",
      "IS TODAY\n",
      "THE INTERNAL CRITIC\n",
      "It was easier for people to be good at something when more of us lived in\n",
      "small, rural communities. Someone could be homecoming queen. Someone\n",
      "else coul\n",
      "...\n",
      "*** End ***\n",
      "k, as if you want to enter, you may be offered the chance\n",
      "to improve your life, a little; a lot; completely—and with that improvement,\n",
      "some progress will be made in Being itself.\n",
      "Compare yourself to who you were yesterday, not to who someone else is\n",
      "today.\n"
     ]
    }
   ],
   "source": [
    "chapter4 = reader.pages[109:133]\n",
    "validateChapter(chapter4)"
   ]
  },
  {
   "cell_type": "markdown",
   "metadata": {},
   "source": [
    "##### Chapter 5"
   ]
  },
  {
   "cell_type": "code",
   "execution_count": 15,
   "metadata": {},
   "outputs": [
    {
     "name": "stdout",
     "output_type": "stream",
     "text": [
      "*** START ***\n",
      "RULE 5\n",
      "DO NOT LET YOUR CHILDREN DO\n",
      "ANYTHING THAT MAKES YOU DISLIKE\n",
      "THEM\n",
      "ACTUALLY, IT’S NOT OK\n",
      "Recently, I watched a three-year-old boy trail his mother and father slowly\n",
      "through a crowded airport. He was screaming violently at five-second\n",
      "intervals—and, mo\n",
      "...\n",
      "*** End ***\n",
      "os and the terrors of the underworld, where everything is\n",
      "uncertain, anxiety-provoking, hopeless and depressing. There are no greater\n",
      "gifts that a committed and courageous parent can bestow.\n",
      "Do not let your children do anything that makes you dislike them.\n"
     ]
    }
   ],
   "source": [
    "chapter5 = reader.pages[135:165]\n",
    "validateChapter(chapter5)"
   ]
  },
  {
   "cell_type": "markdown",
   "metadata": {},
   "source": [
    "##### Chapter 6"
   ]
  },
  {
   "cell_type": "code",
   "execution_count": 16,
   "metadata": {},
   "outputs": [
    {
     "name": "stdout",
     "output_type": "stream",
     "text": [
      "*** START ***\n",
      "RULE 6\n",
      "SET YOUR HOUSE IN PERFECT ORDER\n",
      "BEFORE YOU CRITICIZE THE WORLD\n",
      "A RELIGIOUS PROBLEM\n",
      "It does not seem reasonable to describe the young man who shot twenty\n",
      "children and six staff members at Sandy Hook Elementary School in\n",
      "Newtown, Connecticut, in 2012 \n",
      "...\n",
      "*** End ***\n",
      "Set your house in perfect order before you criticize the world.\n"
     ]
    }
   ],
   "source": [
    "chapter6 = reader.pages[168:180]\n",
    "validateChapter(chapter6)"
   ]
  },
  {
   "cell_type": "markdown",
   "metadata": {},
   "source": [
    "##### Chapter 7"
   ]
  },
  {
   "cell_type": "code",
   "execution_count": 17,
   "metadata": {},
   "outputs": [
    {
     "name": "stdout",
     "output_type": "stream",
     "text": [
      "*** START ***\n",
      "RULE 7\n",
      "PURSUE WHAT IS MEANINGFUL (NOT WHAT\n",
      "IS EXPEDIENT)\n",
      "GET WHILE THE GETTING’S GOOD\n",
      "Life is suffering. That’s clear. There is no more basic, irrefutable truth. It’s\n",
      "basically what God tells Adam and Eve, immediately before he kicks them\n",
      "out of Paradise.\n",
      "\n",
      "...\n",
      "*** End ***\n",
      ". Meaning is the Way, the path of\n",
      "life more abundant, the place you live when you are guided by Love and\n",
      "speaking Truth and when nothing you want or could possibly want takes any\n",
      "precedence over precisely that.\n",
      "Do what is meaningful, not what is expedient.\n"
     ]
    }
   ],
   "source": [
    "chapter7 = reader.pages[182:219]\n",
    "validateChapter(chapter7)"
   ]
  },
  {
   "cell_type": "markdown",
   "metadata": {},
   "source": [
    "##### Chapter 8"
   ]
  },
  {
   "cell_type": "code",
   "execution_count": 18,
   "metadata": {},
   "outputs": [
    {
     "name": "stdout",
     "output_type": "stream",
     "text": [
      "*** START ***\n",
      "RULE 8\n",
      "TELL THE TRUTH—OR, AT LEAST, DON’T LIE\n",
      "TRUTH IN NO-MAN’S-LAND\n",
      "I trained to become a clinical psychologist at McGill University, in Montreal.\n",
      "While doing so, I sometimes met my classmates on the grounds of Montreal’s\n",
      "Douglas Hospital, where we had ou\n",
      "...\n",
      "*** End ***\n",
      "o an ideology, or wallow in nihilism, try telling the truth. If you\n",
      "feel weak and rejected, and desperate, and confused, try telling the truth. In\n",
      "Paradise, everyone speaks the truth. That is what makes it Paradise.\n",
      "Tell the truth. Or, at least, don’t lie.\n"
     ]
    }
   ],
   "source": [
    "chapter8 = reader.pages[221:246]\n",
    "validateChapter(chapter8)"
   ]
  },
  {
   "cell_type": "markdown",
   "metadata": {},
   "source": [
    "##### Chapter 9"
   ]
  },
  {
   "cell_type": "code",
   "execution_count": 19,
   "metadata": {},
   "outputs": [
    {
     "name": "stdout",
     "output_type": "stream",
     "text": [
      "*** START ***\n",
      "RULE 9\n",
      "ASSUME THAT THE PERSON YOU ARE\n",
      "LISTENING TO MIGHT KNOW SOMETHING\n",
      "YOU DON’T\n",
      "NOT ADVICE\n",
      "Psychotherapy is not advice. Advice is what you get when the person you’re\n",
      "talking with about something horrible and complicated wishes you would just\n",
      "shut up and \n",
      "...\n",
      "*** End ***\n",
      "phic Oracle in ancient Greece spoke\n",
      "most highly of Socrates, who always sought the truth. She described him as\n",
      "the wisest living man, because he knew that what he knew was nothing.\n",
      "Assume that the person you are listening to might know something you\n",
      "don’t.\n"
     ]
    }
   ],
   "source": [
    "chapter9 = reader.pages[249:270]\n",
    "validateChapter(chapter9)"
   ]
  },
  {
   "cell_type": "markdown",
   "metadata": {},
   "source": [
    "##### Chapter 10"
   ]
  },
  {
   "cell_type": "code",
   "execution_count": 20,
   "metadata": {},
   "outputs": [
    {
     "name": "stdout",
     "output_type": "stream",
     "text": [
      "*** START ***\n",
      "RULE 10\n",
      "BE PRECISE IN YOUR SPEECH\n",
      "WHY IS MY LAPTOP OBSOLETE?\n",
      "What do you see, when you look at a computer—at your own laptop, more\n",
      "precisely? You see a flat, thin, grey-and-black box. Less evidently, you see\n",
      "something to type on and look at. Nonetheless, e\n",
      "...\n",
      "*** End ***\n",
      "ont the chaos of Being. Take aim against a sea of troubles. Specify\n",
      "your destination, and chart your course. Admit to what you want. Tell those\n",
      "around you who you are. Narrow, and gaze attentively, and move forward,\n",
      "forthrightly.\n",
      "Be precise in your speech.\n"
     ]
    }
   ],
   "source": [
    "chapter10 = reader.pages[273:295]\n",
    "validateChapter(chapter10)"
   ]
  },
  {
   "cell_type": "markdown",
   "metadata": {},
   "source": [
    "##### Chapter 11"
   ]
  },
  {
   "cell_type": "code",
   "execution_count": 21,
   "metadata": {},
   "outputs": [
    {
     "name": "stdout",
     "output_type": "stream",
     "text": [
      "*** START ***\n",
      "RULE 11\n",
      "DO NOT BOTHER CHILDREN WHEN THEY\n",
      "ARE SKATEBOARDING\n",
      "DANGER AND MASTERY\n",
      "There was a time when kids skateboarded on the west side of Sidney Smith\n",
      "Hall, at the University of Toronto, where I work. Sometimes I stood there and\n",
      "watched them. There are rou\n",
      "...\n",
      "*** End ***\n",
      "rself with such a thing. No\n",
      "one aiming at moving up would allow him or herself to become possessed by\n",
      "such a thing. And if you think tough men are dangerous, wait until you see\n",
      "what weak men are capable of.\n",
      "Leave children alone when they are skateboarding.\n"
     ]
    }
   ],
   "source": [
    "chapter11 = reader.pages[297:340]\n",
    "validateChapter(chapter11)"
   ]
  },
  {
   "cell_type": "markdown",
   "metadata": {},
   "source": [
    "##### Chapter 12"
   ]
  },
  {
   "cell_type": "code",
   "execution_count": 22,
   "metadata": {},
   "outputs": [
    {
     "name": "stdout",
     "output_type": "stream",
     "text": [
      "*** START ***\n",
      "RULE 12\n",
      "PET A CAT WHEN YOU ENCOUNTER ONE ON\n",
      "THE STREET\n",
      "DOGS ARE OK TOO\n",
      "I am going to start this chapter by stating directly that I own a dog, an\n",
      "American Eskimo, one of the many variants of the basic spitz type. They\n",
      "were known as German spitzes until the \n",
      "...\n",
      "*** End ***\n",
      "ipse around in her bare feet. The calf muscle on\n",
      "her damaged leg is growing back. She has much more flexion in the artificial\n",
      "joint. This year, she got married and had a baby girl, Elizabeth, named after\n",
      "my wife’s departed mother.\n",
      "Things are good.\n",
      "For now.\n"
     ]
    }
   ],
   "source": [
    "chapter12 = reader.pages[343:360]\n",
    "validateChapter(chapter12)"
   ]
  },
  {
   "cell_type": "markdown",
   "metadata": {},
   "source": [
    "##### Coda"
   ]
  },
  {
   "cell_type": "code",
   "execution_count": 23,
   "metadata": {},
   "outputs": [
    {
     "name": "stdout",
     "output_type": "stream",
     "text": [
      "*** START ***\n",
      "Coda\n",
      "WHAT SHALL I DO WITH MY NEWFOUND PEN OF LIGHT?\n",
      "In late 2016 I travelled to northern California to meet a friend and business\n",
      "associate. We spent an evening together thinking and talking. At one point he\n",
      "took a pen from his jacket and took a few notes.\n",
      "...\n",
      "*** End ***\n",
      "skateboarding), that you strengthen and\n",
      "encourage those who are committed to your care instead of protecting them\n",
      "to the point of weakness.\n",
      "I wish you all the best, and hope that you can wish the best for others.\n",
      "What will you write with your pen of light?\n"
     ]
    }
   ],
   "source": [
    "coda = reader.pages[361:373]\n",
    "validateChapter(coda)"
   ]
  },
  {
   "cell_type": "markdown",
   "metadata": {},
   "source": [
    "Now that we have manually identified the start and end pages of every chapter, let's put those values into a dictionary object then write a simple function to read the text from the PDF file."
   ]
  },
  {
   "cell_type": "code",
   "execution_count": 24,
   "metadata": {},
   "outputs": [],
   "source": [
    "bookChapters = { \"Forward\" : [4,19],\n",
    "                 \"Overture\": [19, 28],\n",
    "                 \"RULE 1: Stand up straight with your shoulders back\" : [30, 56],\n",
    "                 \"RULE 2: Treat yourself like someone you are responsible for helping\" : [59,89],\n",
    "                 \"RULE 3: Make friends with people who want the best for you\" : [92, 107],\n",
    "                 \"RULE 4: Compare yourself to who you were yesterday,not to who someone else is today\" : [109, 133],\n",
    "                 \"RULE 5: Do not let your children do anything that makes you disklike them\" : [135,165],\n",
    "                 \"RULE 6: Set your house in perfect order before you criticize the world\" : [168, 180],\n",
    "                 \"RULE 7: Pursue what is meaningful (not what is expedient)\" : [182, 219],\n",
    "                 \"RULE 8: Tell the truth - or, at least, don't lie\" : [221, 246],\n",
    "                 \"RULE 9: Assume that the person you are listening to might know something you don't\" : [249, 270],\n",
    "                 \"RULE 10: Be precise in your speech\" : [273, 295],\n",
    "                 \"RULE 11: Do not bother children when they are skateboarding\" : [297, 340],\n",
    "                 \"RULE 12: Pet a cat when you encounter one on the street\" : [343, 360],\n",
    "                 \"Coda\" : [361, 373]\n",
    "                }"
   ]
  },
  {
   "cell_type": "markdown",
   "metadata": {},
   "source": [
    "I want to use the above dictionary to read the book and load the text into a pandas dataframe."
   ]
  },
  {
   "cell_type": "code",
   "execution_count": 25,
   "metadata": {},
   "outputs": [],
   "source": [
    "import pandas as pd"
   ]
  },
  {
   "cell_type": "code",
   "execution_count": 26,
   "metadata": {},
   "outputs": [],
   "source": [
    "pdfChapters = pd.DataFrame({'ChapterName' : pd.Series(dtype='str'), \n",
    "                            'PageNumber' : pd.Series(dtype='int'), \n",
    "                            'PageText' : pd.Series(dtype='str')})"
   ]
  },
  {
   "cell_type": "code",
   "execution_count": 27,
   "metadata": {},
   "outputs": [],
   "source": [
    "for chapterName, pages in bookChapters.items():\n",
    "    \n",
    "    spage = pages[0]\n",
    "    epage = pages[1]\n",
    "    chapter = reader.pages[spage:epage]\n",
    "\n",
    "    for page in chapter:\n",
    "        pageNumber = page.page_number\n",
    "        pageText = page.extract_text()\n",
    "        # print(pageNumber, pageText[:16])\n",
    "        pdfChapters.loc[len(pdfChapters)] = [chapterName, pageNumber, pageText] \n",
    "\n",
    "# 13.2s\n",
    "    "
   ]
  },
  {
   "cell_type": "code",
   "execution_count": 28,
   "metadata": {},
   "outputs": [
    {
     "data": {
      "text/html": [
       "<div>\n",
       "<style scoped>\n",
       "    .dataframe tbody tr th:only-of-type {\n",
       "        vertical-align: middle;\n",
       "    }\n",
       "\n",
       "    .dataframe tbody tr th {\n",
       "        vertical-align: top;\n",
       "    }\n",
       "\n",
       "    .dataframe thead th {\n",
       "        text-align: right;\n",
       "    }\n",
       "</style>\n",
       "<table border=\"1\" class=\"dataframe\">\n",
       "  <thead>\n",
       "    <tr style=\"text-align: right;\">\n",
       "      <th></th>\n",
       "      <th>ChapterName</th>\n",
       "      <th>PageNumber</th>\n",
       "      <th>PageText</th>\n",
       "    </tr>\n",
       "  </thead>\n",
       "  <tbody>\n",
       "    <tr>\n",
       "      <th>0</th>\n",
       "      <td>Forward</td>\n",
       "      <td>4</td>\n",
       "      <td>Foreword\\nRules? More rules? Really? Isn’t lif...</td>\n",
       "    </tr>\n",
       "    <tr>\n",
       "      <th>1</th>\n",
       "      <td>Forward</td>\n",
       "      <td>5</td>\n",
       "      <td>reminds us that without rules we quickly becom...</td>\n",
       "    </tr>\n",
       "    <tr>\n",
       "      <th>2</th>\n",
       "      <td>Forward</td>\n",
       "      <td>6</td>\n",
       "      <td>liberating us, and more laughs, and making the...</td>\n",
       "    </tr>\n",
       "    <tr>\n",
       "      <th>3</th>\n",
       "      <td>Forward</td>\n",
       "      <td>7</td>\n",
       "      <td>One might hear such questions discussed at par...</td>\n",
       "    </tr>\n",
       "    <tr>\n",
       "      <th>4</th>\n",
       "      <td>Forward</td>\n",
       "      <td>8</td>\n",
       "      <td>I was always especially fond of mid-Western, P...</td>\n",
       "    </tr>\n",
       "    <tr>\n",
       "      <th>5</th>\n",
       "      <td>Forward</td>\n",
       "      <td>9</td>\n",
       "      <td>bathrooms. The paintings were not there becaus...</td>\n",
       "    </tr>\n",
       "    <tr>\n",
       "      <th>6</th>\n",
       "      <td>Forward</td>\n",
       "      <td>10</td>\n",
       "      <td>demonstration of how rooted this situation is ...</td>\n",
       "    </tr>\n",
       "    <tr>\n",
       "      <th>7</th>\n",
       "      <td>Forward</td>\n",
       "      <td>11</td>\n",
       "      <td>retool the very religious stories they purport...</td>\n",
       "    </tr>\n",
       "    <tr>\n",
       "      <th>8</th>\n",
       "      <td>Forward</td>\n",
       "      <td>12</td>\n",
       "      <td>we didn’t always agree on “the answers” (thank...</td>\n",
       "    </tr>\n",
       "    <tr>\n",
       "      <th>9</th>\n",
       "      <td>Forward</td>\n",
       "      <td>13</td>\n",
       "      <td>freakishly lucky. Rearing kids is hard, work i...</td>\n",
       "    </tr>\n",
       "    <tr>\n",
       "      <th>10</th>\n",
       "      <td>Forward</td>\n",
       "      <td>14</td>\n",
       "      <td>Given our distaste for rules, how do we explai...</td>\n",
       "    </tr>\n",
       "    <tr>\n",
       "      <th>11</th>\n",
       "      <td>Forward</td>\n",
       "      <td>15</td>\n",
       "      <td>often told they have received the finest educa...</td>\n",
       "    </tr>\n",
       "    <tr>\n",
       "      <th>12</th>\n",
       "      <td>Forward</td>\n",
       "      <td>16</td>\n",
       "      <td>merely “relative” and hardly worth sacrificing...</td>\n",
       "    </tr>\n",
       "    <tr>\n",
       "      <th>13</th>\n",
       "      <td>Forward</td>\n",
       "      <td>17</td>\n",
       "      <td>Socrates, reacting to the uncertainty bred by ...</td>\n",
       "    </tr>\n",
       "    <tr>\n",
       "      <th>14</th>\n",
       "      <td>Forward</td>\n",
       "      <td>18</td>\n",
       "      <td>that human wisdom begins with himself, but, ra...</td>\n",
       "    </tr>\n",
       "    <tr>\n",
       "      <th>15</th>\n",
       "      <td>Overture</td>\n",
       "      <td>19</td>\n",
       "      <td>Overture\\nThis book has a short history and a ...</td>\n",
       "    </tr>\n",
       "    <tr>\n",
       "      <th>16</th>\n",
       "      <td>Overture</td>\n",
       "      <td>20</td>\n",
       "      <td>Quora readers appeared pleased with this list....</td>\n",
       "    </tr>\n",
       "    <tr>\n",
       "      <th>17</th>\n",
       "      <td>Overture</td>\n",
       "      <td>21</td>\n",
       "      <td>suffering than with happiness. This is part of...</td>\n",
       "    </tr>\n",
       "    <tr>\n",
       "      <th>18</th>\n",
       "      <td>Overture</td>\n",
       "      <td>22</td>\n",
       "      <td>things and the destination of the dead (as nat...</td>\n",
       "    </tr>\n",
       "    <tr>\n",
       "      <th>19</th>\n",
       "      <td>Overture</td>\n",
       "      <td>23</td>\n",
       "      <td>She suggested that I write a guide of sorts to...</td>\n",
       "    </tr>\n",
       "    <tr>\n",
       "      <th>20</th>\n",
       "      <td>Overture</td>\n",
       "      <td>24</td>\n",
       "      <td>It isn’t precisely that people will fight for ...</td>\n",
       "    </tr>\n",
       "    <tr>\n",
       "      <th>21</th>\n",
       "      <td>Overture</td>\n",
       "      <td>25</td>\n",
       "      <td>diamantine rock and the hardest of places: los...</td>\n",
       "    </tr>\n",
       "    <tr>\n",
       "      <th>22</th>\n",
       "      <td>Overture</td>\n",
       "      <td>26</td>\n",
       "      <td>looked at the foot of the bed. I saw the great...</td>\n",
       "    </tr>\n",
       "    <tr>\n",
       "      <th>23</th>\n",
       "      <td>Overture</td>\n",
       "      <td>27</td>\n",
       "      <td>and care of my official editor (and with the v...</td>\n",
       "    </tr>\n",
       "    <tr>\n",
       "      <th>24</th>\n",
       "      <td>RULE 1: Stand up straight with your shoulders ...</td>\n",
       "      <td>30</td>\n",
       "      <td>RULE 1\\nSTAND UP STRAIGHT WITH YOUR\\nSHOULDERS...</td>\n",
       "    </tr>\n",
       "    <tr>\n",
       "      <th>25</th>\n",
       "      <td>RULE 1: Stand up straight with your shoulders ...</td>\n",
       "      <td>31</td>\n",
       "      <td>and attractive to potential mates. He also wan...</td>\n",
       "    </tr>\n",
       "    <tr>\n",
       "      <th>26</th>\n",
       "      <td>RULE 1: Stand up straight with your shoulders ...</td>\n",
       "      <td>32</td>\n",
       "      <td>underwater, and are seldom served with butter....</td>\n",
       "    </tr>\n",
       "    <tr>\n",
       "      <th>27</th>\n",
       "      <td>RULE 1: Stand up straight with your shoulders ...</td>\n",
       "      <td>33</td>\n",
       "      <td>interaction can easily degenerate into outrigh...</td>\n",
       "    </tr>\n",
       "    <tr>\n",
       "      <th>28</th>\n",
       "      <td>RULE 1: Stand up straight with your shoulders ...</td>\n",
       "      <td>34</td>\n",
       "      <td>territory. They are scarce and valuable. Other...</td>\n",
       "    </tr>\n",
       "    <tr>\n",
       "      <th>29</th>\n",
       "      <td>RULE 1: Stand up straight with your shoulders ...</td>\n",
       "      <td>35</td>\n",
       "      <td>exposed and vulnerable. Once a body part has b...</td>\n",
       "    </tr>\n",
       "    <tr>\n",
       "      <th>30</th>\n",
       "      <td>RULE 1: Stand up straight with your shoulders ...</td>\n",
       "      <td>36</td>\n",
       "      <td>neurochemical configuration, a high ratio of o...</td>\n",
       "    </tr>\n",
       "    <tr>\n",
       "      <th>31</th>\n",
       "      <td>RULE 1: Stand up straight with your shoulders ...</td>\n",
       "      <td>37</td>\n",
       "      <td>This principle is sometimes known as Price’s l...</td>\n",
       "    </tr>\n",
       "  </tbody>\n",
       "</table>\n",
       "</div>"
      ],
      "text/plain": [
       "                                          ChapterName  PageNumber  \\\n",
       "0                                             Forward           4   \n",
       "1                                             Forward           5   \n",
       "2                                             Forward           6   \n",
       "3                                             Forward           7   \n",
       "4                                             Forward           8   \n",
       "5                                             Forward           9   \n",
       "6                                             Forward          10   \n",
       "7                                             Forward          11   \n",
       "8                                             Forward          12   \n",
       "9                                             Forward          13   \n",
       "10                                            Forward          14   \n",
       "11                                            Forward          15   \n",
       "12                                            Forward          16   \n",
       "13                                            Forward          17   \n",
       "14                                            Forward          18   \n",
       "15                                           Overture          19   \n",
       "16                                           Overture          20   \n",
       "17                                           Overture          21   \n",
       "18                                           Overture          22   \n",
       "19                                           Overture          23   \n",
       "20                                           Overture          24   \n",
       "21                                           Overture          25   \n",
       "22                                           Overture          26   \n",
       "23                                           Overture          27   \n",
       "24  RULE 1: Stand up straight with your shoulders ...          30   \n",
       "25  RULE 1: Stand up straight with your shoulders ...          31   \n",
       "26  RULE 1: Stand up straight with your shoulders ...          32   \n",
       "27  RULE 1: Stand up straight with your shoulders ...          33   \n",
       "28  RULE 1: Stand up straight with your shoulders ...          34   \n",
       "29  RULE 1: Stand up straight with your shoulders ...          35   \n",
       "30  RULE 1: Stand up straight with your shoulders ...          36   \n",
       "31  RULE 1: Stand up straight with your shoulders ...          37   \n",
       "\n",
       "                                             PageText  \n",
       "0   Foreword\\nRules? More rules? Really? Isn’t lif...  \n",
       "1   reminds us that without rules we quickly becom...  \n",
       "2   liberating us, and more laughs, and making the...  \n",
       "3   One might hear such questions discussed at par...  \n",
       "4   I was always especially fond of mid-Western, P...  \n",
       "5   bathrooms. The paintings were not there becaus...  \n",
       "6   demonstration of how rooted this situation is ...  \n",
       "7   retool the very religious stories they purport...  \n",
       "8   we didn’t always agree on “the answers” (thank...  \n",
       "9   freakishly lucky. Rearing kids is hard, work i...  \n",
       "10  Given our distaste for rules, how do we explai...  \n",
       "11  often told they have received the finest educa...  \n",
       "12  merely “relative” and hardly worth sacrificing...  \n",
       "13  Socrates, reacting to the uncertainty bred by ...  \n",
       "14  that human wisdom begins with himself, but, ra...  \n",
       "15  Overture\\nThis book has a short history and a ...  \n",
       "16  Quora readers appeared pleased with this list....  \n",
       "17  suffering than with happiness. This is part of...  \n",
       "18  things and the destination of the dead (as nat...  \n",
       "19  She suggested that I write a guide of sorts to...  \n",
       "20  It isn’t precisely that people will fight for ...  \n",
       "21  diamantine rock and the hardest of places: los...  \n",
       "22  looked at the foot of the bed. I saw the great...  \n",
       "23  and care of my official editor (and with the v...  \n",
       "24  RULE 1\\nSTAND UP STRAIGHT WITH YOUR\\nSHOULDERS...  \n",
       "25  and attractive to potential mates. He also wan...  \n",
       "26  underwater, and are seldom served with butter....  \n",
       "27  interaction can easily degenerate into outrigh...  \n",
       "28  territory. They are scarce and valuable. Other...  \n",
       "29  exposed and vulnerable. Once a body part has b...  \n",
       "30  neurochemical configuration, a high ratio of o...  \n",
       "31  This principle is sometimes known as Price’s l...  "
      ]
     },
     "execution_count": 28,
     "metadata": {},
     "output_type": "execute_result"
    }
   ],
   "source": [
    "pdfChapters.head(32)"
   ]
  },
  {
   "cell_type": "markdown",
   "metadata": {},
   "source": [
    "Let's save this dataframe to a csv file so that we can access it from another notebook."
   ]
  },
  {
   "cell_type": "code",
   "execution_count": 29,
   "metadata": {},
   "outputs": [],
   "source": [
    "pdfChapters.to_csv(dataFolder + '/12Rules.csv')"
   ]
  },
  {
   "cell_type": "markdown",
   "metadata": {},
   "source": [
    "##### HuggingFace Sentence Transformers"
   ]
  },
  {
   "cell_type": "code",
   "execution_count": 30,
   "metadata": {},
   "outputs": [
    {
     "data": {
      "application/vnd.jupyter.widget-view+json": {
       "model_id": "e146ac0c37344b559a10c4cc6f45c47b",
       "version_major": 2,
       "version_minor": 0
      },
      "text/plain": [
       "model.safetensors:   0%|          | 0.00/438M [00:00<?, ?B/s]"
      ]
     },
     "metadata": {},
     "output_type": "display_data"
    }
   ],
   "source": [
    "# https://huggingface.co/sentence-transformers/all-mpnet-base-v2\n",
    "from sentence_transformers import SentenceTransformer\n",
    "sentences = [\"This is an example sentence\", \"Each sentence is converted\"]\n",
    "\n",
    "model = SentenceTransformer('sentence-transformers/all-mpnet-base-v2')\n",
    "\n",
    "# 6m 16.7s\n"
   ]
  },
  {
   "cell_type": "code",
   "execution_count": 31,
   "metadata": {},
   "outputs": [
    {
     "name": "stdout",
     "output_type": "stream",
     "text": [
      "[[ 0.02250259 -0.07829171 -0.02303074 ... -0.00827929  0.02652689\n",
      "  -0.00201898]\n",
      " [ 0.04170233  0.00109744 -0.0155342  ... -0.02181628 -0.0635936\n",
      "  -0.00875288]]\n"
     ]
    }
   ],
   "source": [
    "# This does not just tokenize the text, it also generates the embeddings\n",
    "embeddings = model.encode(sentences)\n",
    "print(embeddings)"
   ]
  },
  {
   "cell_type": "markdown",
   "metadata": {},
   "source": [
    "Let's try tokenizing every page from chapter 1 of the book."
   ]
  },
  {
   "cell_type": "code",
   "execution_count": 34,
   "metadata": {},
   "outputs": [
    {
     "data": {
      "text/plain": [
       "<pypdf._page._VirtualList at 0x74feba4fda90>"
      ]
     },
     "execution_count": 34,
     "metadata": {},
     "output_type": "execute_result"
    }
   ],
   "source": [
    "chapter1"
   ]
  },
  {
   "cell_type": "code",
   "execution_count": 33,
   "metadata": {},
   "outputs": [],
   "source": [
    "for page in chapter1:\n",
    "    text = page.extract_text()\n",
    "    # print(text[:64])\n",
    "    # print()\n",
    "    embeddings = model.encode(text)\n",
    "    "
   ]
  },
  {
   "cell_type": "markdown",
   "metadata": {},
   "source": [
    "OK, that seemed simple enough. What about if we embed the text in chunks of a given length?"
   ]
  },
  {
   "cell_type": "code",
   "execution_count": 35,
   "metadata": {},
   "outputs": [
    {
     "name": "stdout",
     "output_type": "stream",
     "text": [
      "RULE 1\n",
      "STAND UP STRAIGHT WITH YOUR\n",
      "SHOULDERS BACK\n",
      "LOBSTERS—AND TERRITORY\n",
      "If you are like most people, you don’t often think about lobsters\n",
      "2\n",
      "—unless\n",
      "you’re eating one. However, these interesting and delicious crustaceans are\n",
      "very much worth considering. Th\n",
      "NEXT CHUNK\n",
      "\n",
      "eir nervous systems are comparatively\n",
      "simple, with large, easily observable neurons, the magic cells of the brain.\n",
      "Because of this, scientists have been able to map the neural circuitry of\n",
      "lobsters very accurately. This has helped us understand the structu\n",
      "NEXT CHUNK\n",
      "\n",
      "re and\n",
      "function of the brain and behaviour of more complex animals, including\n",
      "human beings. Lobsters have more in common with you than you might think\n",
      "(particularly when you are feeling crabby—ha ha).\n",
      "Lobsters live on the ocean floor. They need a home base\n",
      "NEXT CHUNK\n",
      "\n",
      " down there, a\n",
      "range within which they hunt for prey and scavenge around for stray edible\n",
      "bits and pieces of whatever rains down from the continual chaos of carnage\n",
      "and death far above. They want somewhere secure, where the hunting and the\n",
      "gathering is goo\n",
      "NEXT CHUNK\n",
      "\n",
      "d. They want a home.\n",
      "This can present a problem, since there are many lobsters. What if two of\n",
      "them occupy the same territory, at the bottom of the ocean, at the same time,\n",
      "and both want to live there? What if there are hundreds of lobsters, all trying\n",
      "to \n",
      "NEXT CHUNK\n",
      "\n",
      "make a living and raise a family, in the same crowded patch of sand and\n",
      "refuse?\n",
      "Other creatures have this problem, too. When songbirds come north in the\n",
      "spring, for example, they engage in ferocious territorial disputes. The songs\n",
      "they sing, so peaceful an\n",
      "NEXT CHUNK\n",
      "\n",
      "d beautiful to human ears, are siren calls and cries of\n",
      "domination. A brilliantly musical bird is a small warrior proclaiming his\n",
      "sovereignty. Take the wren, for example, a small, feisty, insect-eating\n",
      "songbird common in North America. A newly arrived wren\n",
      "NEXT CHUNK\n",
      "\n",
      " wants a sheltered\n",
      "place to build a nest, away from the wind and rain. He wants it close to food,\n",
      "NEXT CHUNK\n",
      "\n"
     ]
    }
   ],
   "source": [
    "chunkSize = 256\n",
    "for page in chapter1:\n",
    "    text = page.extract_text()\n",
    "    chunks = [text[i:i+chunkSize] for i in range(0, len(text), chunkSize)]\n",
    "    for chunk in chunks:\n",
    "        print(chunk)\n",
    "        print(\"NEXT CHUNK\")\n",
    "        print()\n",
    "    break"
   ]
  },
  {
   "cell_type": "markdown",
   "metadata": {},
   "source": [
    "Simple enough, but this is splitting on words. It would probably be better to split on spaces."
   ]
  },
  {
   "cell_type": "code",
   "execution_count": 36,
   "metadata": {},
   "outputs": [],
   "source": [
    "page = chapter1[2].extract_text()"
   ]
  },
  {
   "cell_type": "code",
   "execution_count": 37,
   "metadata": {},
   "outputs": [
    {
     "name": "stdout",
     "output_type": "stream",
     "text": [
      "underwater,\n",
      "and\n",
      "are\n",
      "seldom\n",
      "served\n",
      "with\n",
      "butter.\n",
      "However,\n",
      "they\n",
      "are\n"
     ]
    }
   ],
   "source": [
    "words = page.split()\n",
    "len(words)\n",
    "for word in words[:10]:\n",
    "    print(word)"
   ]
  },
  {
   "cell_type": "code",
   "execution_count": 38,
   "metadata": {},
   "outputs": [],
   "source": [
    "wordCount = 16\n",
    "textBlock = [words[i:i+wordCount] for i in range(0, len(words), wordCount)]"
   ]
  },
  {
   "cell_type": "code",
   "execution_count": 39,
   "metadata": {},
   "outputs": [
    {
     "name": "stdout",
     "output_type": "stream",
     "text": [
      "underwater, and are seldom served with butter. However, they are also similar in important ways. Both \n"
     ]
    }
   ],
   "source": [
    "sentence = \"\"\n",
    "\n",
    "for word in textBlock[0]:\n",
    "    sentence += word + \" \"\n",
    "\n",
    "print(sentence)"
   ]
  },
  {
   "cell_type": "code",
   "execution_count": 40,
   "metadata": {},
   "outputs": [
    {
     "data": {
      "text/plain": [
       "['underwater,',\n",
       " 'and',\n",
       " 'are',\n",
       " 'seldom',\n",
       " 'served',\n",
       " 'with',\n",
       " 'butter.',\n",
       " 'However,',\n",
       " 'they',\n",
       " 'are',\n",
       " 'also',\n",
       " 'similar',\n",
       " 'in',\n",
       " 'important',\n",
       " 'ways.',\n",
       " 'Both']"
      ]
     },
     "execution_count": 40,
     "metadata": {},
     "output_type": "execute_result"
    }
   ],
   "source": [
    "textBlock[0]"
   ]
  },
  {
   "cell_type": "code",
   "execution_count": null,
   "metadata": {},
   "outputs": [],
   "source": []
  },
  {
   "cell_type": "code",
   "execution_count": null,
   "metadata": {},
   "outputs": [],
   "source": [
    "chunkSize = 256\n",
    "for page in chapter1:\n",
    "    text = page.extract_text()\n",
    "    words = text.split(' ')\n",
    "    for word in words:\n",
    "        \n",
    "  \n",
    "    break"
   ]
  },
  {
   "cell_type": "markdown",
   "metadata": {},
   "source": [
    "#### pdf miner six\n",
    "\n",
    "* https://github.com/pdfminer/pdfminer.six\n",
    "* https://pdfminersix.readthedocs.io/en/latest/\n",
    "* mamba install conda-forge::pdfminer.six"
   ]
  },
  {
   "cell_type": "code",
   "execution_count": 41,
   "metadata": {},
   "outputs": [
    {
     "data": {
      "text/plain": [
       "'20221105'"
      ]
     },
     "execution_count": 41,
     "metadata": {},
     "output_type": "execute_result"
    }
   ],
   "source": [
    "import pdfminer\n",
    "from pdfminer.high_level import extract_text\n",
    "from pdfminer.high_level import extract_pages\n",
    "pdfminer.__version__"
   ]
  },
  {
   "cell_type": "code",
   "execution_count": 42,
   "metadata": {},
   "outputs": [
    {
     "data": {
      "text/plain": [
       "['Jordan B. Peterson -12 Rules for Life_ An Antidote to Chaos.pdf',\n",
       " 'Jordan Peterson - Beyond Order_ 12 More Rules For Life.pdf']"
      ]
     },
     "execution_count": 42,
     "metadata": {},
     "output_type": "execute_result"
    }
   ],
   "source": [
    "pdfFiles"
   ]
  },
  {
   "cell_type": "code",
   "execution_count": 43,
   "metadata": {},
   "outputs": [
    {
     "data": {
      "text/plain": [
       "'../pdf/Jordan B. Peterson -12 Rules for Life_ An Antidote to Chaos.pdf'"
      ]
     },
     "execution_count": 43,
     "metadata": {},
     "output_type": "execute_result"
    }
   ],
   "source": [
    "pdfFile = pdfFolder + \"/\" +  pdfFiles[0]\n",
    "pdfFile\n",
    "# text = extract_text(pdfFile)\n",
    "# 7.8s  Beyond Order\n",
    "# 32.9s 12 Rules"
   ]
  },
  {
   "cell_type": "code",
   "execution_count": 44,
   "metadata": {},
   "outputs": [],
   "source": [
    "import pandas as pd\n",
    "pdfChapters = pd.DataFrame({'ChapterName' : pd.Series(dtype='str'), \n",
    "                            'ChapterText' : pd.Series(dtype='str')})"
   ]
  },
  {
   "cell_type": "code",
   "execution_count": 45,
   "metadata": {},
   "outputs": [],
   "source": [
    "for chapterName, pages in bookChapters.items():\n",
    "\n",
    "    spage = pages[0]\n",
    "    epage = pages[1]\n",
    "    pageNumbers = list(range(spage, epage + 1))\n",
    "\n",
    "    chapterText = extract_text(pdf_file= pdfFile, page_numbers=pageNumbers)\n",
    "    pdfChapters.loc[len(pdfChapters)] = [chapterName, chapterText] "
   ]
  },
  {
   "cell_type": "markdown",
   "metadata": {},
   "source": [
    "Validate every chapter contains the correct data."
   ]
  },
  {
   "cell_type": "code",
   "execution_count": 46,
   "metadata": {},
   "outputs": [
    {
     "name": "stdout",
     "output_type": "stream",
     "text": [
      "Forward\n",
      "START : Foreword\n",
      "\n",
      "Rules? More rules? Really? Isn’t life complicated enou\n",
      "END: ...at you hate,” “Do not hide things in the fog,” and so on. The\n",
      "\n",
      "\f\n",
      "----\n",
      "Overture\n",
      "START : Overture\n",
      "\n",
      "This book has a short history and a long history. We’l\n",
      "END: .... Peterson\n",
      "Clinical Psychologist and Professor of Psychology\n",
      "\n",
      "\f\f\n",
      "----\n",
      "RULE 1: Stand up straight with your shoulders back\n",
      "START : R U L E   1\n",
      "\n",
      "STAND UP STRAIGHT WITH YOUR\n",
      "SHOULDERS BACK\n",
      "\n",
      "LOBSTER\n",
      "END: ...actical wisdom. Stand up straight, with your shoulders back.\n",
      "\n",
      "\f\f\n",
      "----\n",
      "RULE 2: Treat yourself like someone you are responsible for helping\n",
      "START : R U L E   2\n",
      "\n",
      "TREAT YOURSELF LIKE SOMEONE YOU ARE\n",
      "RESPONSIBLE FOR\n",
      "END: ...lf as if you were someone you were\n",
      "\n",
      "responsible for helping.\n",
      "\n",
      "\f\f\n",
      "----\n",
      "RULE 3: Make friends with people who want the best for you\n",
      "START : R U L E   3\n",
      "\n",
      "MAKE FRIENDS WITH PEOPLE WHO WANT\n",
      "THE BEST FOR YOU\n",
      "\n",
      "END: ...d pity.\n",
      "\n",
      "Make friends with people who want the best for you.\n",
      "\n",
      "\f\f\n",
      "----\n",
      "RULE 4: Compare yourself to who you were yesterday,not to who someone else is today\n",
      "START : R U L E   4\n",
      "\n",
      "COMPARE YOURSELF TO WHO YOU WERE\n",
      "YESTERDAY, NOT TO \n",
      "END: ...o who you were yesterday, not to who someone else is\n",
      "\n",
      "today.\n",
      "\n",
      "\f\f\n",
      "----\n",
      "RULE 5: Do not let your children do anything that makes you disklike them\n",
      "START : R U L E   5\n",
      "\n",
      "DO NOT LET YOUR CHILDREN DO\n",
      "ANYTHING THAT MAKES YOU\n",
      "END: ...t let your children do anything that makes you dislike them.\n",
      "\n",
      "\f\f\n",
      "----\n",
      "RULE 6: Set your house in perfect order before you criticize the world\n",
      "START : R U L E   6\n",
      "\n",
      "SET YOUR HOUSE IN PERFECT ORDER\n",
      "BEFORE YOU CRITICIZ\n",
      "END: ... your house in perfect order before you criticize the world.\n",
      "\n",
      "\f\f\n",
      "----\n",
      "RULE 7: Pursue what is meaningful (not what is expedient)\n",
      "START : R U L E   7\n",
      "\n",
      "PURSUE WHAT IS MEANINGFUL (NOT WHAT\n",
      "IS EXPEDIENT)\n",
      "\n",
      "\n",
      "END: ...ecisely that.\n",
      "\n",
      "Do what is meaningful, not what is expedient.\n",
      "\n",
      "\f\f\n",
      "----\n",
      "RULE 8: Tell the truth - or, at least, don't lie\n",
      "START : R U L E   8\n",
      "\n",
      "TELL THE TRUTH—OR, AT LEAST, DON’T LIE\n",
      "\n",
      "TRUTH IN NO\n",
      "END: ...makes it Paradise.\n",
      "\n",
      "Tell the truth. Or, at least, don’t lie.\n",
      "\n",
      "\f\f\n",
      "----\n",
      "RULE 9: Assume that the person you are listening to might know something you don't\n",
      "START : R U L E   9\n",
      "\n",
      "ASSUME THAT THE PERSON YOU ARE\n",
      "LISTENING TO MIGHT K\n",
      "END: ...person you are listening to might know something you\n",
      "\n",
      "don’t.\n",
      "\n",
      "\f\f\n",
      "----\n",
      "RULE 10: Be precise in your speech\n",
      "START : R U L E   1 0\n",
      "\n",
      "BE PRECISE IN YOUR SPEECH\n",
      "\n",
      "WHY IS MY LAPTOP OBSOL\n",
      "END: ... and move forward,\n",
      "forthrightly.\n",
      "\n",
      "Be precise in your speech.\n",
      "\n",
      "\f\f\n",
      "----\n",
      "RULE 11: Do not bother children when they are skateboarding\n",
      "START : R U L E   11\n",
      "\n",
      "DO NOT BOTHER CHILDREN WHEN THEY\n",
      "ARE SKATEBOARDING\n",
      "END: ...pable of.\n",
      "\n",
      "Leave children alone when they are skateboarding.\n",
      "\n",
      "\f\f\n",
      "----\n",
      "RULE 12: Pet a cat when you encounter one on the street\n",
      "START : R U L E   1 2\n",
      "\n",
      "PET A CAT WHEN YOU ENCOUNTER ONE ON\n",
      "THE STREET\n",
      "\n",
      "D\n",
      "END: ... after\n",
      "my wife’s departed mother.\n",
      "\n",
      "Things are good.\n",
      "For now.\n",
      "\n",
      "\f\f\n",
      "----\n",
      "Coda\n",
      "START : Coda\n",
      "\n",
      "WHAT SHALL I DO WITH MY NEWFOUND PEN OF LIGHT?\n",
      "\n",
      "In late 20\n",
      "END: ...ion of the escape circuit of\n",
      "crayfish.”Science, 271, 366–369.\n",
      "\n",
      "\f\n",
      "----\n"
     ]
    }
   ],
   "source": [
    "for index, row in pdfChapters.iterrows():\n",
    "\n",
    "    title = row['ChapterName']\n",
    "    text = row['ChapterText']\n",
    "    print(title)\n",
    "    print(\"START : \" + text[:64])\n",
    "    print(\"END: ...\" + text[-64:])\n",
    "    print('----')\n"
   ]
  },
  {
   "cell_type": "markdown",
   "metadata": {},
   "source": [
    "Let's save the datafrrame to a csv file."
   ]
  },
  {
   "cell_type": "code",
   "execution_count": 47,
   "metadata": {},
   "outputs": [],
   "source": [
    "pdfChapters.to_csv(dataFolder + '/12RulesChapters.csv')"
   ]
  },
  {
   "cell_type": "code",
   "execution_count": null,
   "metadata": {},
   "outputs": [],
   "source": [
    "from pdfminer.high_level import extract_pages\n",
    "for page_layout in extract_pages(pdfFile):\n",
    "    for element in page_layout:\n",
    "        print(element)\n",
    "        \n",
    "# 8.2s"
   ]
  },
  {
   "cell_type": "code",
   "execution_count": null,
   "metadata": {},
   "outputs": [],
   "source": [
    "from pdfminer.high_level import extract_pages\n",
    "from pdfminer.layout import LTTextContainer\n",
    "for page_layout in extract_pages(pdfFile):\n",
    "    for element in page_layout:\n",
    "        if isinstance(element, LTTextContainer):\n",
    "            print(element.get_text())"
   ]
  },
  {
   "cell_type": "markdown",
   "metadata": {},
   "source": [
    "The next two cells are from [How to resolve the target page of ToC entries](https://pdfminersix.readthedocs.io/en/latest/howto/toc_target_page.html)"
   ]
  },
  {
   "cell_type": "code",
   "execution_count": null,
   "metadata": {},
   "outputs": [],
   "source": [
    "from enum import Enum, auto\n",
    "from pathlib import Path\n",
    "from typing import Any, Optional\n",
    "from pdfminer.pdfdocument import PDFDocument, PDFNoOutlines\n",
    "from pdfminer.pdfpage import PDFPage, LITERAL_PAGE\n",
    "from pdfminer.pdfparser import PDFParser, PDFSyntaxError\n",
    "from pdfminer.pdftypes import PDFObjRef\n",
    "\n",
    "\n",
    "class PDFRefType(Enum):\n",
    "    \"\"\"PDF reference type.\"\"\"\n",
    "\n",
    "    PDF_OBJ_REF = auto()\n",
    "    DICTIONARY = auto()\n",
    "    LIST = auto()\n",
    "    NAMED_REF = auto()\n",
    "    UNK = auto()  # fallback\n",
    "\n",
    "\n",
    "class RefPageNumberResolver:\n",
    "    \"\"\"PDF Reference to page number resolver.\n",
    "\n",
    "    .. note::\n",
    "\n",
    "       Remote Go-To Actions (see 12.6.4.3 in\n",
    "       `https://www.adobe.com/go/pdfreference/`__)\n",
    "       are out of the scope of this resolver.\n",
    "\n",
    "    Attributes:\n",
    "        document (:obj:`pdfminer.pdfdocument.PDFDocument`):\n",
    "            The document that contains the references.\n",
    "        objid_to_pagenum (:obj:`dict[int, int]`):\n",
    "            Mapping from an object id to the number of the page that contains\n",
    "            that object.\n",
    "    \"\"\"\n",
    "\n",
    "    def __init__(self, document: PDFDocument):\n",
    "        self.document = document\n",
    "        # obj_id -> page_number\n",
    "        self.objid_to_pagenum: dict[int, int] = {\n",
    "            page.pageid: page_num\n",
    "            for page_num, page in enumerate(PDFPage.create_pages(document), 1)\n",
    "        }\n",
    "\n",
    "    @classmethod\n",
    "    def get_ref_type(cls, ref: Any) -> PDFRefType:\n",
    "        \"\"\"Get the type of a PDF reference.\"\"\"\n",
    "        if isinstance(ref, PDFObjRef):\n",
    "            return PDFRefType.PDF_OBJ_REF\n",
    "        elif isinstance(ref, dict) and \"D\" in ref:\n",
    "            return PDFRefType.DICTIONARY\n",
    "        elif isinstance(ref, list) and any(isinstance(e, PDFObjRef) for e in ref):\n",
    "            return PDFRefType.LIST\n",
    "        elif isinstance(ref, bytes):\n",
    "            return PDFRefType.NAMED_REF\n",
    "        else:\n",
    "            return PDFRefType.UNK\n",
    "\n",
    "    @classmethod\n",
    "    def is_ref_page(cls, ref: Any) -> bool:\n",
    "        \"\"\"Check whether a reference is of type '/Page'.\n",
    "\n",
    "        Args:\n",
    "            ref (:obj:`Any`):\n",
    "                The PDF reference.\n",
    "\n",
    "        Returns:\n",
    "            :obj:`bool`: :obj:`True` if the reference references\n",
    "            a page, :obj:`False` otherwise.\n",
    "        \"\"\"\n",
    "        return isinstance(ref, dict) and \"Type\" in ref and ref[\"Type\"] is LITERAL_PAGE\n",
    "\n",
    "    def resolve(self, ref: Any) -> Optional[int]:\n",
    "        \"\"\"Resolve a PDF reference to a page number recursively.\n",
    "\n",
    "        Args:\n",
    "            ref (:obj:`Any`):\n",
    "                The PDF reference.\n",
    "\n",
    "        Returns:\n",
    "            :obj:`Optional[int]`: The page number or :obj:`None`\n",
    "            if the reference could not be resolved (e.g., remote Go-To\n",
    "            Actions or malformed references).\n",
    "        \"\"\"\n",
    "        ref_type = self.get_ref_type(ref)\n",
    "\n",
    "        if ref_type is PDFRefType.PDF_OBJ_REF and self.is_ref_page(ref.resolve()):\n",
    "            return self.objid_to_pagenum.get(ref.objid)\n",
    "        elif ref_type is PDFRefType.PDF_OBJ_REF:\n",
    "            return self.resolve(ref.resolve())\n",
    "\n",
    "        if ref_type is PDFRefType.DICTIONARY:\n",
    "            return self.resolve(ref[\"D\"])\n",
    "\n",
    "        if ref_type is PDFRefType.LIST:\n",
    "            # Get the PDFObjRef in the list (usually first element).\n",
    "            return self.resolve(next(filter(lambda e: isinstance(e, PDFObjRef), ref)))\n",
    "\n",
    "        if ref_type is PDFRefType.NAMED_REF:\n",
    "            return self.resolve(self.document.get_dest(ref))\n",
    "\n",
    "        return None  # PDFRefType.UNK"
   ]
  },
  {
   "cell_type": "code",
   "execution_count": null,
   "metadata": {},
   "outputs": [],
   "source": [
    "def print_outlines(file: str) -> dict[int, int]:\n",
    "    \n",
    "    \"\"\"Pretty print the outlines (ToC) of a PDF document.\"\"\"\n",
    "\n",
    "    with open(file, \"rb\") as fp:\n",
    "        try:\n",
    "            \n",
    "            parser = PDFParser(fp)\n",
    "            document = PDFDocument(parser)\n",
    "\n",
    "            ref_pagenum_resolver = RefPageNumberResolver(document)\n",
    "\n",
    "            outlines = list(document.get_outlines())\n",
    "\n",
    "            if not outlines:\n",
    "                print(\"No outlines found.\")\n",
    "            for (level, title, dest, a, se) in outlines:\n",
    "                if dest:\n",
    "                    page_num = ref_pagenum_resolver.resolve(dest)\n",
    "                elif a:\n",
    "                    page_num = ref_pagenum_resolver.resolve(a)\n",
    "                elif se:\n",
    "                    page_num = ref_pagenum_resolver.resolve(se)\n",
    "                else:\n",
    "                    page_num = None\n",
    "\n",
    "                # Calculate leading spaces and filling dots for formatting.\n",
    "                leading_spaces = (level-1) * 4\n",
    "                fill_dots = 80 - len(title) - leading_spaces\n",
    "\n",
    "                print(\n",
    "                    f\"{' ' * leading_spaces}\"\n",
    "                    f\"{title}\",\n",
    "                    f\"{'.' * fill_dots}\",\n",
    "                    f\"{page_num:>3}\"\n",
    "                )\n",
    "        except PDFNoOutlines:\n",
    "            print(\"No outlines found.\")\n",
    "        except PDFSyntaxError:\n",
    "            print(\"Corrupted PDF or non-PDF file.\")\n",
    "        finally:\n",
    "            try:\n",
    "                parser.close()\n",
    "            except NameError:\n",
    "                pass  # nothing to do"
   ]
  },
  {
   "cell_type": "code",
   "execution_count": null,
   "metadata": {},
   "outputs": [],
   "source": [
    "print_outlines(pdfFile)"
   ]
  },
  {
   "cell_type": "code",
   "execution_count": null,
   "metadata": {},
   "outputs": [],
   "source": [
    "pages = extract_pages(pdf_file = pdfFile)"
   ]
  },
  {
   "cell_type": "code",
   "execution_count": null,
   "metadata": {},
   "outputs": [],
   "source": [
    "pages = extract_pages(pdf_file = pdfFile, page_numbers=[0,10000])\n",
    "pages"
   ]
  },
  {
   "cell_type": "code",
   "execution_count": null,
   "metadata": {},
   "outputs": [],
   "source": [
    "\n",
    "extract_text(pdf_file = pdfFile, page_numbers=[30,32])"
   ]
  },
  {
   "cell_type": "code",
   "execution_count": null,
   "metadata": {},
   "outputs": [],
   "source": [
    "extract_text(pdf_file = pdfFile, page_numbers=[24,25])"
   ]
  },
  {
   "cell_type": "code",
   "execution_count": null,
   "metadata": {},
   "outputs": [],
   "source": [
    "# https://stackoverflow.com/questions/25665/python-module-for-converting-pdf-to-text\n",
    "def pdf_to_csv(filename):\n",
    "    from cStringIO import StringIO  #<-- added so you can copy/paste this to try it\n",
    "    from pdfminer.converter import LTTextItem, TextConverter\n",
    "    from pdfminer.pdfparser import PDFDocument, PDFParser\n",
    "    from pdfminer.pdfinterp import PDFResourceManager, PDFPageInterpreter\n",
    "\n",
    "    class CsvConverter(TextConverter):\n",
    "        def __init__(self, *args, **kwargs):\n",
    "            TextConverter.__init__(self, *args, **kwargs)\n",
    "\n",
    "        def end_page(self, i):\n",
    "            from collections import defaultdict\n",
    "            lines = defaultdict(lambda : {})\n",
    "            for child in self.cur_item.objs:\n",
    "                if isinstance(child, LTTextItem):\n",
    "                    (_,_,x,y) = child.bbox                   #<-- changed\n",
    "                    line = lines[int(-y)]\n",
    "                    line[x] = child.text.encode(self.codec)  #<-- changed\n",
    "\n",
    "            for y in sorted(lines.keys()):\n",
    "                line = lines[y]\n",
    "                self.outfp.write(\";\".join(line[x] for x in sorted(line.keys())))\n",
    "                self.outfp.write(\"\\n\")\n",
    "\n",
    "    # ... the following part of the code is a remix of the \n",
    "    # convert() function in the pdfminer/tools/pdf2text module\n",
    "    rsrc = PDFResourceManager()\n",
    "    outfp = StringIO()\n",
    "    device = CsvConverter(rsrc, outfp, codec=\"utf-8\")  #<-- changed \n",
    "        # becuase my test documents are utf-8 (note: utf-8 is the default codec)\n",
    "\n",
    "    doc = PDFDocument()\n",
    "    fp = open(filename, 'rb')\n",
    "    parser = PDFParser(fp)       #<-- changed\n",
    "    parser.set_document(doc)     #<-- added\n",
    "    doc.set_parser(parser)       #<-- added\n",
    "    doc.initialize('')\n",
    "\n",
    "    interpreter = PDFPageInterpreter(rsrc, device)\n",
    "\n",
    "    for i, page in enumerate(doc.get_pages()):\n",
    "        outfp.write(\"START PAGE %d\\n\" % i)\n",
    "        interpreter.process_page(page)\n",
    "        outfp.write(\"END PAGE %d\\n\" % i)\n",
    "\n",
    "    device.close()\n",
    "    fp.close()\n",
    "\n",
    "    return outfp.getvalue()"
   ]
  }
 ],
 "metadata": {
  "kernelspec": {
   "display_name": "mls2",
   "language": "python",
   "name": "python3"
  },
  "language_info": {
   "codemirror_mode": {
    "name": "ipython",
    "version": 3
   },
   "file_extension": ".py",
   "mimetype": "text/x-python",
   "name": "python",
   "nbconvert_exporter": "python",
   "pygments_lexer": "ipython3",
   "version": "3.11.7"
  }
 },
 "nbformat": 4,
 "nbformat_minor": 2
}
