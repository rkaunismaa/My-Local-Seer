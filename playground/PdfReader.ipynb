{
 "cells": [
  {
   "cell_type": "markdown",
   "metadata": {},
   "source": [
    "#### Sunday, February 11, 2024\n",
    "\n",
    "Continuing to work through the issues of creating embeddings from the text of a pdf file.\n",
    "\n",
    "#### Saturday, February 10, 2024\n",
    "\n",
    "How do I load a pdf file, and then extract the text from it?"
   ]
  },
  {
   "cell_type": "markdown",
   "metadata": {},
   "source": [
    "#### Libraries to consider:\n",
    "\n",
    "* [pypdf](https://github.com/py-pdf/PyPDF) \n",
    "* [pdfminer.six](https://github.com/pdfminer/pdfminer.six)\n",
    "* [pdfplumber](https://github.com/jsvine/pdfplumber) "
   ]
  },
  {
   "cell_type": "code",
   "execution_count": 1,
   "metadata": {},
   "outputs": [],
   "source": [
    "import os \n",
    "\n",
    "pdfFolder = \"../data\""
   ]
  },
  {
   "cell_type": "code",
   "execution_count": 2,
   "metadata": {},
   "outputs": [],
   "source": [
    "def list_files_in_folder(folder_path):\n",
    "    # Get the list of files in the specified folder\n",
    "    files = os.listdir(folder_path)\n",
    "\n",
    "    # Filter out subdirectories, leaving only files\n",
    "    files = [f for f in files if os.path.isfile(os.path.join(folder_path, f))]\n",
    "\n",
    "    return files"
   ]
  },
  {
   "cell_type": "code",
   "execution_count": 3,
   "metadata": {},
   "outputs": [],
   "source": [
    "pdfFiles = list_files_in_folder(pdfFolder)"
   ]
  },
  {
   "cell_type": "code",
   "execution_count": 4,
   "metadata": {},
   "outputs": [
    {
     "name": "stdout",
     "output_type": "stream",
     "text": [
      "Jordan B. Peterson -12 Rules for Life_ An Antidote to Chaos.pdf\n",
      "Jordan Peterson - Beyond Order_ 12 More Rules For Life.pdf\n"
     ]
    }
   ],
   "source": [
    "for file_name in pdfFiles:\n",
    "    print(file_name)"
   ]
  },
  {
   "cell_type": "markdown",
   "metadata": {},
   "source": [
    "#### pypdf\n",
    "\n",
    "* https://github.com/py-pdf/PyPDF\n",
    "* https://pypdf.readthedocs.io/en/latest/\n",
    "* mamba install conda-forge::pypdf "
   ]
  },
  {
   "cell_type": "code",
   "execution_count": 5,
   "metadata": {},
   "outputs": [],
   "source": [
    "from pypdf import PdfReader"
   ]
  },
  {
   "cell_type": "code",
   "execution_count": 6,
   "metadata": {},
   "outputs": [
    {
     "name": "stdout",
     "output_type": "stream",
     "text": [
      "../data/Jordan B. Peterson -12 Rules for Life_ An Antidote to Chaos.pdf\n"
     ]
    }
   ],
   "source": [
    "pdfFile = pdfFolder +  \"/\" + pdfFiles[0]\n",
    "print(pdfFile)"
   ]
  },
  {
   "cell_type": "code",
   "execution_count": 7,
   "metadata": {},
   "outputs": [],
   "source": [
    "reader = PdfReader(pdfFile)"
   ]
  },
  {
   "cell_type": "markdown",
   "metadata": {},
   "source": [
    "### 12 Rules for Life - An Antidote to Chaos\n",
    "\n",
    "Extract the text from every chapter of the book into individual objects.\n",
    "\n",
    "There does not seem to be any obvious way to automatically extract the page numbers from each chapter, so I am just gonna manually determine that.\n"
   ]
  },
  {
   "cell_type": "markdown",
   "metadata": {},
   "source": [
    "#### 1) Identify the start and end pages for every chapter"
   ]
  },
  {
   "cell_type": "code",
   "execution_count": 8,
   "metadata": {},
   "outputs": [],
   "source": [
    "# A helper function to validate the chapters start and end page values\n",
    "def validateChapter(chapter):\n",
    "\n",
    "    limit = 256\n",
    "    start = chapter[0].extract_text()\n",
    "    end = chapter[len(chapter)-1].extract_text()\n",
    "    print(\"*** START ***\")\n",
    "    print(start[:limit])\n",
    "    print(\"...\")\n",
    "    print(\"*** End ***\")\n",
    "    print(end[-limit:])"
   ]
  },
  {
   "cell_type": "markdown",
   "metadata": {},
   "source": [
    "##### Forward"
   ]
  },
  {
   "cell_type": "code",
   "execution_count": null,
   "metadata": {},
   "outputs": [],
   "source": [
    "forward = reader.pages[4:19]\n",
    "validateChapter(forward)"
   ]
  },
  {
   "cell_type": "markdown",
   "metadata": {},
   "source": [
    "##### Overture"
   ]
  },
  {
   "cell_type": "code",
   "execution_count": null,
   "metadata": {},
   "outputs": [],
   "source": [
    "overture = reader.pages[19:28]\n",
    "validateChapter(overture)"
   ]
  },
  {
   "cell_type": "markdown",
   "metadata": {},
   "source": [
    "##### Chapter 1"
   ]
  },
  {
   "cell_type": "code",
   "execution_count": null,
   "metadata": {},
   "outputs": [],
   "source": [
    "chapter1 = reader.pages[30:56]\n",
    "validateChapter(chapter1)"
   ]
  },
  {
   "cell_type": "markdown",
   "metadata": {},
   "source": [
    "##### Chapter 2"
   ]
  },
  {
   "cell_type": "code",
   "execution_count": null,
   "metadata": {},
   "outputs": [],
   "source": [
    "chapter2 = reader.pages[59:89]\n",
    "validateChapter(chapter2)\n"
   ]
  },
  {
   "cell_type": "markdown",
   "metadata": {},
   "source": [
    "##### Chapter 3"
   ]
  },
  {
   "cell_type": "code",
   "execution_count": null,
   "metadata": {},
   "outputs": [],
   "source": [
    "chapter3 = reader.pages[92:107]\n",
    "validateChapter(chapter3)"
   ]
  },
  {
   "cell_type": "markdown",
   "metadata": {},
   "source": [
    "##### Chapter 4"
   ]
  },
  {
   "cell_type": "code",
   "execution_count": null,
   "metadata": {},
   "outputs": [],
   "source": [
    "chapter4 = reader.pages[109:133]\n",
    "validateChapter(chapter4)"
   ]
  },
  {
   "cell_type": "markdown",
   "metadata": {},
   "source": [
    "##### Chapter 5"
   ]
  },
  {
   "cell_type": "code",
   "execution_count": null,
   "metadata": {},
   "outputs": [],
   "source": [
    "chapter5 = reader.pages[135:165]\n",
    "validateChapter(chapter5)"
   ]
  },
  {
   "cell_type": "markdown",
   "metadata": {},
   "source": [
    "##### Chapter 6"
   ]
  },
  {
   "cell_type": "code",
   "execution_count": null,
   "metadata": {},
   "outputs": [],
   "source": [
    "chapter6 = reader.pages[168:180]\n",
    "validateChapter(chapter6)"
   ]
  },
  {
   "cell_type": "markdown",
   "metadata": {},
   "source": [
    "##### Chapter 7"
   ]
  },
  {
   "cell_type": "code",
   "execution_count": null,
   "metadata": {},
   "outputs": [],
   "source": [
    "chapter7 = reader.pages[182:219]\n",
    "validateChapter(chapter7)"
   ]
  },
  {
   "cell_type": "markdown",
   "metadata": {},
   "source": [
    "##### Chapter 8"
   ]
  },
  {
   "cell_type": "code",
   "execution_count": null,
   "metadata": {},
   "outputs": [],
   "source": [
    "chapter8 = reader.pages[221:246]\n",
    "validateChapter(chapter8)"
   ]
  },
  {
   "cell_type": "markdown",
   "metadata": {},
   "source": [
    "##### Chapter 9"
   ]
  },
  {
   "cell_type": "code",
   "execution_count": null,
   "metadata": {},
   "outputs": [],
   "source": [
    "chapter9 = reader.pages[249:270]\n",
    "validateChapter(chapter9)"
   ]
  },
  {
   "cell_type": "markdown",
   "metadata": {},
   "source": [
    "##### Chapter 10"
   ]
  },
  {
   "cell_type": "code",
   "execution_count": null,
   "metadata": {},
   "outputs": [],
   "source": [
    "chapter10 = reader.pages[273:295]\n",
    "validateChapter(chapter10)"
   ]
  },
  {
   "cell_type": "markdown",
   "metadata": {},
   "source": [
    "##### Chapter 11"
   ]
  },
  {
   "cell_type": "code",
   "execution_count": null,
   "metadata": {},
   "outputs": [],
   "source": [
    "chapter11 = reader.pages[297:340]\n",
    "validateChapter(chapter11)"
   ]
  },
  {
   "cell_type": "markdown",
   "metadata": {},
   "source": [
    "##### Chapter 12"
   ]
  },
  {
   "cell_type": "code",
   "execution_count": null,
   "metadata": {},
   "outputs": [],
   "source": [
    "chapter12 = reader.pages[343:360]\n",
    "validateChapter(chapter12)"
   ]
  },
  {
   "cell_type": "markdown",
   "metadata": {},
   "source": [
    "##### Coda"
   ]
  },
  {
   "cell_type": "code",
   "execution_count": null,
   "metadata": {},
   "outputs": [],
   "source": [
    "coda = reader.pages[361:373]\n",
    "validateChapter(coda)"
   ]
  },
  {
   "cell_type": "markdown",
   "metadata": {},
   "source": [
    "Now that we have manually identified the start and end pages of every chapter, let's put those values into a dictionary object then write a simple function to read the text from the PDF file."
   ]
  },
  {
   "cell_type": "code",
   "execution_count": 32,
   "metadata": {},
   "outputs": [],
   "source": [
    "bookChapters = { \"Forward\" : [4,19],\n",
    "                 \"Overture\": [19, 28],\n",
    "                 \"RULE 1: Stand up straight with your shoulders back\" : [30, 56],\n",
    "                 \"RULE 2: Treat yourself like someone you are responsible for helping\" : [59,89],\n",
    "                 \"RULE 3: Make friends with people who want the best for you\" : [92, 107],\n",
    "                 \"RULE 4: Compare yourself to who you were yesterday,not to who someone else is today\" : [109, 133],\n",
    "                 \"RULE 5: Do not let your children do anything that makes you disklike them\" : [135,165],\n",
    "                 \"RULE 6: Set your house in perfect order before you criticize the world\" : [168, 180],\n",
    "                 \"RULE 7: Pursue what is meaningful (not what is expedient)\" : [182, 219],\n",
    "                 \"RULE 8: Tell the truth - or, at least, don't lie\" : [221, 246],\n",
    "                 \"RULE 9: Assume that the person you are listening to might know something you don't\" : [249, 270],\n",
    "                 \"RULE 10: Be precise in your speech\" : [273, 295],\n",
    "                 \"RULE 11: Do not bother children when they are skateboarding\" : [297, 340],\n",
    "                 \"RULE 12: Pet a cat when you encounter one on the street\" : [343, 360],\n",
    "                 \"Coda\" : [361, 373]\n",
    "                }"
   ]
  },
  {
   "cell_type": "markdown",
   "metadata": {},
   "source": [
    "#### 2) Tokenize the Text\n",
    "\n",
    "Now that we know how to read the text, the next step would be to tokenize it."
   ]
  },
  {
   "cell_type": "markdown",
   "metadata": {},
   "source": [
    "##### HuggingFace Sentence Transformers"
   ]
  },
  {
   "cell_type": "code",
   "execution_count": 35,
   "metadata": {},
   "outputs": [],
   "source": [
    "# https://huggingface.co/sentence-transformers/all-mpnet-base-v2\n",
    "from sentence_transformers import SentenceTransformer\n",
    "sentences = [\"This is an example sentence\", \"Each sentence is converted\"]\n",
    "\n",
    "model = SentenceTransformer('sentence-transformers/all-mpnet-base-v2')\n"
   ]
  },
  {
   "cell_type": "code",
   "execution_count": 36,
   "metadata": {},
   "outputs": [
    {
     "name": "stdout",
     "output_type": "stream",
     "text": [
      "[[ 0.02250259 -0.07829171 -0.02303074 ... -0.00827929  0.02652689\n",
      "  -0.00201898]\n",
      " [ 0.04170233  0.00109744 -0.0155342  ... -0.02181628 -0.0635936\n",
      "  -0.00875288]]\n"
     ]
    }
   ],
   "source": [
    "# This does not just tokenize the text, it also generates the embeddings\n",
    "embeddings = model.encode(sentences)\n",
    "print(embeddings)"
   ]
  },
  {
   "cell_type": "markdown",
   "metadata": {},
   "source": [
    "Let's try tokenizing every page from chapter 1 of the book."
   ]
  },
  {
   "cell_type": "code",
   "execution_count": 37,
   "metadata": {},
   "outputs": [
    {
     "data": {
      "text/plain": [
       "26"
      ]
     },
     "execution_count": 37,
     "metadata": {},
     "output_type": "execute_result"
    }
   ],
   "source": [
    "len(chapter1)"
   ]
  },
  {
   "cell_type": "code",
   "execution_count": 42,
   "metadata": {},
   "outputs": [],
   "source": [
    "for page in chapter1:\n",
    "    text = page.extract_text()\n",
    "    # print(text[:64])\n",
    "    # print()\n",
    "    embeddings = model.encode(text)\n",
    "    "
   ]
  },
  {
   "cell_type": "markdown",
   "metadata": {},
   "source": [
    "OK, that seemed simple enough. What about if we embed the text in chunks of a given length?"
   ]
  },
  {
   "cell_type": "code",
   "execution_count": null,
   "metadata": {},
   "outputs": [],
   "source": [
    "chunkSize = 256\n",
    "for page in chapter1:\n",
    "    text = page.extract_text()\n",
    "    chunks = [text[i:i+chunkSize] for i in range(0, len(text), chunkSize)]\n",
    "    for chunk in chunks:\n",
    "        print(chunk)\n",
    "        print(\"NEXT CHUNK\")\n",
    "        print()\n",
    "    break"
   ]
  },
  {
   "cell_type": "markdown",
   "metadata": {},
   "source": [
    "Simple enough, but this is splitting on words. It would probably be better to split on spaces."
   ]
  },
  {
   "cell_type": "code",
   "execution_count": 50,
   "metadata": {},
   "outputs": [],
   "source": [
    "page = chapter1[2].extract_text()"
   ]
  },
  {
   "cell_type": "code",
   "execution_count": 54,
   "metadata": {},
   "outputs": [
    {
     "name": "stdout",
     "output_type": "stream",
     "text": [
      "underwater,\n",
      "and\n",
      "are\n",
      "seldom\n",
      "served\n",
      "with\n",
      "butter.\n",
      "However,\n",
      "they\n",
      "are\n"
     ]
    }
   ],
   "source": [
    "words = page.split()\n",
    "len(words)\n",
    "for word in words[:10]:\n",
    "    print(word)"
   ]
  },
  {
   "cell_type": "code",
   "execution_count": 61,
   "metadata": {},
   "outputs": [],
   "source": [
    "wordCount = 16\n",
    "textBlock = [words[i:i+wordCount] for i in range(0, len(words), wordCount)]"
   ]
  },
  {
   "cell_type": "code",
   "execution_count": 62,
   "metadata": {},
   "outputs": [
    {
     "name": "stdout",
     "output_type": "stream",
     "text": [
      "underwater, and are seldom served with butter. However, they are also similar in important ways. Both \n"
     ]
    }
   ],
   "source": [
    "sentence = \"\"\n",
    "\n",
    "for word in textBlock[0]:\n",
    "    sentence += word + \" \"\n",
    "\n",
    "print(sentence)"
   ]
  },
  {
   "cell_type": "code",
   "execution_count": 56,
   "metadata": {},
   "outputs": [
    {
     "data": {
      "text/plain": [
       "['underwater,',\n",
       " 'and',\n",
       " 'are',\n",
       " 'seldom',\n",
       " 'served',\n",
       " 'with',\n",
       " 'butter.',\n",
       " 'However,',\n",
       " 'they',\n",
       " 'are',\n",
       " 'also',\n",
       " 'similar',\n",
       " 'in',\n",
       " 'important',\n",
       " 'ways.',\n",
       " 'Both',\n",
       " 'are',\n",
       " 'obsessed',\n",
       " 'with',\n",
       " 'status',\n",
       " 'and',\n",
       " 'position,',\n",
       " 'for',\n",
       " 'example,',\n",
       " 'like',\n",
       " 'a',\n",
       " 'great',\n",
       " 'many',\n",
       " 'creatures.',\n",
       " 'The',\n",
       " 'Norwegian',\n",
       " 'zoologist',\n",
       " 'and',\n",
       " 'comparative',\n",
       " 'psychologist',\n",
       " 'Thorlief',\n",
       " 'Schjelderup-Ebbe',\n",
       " 'observed',\n",
       " '(back',\n",
       " 'in',\n",
       " '1921)',\n",
       " 'that',\n",
       " 'even',\n",
       " 'common',\n",
       " 'barnyard',\n",
       " 'chickens',\n",
       " 'establish',\n",
       " 'a',\n",
       " '“pecking',\n",
       " 'order.”',\n",
       " '3',\n",
       " 'The',\n",
       " 'determination',\n",
       " 'of',\n",
       " 'Who’s',\n",
       " 'Who',\n",
       " 'in',\n",
       " 'the',\n",
       " 'chicken',\n",
       " 'world',\n",
       " 'has',\n",
       " 'important',\n",
       " 'implications',\n",
       " 'for',\n",
       " 'each',\n",
       " 'individual',\n",
       " 'bird’s',\n",
       " 'survival,',\n",
       " 'particularly',\n",
       " 'in',\n",
       " 'times',\n",
       " 'of',\n",
       " 'scarcity.',\n",
       " 'The',\n",
       " 'birds',\n",
       " 'that',\n",
       " 'always',\n",
       " 'have',\n",
       " 'priority',\n",
       " 'access',\n",
       " 'to',\n",
       " 'whatever',\n",
       " 'food',\n",
       " 'is',\n",
       " 'sprinkled',\n",
       " 'out',\n",
       " 'in',\n",
       " 'the',\n",
       " 'yard',\n",
       " 'in',\n",
       " 'the',\n",
       " 'morning',\n",
       " 'are',\n",
       " 'the',\n",
       " 'celebrity',\n",
       " 'chickens.',\n",
       " 'After',\n",
       " 'them',\n",
       " 'come',\n",
       " 'the',\n",
       " 'second-stringers,',\n",
       " 'the',\n",
       " 'hangers-on',\n",
       " 'and',\n",
       " 'wannabes.',\n",
       " 'Then',\n",
       " 'the',\n",
       " 'third-rate',\n",
       " 'chickens',\n",
       " 'have',\n",
       " 'their',\n",
       " 'turn,',\n",
       " 'and',\n",
       " 'so',\n",
       " 'on,',\n",
       " 'down',\n",
       " 'to',\n",
       " 'the',\n",
       " 'bedraggled,',\n",
       " 'partially-feathered',\n",
       " 'and',\n",
       " 'badly-pecked',\n",
       " 'wretches',\n",
       " 'who',\n",
       " 'occupy',\n",
       " 'the',\n",
       " 'lowest,',\n",
       " 'untouchable',\n",
       " 'stratum',\n",
       " 'of',\n",
       " 'the',\n",
       " 'chicken',\n",
       " 'hierarchy.',\n",
       " 'Chickens,',\n",
       " 'like',\n",
       " 'suburbanites,',\n",
       " 'live',\n",
       " 'communally.',\n",
       " 'Songbirds,',\n",
       " 'such',\n",
       " 'as',\n",
       " 'wrens,',\n",
       " 'do',\n",
       " 'not,',\n",
       " 'but',\n",
       " 'they',\n",
       " 'still',\n",
       " 'inhabit',\n",
       " 'a',\n",
       " 'dominance',\n",
       " 'hierarchy.',\n",
       " 'It’s',\n",
       " 'just',\n",
       " 'spread',\n",
       " 'out',\n",
       " 'over',\n",
       " 'more',\n",
       " 'territory.',\n",
       " 'The',\n",
       " 'wiliest,',\n",
       " 'strongest,',\n",
       " 'healthiest',\n",
       " 'and',\n",
       " 'most',\n",
       " 'fortunate',\n",
       " 'birds',\n",
       " 'occupy',\n",
       " 'prime',\n",
       " 'territory,',\n",
       " 'and',\n",
       " 'defend',\n",
       " 'it.',\n",
       " 'Because',\n",
       " 'of',\n",
       " 'this,',\n",
       " 'they',\n",
       " 'are',\n",
       " 'more',\n",
       " 'likely',\n",
       " 'to',\n",
       " 'attract',\n",
       " 'high-quality',\n",
       " 'mates,',\n",
       " 'and',\n",
       " 'to',\n",
       " 'hatch',\n",
       " 'chicks',\n",
       " 'who',\n",
       " 'survive',\n",
       " 'and',\n",
       " 'thrive.',\n",
       " 'Protection',\n",
       " 'from',\n",
       " 'wind,',\n",
       " 'rain',\n",
       " 'and',\n",
       " 'predators,',\n",
       " 'as',\n",
       " 'well',\n",
       " 'as',\n",
       " 'easy',\n",
       " 'access',\n",
       " 'to',\n",
       " 'superior',\n",
       " 'food,',\n",
       " 'makes',\n",
       " 'for',\n",
       " 'a',\n",
       " 'much',\n",
       " 'less',\n",
       " 'stressed',\n",
       " 'existence.',\n",
       " 'Territory',\n",
       " 'matters,',\n",
       " 'and',\n",
       " 'there',\n",
       " 'is',\n",
       " 'little',\n",
       " 'difference',\n",
       " 'between',\n",
       " 'territorial',\n",
       " 'rights',\n",
       " 'and',\n",
       " 'social',\n",
       " 'status.',\n",
       " 'It',\n",
       " 'is',\n",
       " 'often',\n",
       " 'a',\n",
       " 'matter',\n",
       " 'of',\n",
       " 'life',\n",
       " 'and',\n",
       " 'death.',\n",
       " 'If',\n",
       " 'a',\n",
       " 'contagious',\n",
       " 'avian',\n",
       " 'disease',\n",
       " 'sweeps',\n",
       " 'through',\n",
       " 'a',\n",
       " 'neighbourhood',\n",
       " 'of',\n",
       " 'well-',\n",
       " 'stratified',\n",
       " 'songbirds,',\n",
       " 'it',\n",
       " 'is',\n",
       " 'the',\n",
       " 'least',\n",
       " 'dominant',\n",
       " 'and',\n",
       " 'most',\n",
       " 'stressed',\n",
       " 'birds,']"
      ]
     },
     "execution_count": 56,
     "metadata": {},
     "output_type": "execute_result"
    }
   ],
   "source": [
    "textBlock[0]"
   ]
  },
  {
   "cell_type": "code",
   "execution_count": null,
   "metadata": {},
   "outputs": [],
   "source": []
  },
  {
   "cell_type": "code",
   "execution_count": null,
   "metadata": {},
   "outputs": [],
   "source": [
    "chunkSize = 256\n",
    "for page in chapter1:\n",
    "    text = page.extract_text()\n",
    "    words = text.split(' ')\n",
    "    for word in words:\n",
    "        \n",
    "  \n",
    "    break"
   ]
  },
  {
   "cell_type": "markdown",
   "metadata": {},
   "source": [
    "#### pdf miner six\n",
    "\n",
    "* https://github.com/pdfminer/pdfminer.six\n",
    "* https://pdfminersix.readthedocs.io/en/latest/\n",
    "* mamba install conda-forge::pdfminer.six"
   ]
  },
  {
   "cell_type": "code",
   "execution_count": 28,
   "metadata": {},
   "outputs": [
    {
     "data": {
      "text/plain": [
       "'20231228'"
      ]
     },
     "execution_count": 28,
     "metadata": {},
     "output_type": "execute_result"
    }
   ],
   "source": [
    "import pdfminer\n",
    "from pdfminer.high_level import extract_text\n",
    "from pdfminer.high_level import extract_pages\n",
    "pdfminer.__version__"
   ]
  },
  {
   "cell_type": "code",
   "execution_count": 34,
   "metadata": {},
   "outputs": [
    {
     "data": {
      "text/plain": [
       "'../data/Jordan B. Peterson -12 Rules for Life_ An Antidote to Chaos.pdf'"
      ]
     },
     "execution_count": 34,
     "metadata": {},
     "output_type": "execute_result"
    }
   ],
   "source": [
    "pdfFile"
   ]
  },
  {
   "cell_type": "code",
   "execution_count": 35,
   "metadata": {},
   "outputs": [],
   "source": [
    "text = extract_text(pdfFile)\n",
    "# 7.8s  Beyond Order\n",
    "# 32.9s 12 Rules"
   ]
  },
  {
   "cell_type": "code",
   "execution_count": null,
   "metadata": {},
   "outputs": [],
   "source": [
    "print(repr(text))"
   ]
  },
  {
   "cell_type": "code",
   "execution_count": null,
   "metadata": {},
   "outputs": [],
   "source": [
    "print(text)"
   ]
  },
  {
   "cell_type": "code",
   "execution_count": null,
   "metadata": {},
   "outputs": [],
   "source": [
    "from pdfminer.high_level import extract_pages\n",
    "for page_layout in extract_pages(pdfFile):\n",
    "    for element in page_layout:\n",
    "        print(element)\n",
    "        \n",
    "# 8.2s"
   ]
  },
  {
   "cell_type": "code",
   "execution_count": null,
   "metadata": {},
   "outputs": [],
   "source": [
    "from pdfminer.high_level import extract_pages\n",
    "from pdfminer.layout import LTTextContainer\n",
    "for page_layout in extract_pages(pdfFile):\n",
    "    for element in page_layout:\n",
    "        if isinstance(element, LTTextContainer):\n",
    "            print(element.get_text())"
   ]
  },
  {
   "cell_type": "markdown",
   "metadata": {},
   "source": [
    "The next two cells are from [How to resolve the target page of ToC entries](https://pdfminersix.readthedocs.io/en/latest/howto/toc_target_page.html)"
   ]
  },
  {
   "cell_type": "code",
   "execution_count": 30,
   "metadata": {},
   "outputs": [],
   "source": [
    "from enum import Enum, auto\n",
    "from pathlib import Path\n",
    "from typing import Any, Optional\n",
    "from pdfminer.pdfdocument import PDFDocument, PDFNoOutlines\n",
    "from pdfminer.pdfpage import PDFPage, LITERAL_PAGE\n",
    "from pdfminer.pdfparser import PDFParser, PDFSyntaxError\n",
    "from pdfminer.pdftypes import PDFObjRef\n",
    "\n",
    "\n",
    "class PDFRefType(Enum):\n",
    "    \"\"\"PDF reference type.\"\"\"\n",
    "\n",
    "    PDF_OBJ_REF = auto()\n",
    "    DICTIONARY = auto()\n",
    "    LIST = auto()\n",
    "    NAMED_REF = auto()\n",
    "    UNK = auto()  # fallback\n",
    "\n",
    "\n",
    "class RefPageNumberResolver:\n",
    "    \"\"\"PDF Reference to page number resolver.\n",
    "\n",
    "    .. note::\n",
    "\n",
    "       Remote Go-To Actions (see 12.6.4.3 in\n",
    "       `https://www.adobe.com/go/pdfreference/`__)\n",
    "       are out of the scope of this resolver.\n",
    "\n",
    "    Attributes:\n",
    "        document (:obj:`pdfminer.pdfdocument.PDFDocument`):\n",
    "            The document that contains the references.\n",
    "        objid_to_pagenum (:obj:`dict[int, int]`):\n",
    "            Mapping from an object id to the number of the page that contains\n",
    "            that object.\n",
    "    \"\"\"\n",
    "\n",
    "    def __init__(self, document: PDFDocument):\n",
    "        self.document = document\n",
    "        # obj_id -> page_number\n",
    "        self.objid_to_pagenum: dict[int, int] = {\n",
    "            page.pageid: page_num\n",
    "            for page_num, page in enumerate(PDFPage.create_pages(document), 1)\n",
    "        }\n",
    "\n",
    "    @classmethod\n",
    "    def get_ref_type(cls, ref: Any) -> PDFRefType:\n",
    "        \"\"\"Get the type of a PDF reference.\"\"\"\n",
    "        if isinstance(ref, PDFObjRef):\n",
    "            return PDFRefType.PDF_OBJ_REF\n",
    "        elif isinstance(ref, dict) and \"D\" in ref:\n",
    "            return PDFRefType.DICTIONARY\n",
    "        elif isinstance(ref, list) and any(isinstance(e, PDFObjRef) for e in ref):\n",
    "            return PDFRefType.LIST\n",
    "        elif isinstance(ref, bytes):\n",
    "            return PDFRefType.NAMED_REF\n",
    "        else:\n",
    "            return PDFRefType.UNK\n",
    "\n",
    "    @classmethod\n",
    "    def is_ref_page(cls, ref: Any) -> bool:\n",
    "        \"\"\"Check whether a reference is of type '/Page'.\n",
    "\n",
    "        Args:\n",
    "            ref (:obj:`Any`):\n",
    "                The PDF reference.\n",
    "\n",
    "        Returns:\n",
    "            :obj:`bool`: :obj:`True` if the reference references\n",
    "            a page, :obj:`False` otherwise.\n",
    "        \"\"\"\n",
    "        return isinstance(ref, dict) and \"Type\" in ref and ref[\"Type\"] is LITERAL_PAGE\n",
    "\n",
    "    def resolve(self, ref: Any) -> Optional[int]:\n",
    "        \"\"\"Resolve a PDF reference to a page number recursively.\n",
    "\n",
    "        Args:\n",
    "            ref (:obj:`Any`):\n",
    "                The PDF reference.\n",
    "\n",
    "        Returns:\n",
    "            :obj:`Optional[int]`: The page number or :obj:`None`\n",
    "            if the reference could not be resolved (e.g., remote Go-To\n",
    "            Actions or malformed references).\n",
    "        \"\"\"\n",
    "        ref_type = self.get_ref_type(ref)\n",
    "\n",
    "        if ref_type is PDFRefType.PDF_OBJ_REF and self.is_ref_page(ref.resolve()):\n",
    "            return self.objid_to_pagenum.get(ref.objid)\n",
    "        elif ref_type is PDFRefType.PDF_OBJ_REF:\n",
    "            return self.resolve(ref.resolve())\n",
    "\n",
    "        if ref_type is PDFRefType.DICTIONARY:\n",
    "            return self.resolve(ref[\"D\"])\n",
    "\n",
    "        if ref_type is PDFRefType.LIST:\n",
    "            # Get the PDFObjRef in the list (usually first element).\n",
    "            return self.resolve(next(filter(lambda e: isinstance(e, PDFObjRef), ref)))\n",
    "\n",
    "        if ref_type is PDFRefType.NAMED_REF:\n",
    "            return self.resolve(self.document.get_dest(ref))\n",
    "\n",
    "        return None  # PDFRefType.UNK"
   ]
  },
  {
   "cell_type": "code",
   "execution_count": 31,
   "metadata": {},
   "outputs": [],
   "source": [
    "def print_outlines(file: str) -> dict[int, int]:\n",
    "    \n",
    "    \"\"\"Pretty print the outlines (ToC) of a PDF document.\"\"\"\n",
    "\n",
    "    with open(file, \"rb\") as fp:\n",
    "        try:\n",
    "            \n",
    "            parser = PDFParser(fp)\n",
    "            document = PDFDocument(parser)\n",
    "\n",
    "            ref_pagenum_resolver = RefPageNumberResolver(document)\n",
    "\n",
    "            outlines = list(document.get_outlines())\n",
    "\n",
    "            if not outlines:\n",
    "                print(\"No outlines found.\")\n",
    "            for (level, title, dest, a, se) in outlines:\n",
    "                if dest:\n",
    "                    page_num = ref_pagenum_resolver.resolve(dest)\n",
    "                elif a:\n",
    "                    page_num = ref_pagenum_resolver.resolve(a)\n",
    "                elif se:\n",
    "                    page_num = ref_pagenum_resolver.resolve(se)\n",
    "                else:\n",
    "                    page_num = None\n",
    "\n",
    "                # Calculate leading spaces and filling dots for formatting.\n",
    "                leading_spaces = (level-1) * 4\n",
    "                fill_dots = 80 - len(title) - leading_spaces\n",
    "\n",
    "                print(\n",
    "                    f\"{' ' * leading_spaces}\"\n",
    "                    f\"{title}\",\n",
    "                    f\"{'.' * fill_dots}\",\n",
    "                    f\"{page_num:>3}\"\n",
    "                )\n",
    "        except PDFNoOutlines:\n",
    "            print(\"No outlines found.\")\n",
    "        except PDFSyntaxError:\n",
    "            print(\"Corrupted PDF or non-PDF file.\")\n",
    "        finally:\n",
    "            try:\n",
    "                parser.close()\n",
    "            except NameError:\n",
    "                pass  # nothing to do"
   ]
  },
  {
   "cell_type": "code",
   "execution_count": 36,
   "metadata": {},
   "outputs": [
    {
     "name": "stdout",
     "output_type": "stream",
     "text": [
      "Title Page ......................................................................   3\n",
      "Foreword ........................................................................   5\n",
      "Overture ........................................................................  20\n",
      "‌RULE 1: Stand up straight with your shoulders back .............................  30\n",
      "‌RULE 2: Treat yourself like someone you are responsible for helping ............  59\n",
      "‌RULE 3: Make friends with people who want the best for you .....................  92\n",
      "‌RULE 4: Compare yourself to who you were yesterday, not to who someone else is today  109\n",
      "‌RULE 5: Do not let your children do anything that makes you dislike them ....... 135\n",
      "‌RULE 6: Set your house in perfect order before you criticize the world ......... 168\n",
      "‌RULE 7: Pursue what is meaningful (not what is expedient) ...................... 182\n",
      "‌RULE 8: Tell the truth—or, at least, don’t lie ................................. 221\n",
      "‌RULE 9: Assume that the person you are listening to might know something you don’t  249\n",
      "‌RULE 10: Be precise in your speech ............................................. 273\n",
      "‌RULE 11: Do not bother children when they are skateboarding .................... 297\n",
      "‌RULE 12: Pet a cat when you encounter one on the street ........................ 343\n",
      "‌Coda ........................................................................... 361\n",
      "‌Endnotes ....................................................................... 374\n",
      "Acknowledgements ................................................................ 395\n",
      "Follow Penguin .................................................................. 397\n",
      "Copyright Page .................................................................. 399\n"
     ]
    }
   ],
   "source": [
    "print_outlines(pdfFile)"
   ]
  },
  {
   "cell_type": "code",
   "execution_count": 40,
   "metadata": {},
   "outputs": [],
   "source": [
    "pages = extract_pages(pdf_file = pdfFile)"
   ]
  },
  {
   "cell_type": "code",
   "execution_count": 45,
   "metadata": {},
   "outputs": [
    {
     "data": {
      "text/plain": [
       "<generator object extract_pages at 0x7f94c070b760>"
      ]
     },
     "execution_count": 45,
     "metadata": {},
     "output_type": "execute_result"
    }
   ],
   "source": [
    "pages = extract_pages(pdf_file = pdfFile, page_numbers=[0,10000])\n",
    "pages"
   ]
  },
  {
   "cell_type": "code",
   "execution_count": 39,
   "metadata": {},
   "outputs": [
    {
     "data": {
      "text/plain": [
       "'R U L E   1\\n\\nSTAND UP STRAIGHT WITH YOUR\\nSHOULDERS BACK\\n\\nLOBSTERS—AND TERRITORY\\n\\nIf you are like most people, you don’t often think about lobsters2—unless\\nyou’re eating one. However, these interesting and delicious crustaceans are\\nvery much worth considering. Their nervous systems are comparatively\\nsimple, with large, easily observable neurons, the magic cells of the brain.\\nBecause of this, scientists have been able to map the neural circuitry of\\nlobsters very accurately. This has helped us understand the structure and\\nfunction of the brain and behaviour of more complex animals, including\\nhuman beings. Lobsters have more in common with you than you might think\\n(particularly when you are feeling crabby—ha ha).\\n\\nLobsters live on the ocean floor. They need a home base down there, a\\nrange within which they hunt for prey and scavenge around for stray edible\\nbits and pieces of whatever rains down from the continual chaos of carnage\\nand death far above. They want somewhere secure, where the hunting and the\\ngathering is good. They want a home.\\n\\nThis can present a problem, since there are many lobsters. What if two of\\nthem occupy the same territory, at the bottom of the ocean, at the same time,\\nand both want to live there? What if there are hundreds of lobsters, all trying\\nto make a living and raise a family, in the same crowded patch of sand and\\nrefuse?\\n\\nOther creatures have this problem, too. When songbirds come north in the\\nspring, for example, they engage in ferocious territorial disputes. The songs\\nthey sing, so peaceful and beautiful to human ears, are siren calls and cries of\\ndomination. A brilliantly musical bird is a small warrior proclaiming his\\nsovereignty. Take the wren, for example, a small, feisty, insect-eating\\nsongbird common in North America. A newly arrived wren wants a sheltered\\nplace to build a nest, away from the wind and rain. He wants it close to food,\\n\\n\\x0cunderwater, and are seldom served with butter. However, they are also\\nsimilar in important ways. Both are obsessed with status and position, for\\nexample, like a great many creatures. The Norwegian zoologist and\\ncomparative psychologist Thorlief Schjelderup-Ebbe observed (back in 1921)\\nthat even common barnyard chickens establish a “pecking order.”3\\n\\nThe determination of Who’s Who in the chicken world has important\\nimplications for each individual bird’s survival, particularly in times of\\nscarcity. The birds that always have priority access to whatever food is\\nsprinkled out in the yard in the morning are the celebrity chickens. After\\nthem come the second-stringers, the hangers-on and wannabes. Then the\\nthird-rate chickens have their turn, and so on, down to the bedraggled,\\npartially-feathered and badly-pecked wretches who occupy the lowest,\\nuntouchable stratum of the chicken hierarchy.\\n\\nChickens, like suburbanites, live communally. Songbirds, such as wrens,\\ndo not, but they still inhabit a dominance hierarchy. It’s just spread out over\\nmore territory. The wiliest, strongest, healthiest and most fortunate birds\\noccupy prime territory, and defend it. Because of this, they are more likely to\\nattract high-quality mates, and to hatch chicks who survive and thrive.\\nProtection from wind, rain and predators, as well as easy access to superior\\nfood, makes for a much less stressed existence. Territory matters, and there is\\nlittle difference between territorial rights and social status. It is often a matter\\nof life and death.\\n\\nIf a contagious avian disease sweeps through a neighbourhood of well-\\n\\nstratified songbirds, it is the least dominant and most stressed birds,\\noccupying the lowest rungs of the bird world, who are most likely to sicken\\nand die.4 This is equally true of human neighbourhoods, when bird flu viruses\\nand other illnesses sweep across the planet. The poor and stressed always die\\nfirst, and in greater numbers. They are also much more susceptible to non-\\ninfectious diseases, such as cancer, diabetes and heart disease. When the\\naristocracy catches a cold, as it is said, the working class dies of pneumonia.\\nBecause territory matters, and because the best locales are always in short\\nsupply, territory-seeking among animals produces conflict. Conflict, in turn,\\nproduces another problem: how to win or lose without the disagreeing parties\\nincurring too great a cost. This latter point is particularly important. Imagine\\nthat two birds engage in a squabble about a desirable nesting area. The\\n\\n\\x0c'"
      ]
     },
     "execution_count": 39,
     "metadata": {},
     "output_type": "execute_result"
    }
   ],
   "source": [
    "\n",
    "extract_text(pdf_file = pdfFile, page_numbers=[30,32])"
   ]
  },
  {
   "cell_type": "code",
   "execution_count": 25,
   "metadata": {},
   "outputs": [
    {
     "data": {
      "text/plain": [
       "'well, so that we may organize our otherwise inchoate bodily\\nreactions, motivations, and emotions into something articulate and\\norganized, and dispense with those concerns that are exaggerated\\nand irrational. We need to talk—both to remember and to forget.\\nMy client desperately needed someone to listen to him. He also\\nneeded to be fully part of additional, larger, and more complex social\\ngroups—something he planned in our sessions together, and then\\ncarried out on his own. Had he fallen prey to the temptation to\\ndenigrate the value of interpersonal interactions and relationships\\nbecause of his history of isolation and harsh treatment, he would\\nhave had very little chance of regaining his health and well-being.\\nInstead, he learned the ropes and joined the world.\\n\\n\\x00\\x00\\x00\\x00\\x00\\x00 \\x00\\x00 \\x00 \\x00\\x00\\x00\\x00\\x00\\x00 \\x00\\x00\\x00\\x00\\x00\\x00\\x00\\x00\\x00\\x00\\x00\\n\\nFor Drs. Sigmund Freud and Carl Jung, the great depth\\npsychologists, sanity was a characteristic of the individual mind.\\nPeople were well-adjusted, in their views, when the subpersonalities\\nexisting within each of them were properly integrated and balanced\\nin expression. The id, the instinctive part of the psyche (from the\\nGerman “it,” representing nature, in all its power and foreignness,\\ninside us); the superego (the sometimes oppressive, internalized\\nrepresentative of social order); and the ego (the I, the personality\\nproper, crushed between those two necessary tyrants)—all had their\\nspecialized functions for Freud, who first conceptualized their\\nexistence. Id, ego, and superego interacted with each other like the\\nexecutive, legislative, and judicial branches of a modern government.\\nJung, although profoundly influenced by Freud, parsed the\\ncomplexity of the psyche in a different manner. For him, the ego of\\nthe individual had to find its proper place in relationship to the\\nshadow (the dark side of the personality), the anima or animus (the\\ncontrasexual and thus often repressed side of the personality), and\\nthe self (the internal being of ideal possibility). But all these different\\nsubentities, Jungian and Freudian alike, share one thing in common:\\nthey exist in the interior of the person, regardless of his or her\\nsurroundings. People are social beings, however—par excellence—\\nand there is no shortage of wisdom and guidance outside of us,\\nembedded in the social world. Why rely on our own limited resources\\n\\n\\x0cto remember the road, or to orient ourselves in new territory, when\\nwe can rely on signs and guideposts placed there so effortfully by\\nothers? Freud and Jung, with their intense focus on the autonomous\\nindividual psyche, placed too little focus on the role of the\\ncommunity in the maintenance of personal mental health.\\n\\nIt is for such reasons that I assess the position of all my new\\nclinical clients along a few dimensions largely dependent on the\\nsocial world when I first start working with them: Have they been\\neducated to the level of their intellectual ability or ambition? Is their\\nuse of free time engaging, meaningful, and productive? Have they\\nformulated solid and well-articulated plans for the future? Are they\\n(and those they are close to) free of any serious physical health or\\neconomic problems? Do they have friends and a social life? A stable\\nand satisfying intimate partnership? Close and functional familial\\nrelationships? A career—or, at least, a job—that is financially\\nsufficient, stable and, if possible, a source of satisfaction and\\nopportunity? If the answer to any three or more of these questions is\\nno, I consider that my new client is insufficiently embedded in the\\ninterpersonal world and is in danger of spiraling downward\\npsychologically because of that. People exist among other people and\\nnot as purely individual minds. An individual does not have to be\\nthat well put together if he or she can remain at least minimally\\nacceptable in behavior to others. Simply put: We outsource the\\nproblem of sanity. People remain mentally healthy not merely\\nbecause of the integrity of their own minds, but because they are\\nconstantly being reminded how to think, act, and speak by those\\naround them.\\n\\nIf you begin to deviate from the straight and narrow path—if you\\nbegin to act improperly—people will react to your errors before they\\nbecome too great, and cajole, laugh, tap, and criticize you back into\\nplace. They will raise an eyebrow, or smile (or not), or pay attention\\n(or not). If other people can tolerate having you around, in other\\nwords, they will constantly remind you not to misbehave, and just as\\nconstantly call on you to be at your best. All that is left for you to do\\nis watch, listen, and respond appropriately to the cues. Then you\\nmight remain motivated, and able to stay together enough so that\\nyou will not begin the long journey downhill. This is reason enough\\nto appreciate your immersion in the world of other people—friends,\\n\\n\\x0c'"
      ]
     },
     "execution_count": 25,
     "metadata": {},
     "output_type": "execute_result"
    }
   ],
   "source": [
    "extract_text(pdf_file = pdfFile, page_numbers=[24,25])"
   ]
  },
  {
   "cell_type": "code",
   "execution_count": null,
   "metadata": {},
   "outputs": [],
   "source": [
    "# https://stackoverflow.com/questions/25665/python-module-for-converting-pdf-to-text\n",
    "def pdf_to_csv(filename):\n",
    "    from cStringIO import StringIO  #<-- added so you can copy/paste this to try it\n",
    "    from pdfminer.converter import LTTextItem, TextConverter\n",
    "    from pdfminer.pdfparser import PDFDocument, PDFParser\n",
    "    from pdfminer.pdfinterp import PDFResourceManager, PDFPageInterpreter\n",
    "\n",
    "    class CsvConverter(TextConverter):\n",
    "        def __init__(self, *args, **kwargs):\n",
    "            TextConverter.__init__(self, *args, **kwargs)\n",
    "\n",
    "        def end_page(self, i):\n",
    "            from collections import defaultdict\n",
    "            lines = defaultdict(lambda : {})\n",
    "            for child in self.cur_item.objs:\n",
    "                if isinstance(child, LTTextItem):\n",
    "                    (_,_,x,y) = child.bbox                   #<-- changed\n",
    "                    line = lines[int(-y)]\n",
    "                    line[x] = child.text.encode(self.codec)  #<-- changed\n",
    "\n",
    "            for y in sorted(lines.keys()):\n",
    "                line = lines[y]\n",
    "                self.outfp.write(\";\".join(line[x] for x in sorted(line.keys())))\n",
    "                self.outfp.write(\"\\n\")\n",
    "\n",
    "    # ... the following part of the code is a remix of the \n",
    "    # convert() function in the pdfminer/tools/pdf2text module\n",
    "    rsrc = PDFResourceManager()\n",
    "    outfp = StringIO()\n",
    "    device = CsvConverter(rsrc, outfp, codec=\"utf-8\")  #<-- changed \n",
    "        # becuase my test documents are utf-8 (note: utf-8 is the default codec)\n",
    "\n",
    "    doc = PDFDocument()\n",
    "    fp = open(filename, 'rb')\n",
    "    parser = PDFParser(fp)       #<-- changed\n",
    "    parser.set_document(doc)     #<-- added\n",
    "    doc.set_parser(parser)       #<-- added\n",
    "    doc.initialize('')\n",
    "\n",
    "    interpreter = PDFPageInterpreter(rsrc, device)\n",
    "\n",
    "    for i, page in enumerate(doc.get_pages()):\n",
    "        outfp.write(\"START PAGE %d\\n\" % i)\n",
    "        interpreter.process_page(page)\n",
    "        outfp.write(\"END PAGE %d\\n\" % i)\n",
    "\n",
    "    device.close()\n",
    "    fp.close()\n",
    "\n",
    "    return outfp.getvalue()"
   ]
  }
 ],
 "metadata": {
  "kernelspec": {
   "display_name": "mls2",
   "language": "python",
   "name": "python3"
  },
  "language_info": {
   "codemirror_mode": {
    "name": "ipython",
    "version": 3
   },
   "file_extension": ".py",
   "mimetype": "text/x-python",
   "name": "python",
   "nbconvert_exporter": "python",
   "pygments_lexer": "ipython3",
   "version": "3.11.7"
  }
 },
 "nbformat": 4,
 "nbformat_minor": 2
}
