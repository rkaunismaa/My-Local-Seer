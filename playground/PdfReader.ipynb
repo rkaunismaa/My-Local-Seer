{
 "cells": [
  {
   "cell_type": "markdown",
   "metadata": {},
   "source": [
    "#### Saturday, February 10, 2024\n",
    "\n",
    "How do I load a pdf file, and then extract the text from it?"
   ]
  },
  {
   "cell_type": "markdown",
   "metadata": {},
   "source": [
    "#### Libraries to consider:\n",
    "\n",
    "* [pypdf](https://github.com/py-pdf/PyPDF) \n",
    "* [pdfminer.six](https://github.com/pdfminer/pdfminer.six)\n",
    "* [pdfplumber](https://github.com/jsvine/pdfplumber) "
   ]
  },
  {
   "cell_type": "code",
   "execution_count": 1,
   "metadata": {},
   "outputs": [],
   "source": [
    "import os \n",
    "\n",
    "pdfFolder = \"../data\""
   ]
  },
  {
   "cell_type": "code",
   "execution_count": 2,
   "metadata": {},
   "outputs": [],
   "source": [
    "def list_files_in_folder(folder_path):\n",
    "    # Get the list of files in the specified folder\n",
    "    files = os.listdir(folder_path)\n",
    "\n",
    "    # Filter out subdirectories, leaving only files\n",
    "    files = [f for f in files if os.path.isfile(os.path.join(folder_path, f))]\n",
    "\n",
    "    return files"
   ]
  },
  {
   "cell_type": "code",
   "execution_count": 3,
   "metadata": {},
   "outputs": [],
   "source": [
    "pdfFiles = list_files_in_folder(pdfFolder)"
   ]
  },
  {
   "cell_type": "code",
   "execution_count": 4,
   "metadata": {},
   "outputs": [
    {
     "name": "stdout",
     "output_type": "stream",
     "text": [
      "Jordan B. Peterson -12 Rules for Life_ An Antidote to Chaos.pdf\n",
      "Jordan Peterson - Beyond Order_ 12 More Rules For Life.pdf\n"
     ]
    }
   ],
   "source": [
    "for file_name in pdfFiles:\n",
    "    print(file_name)"
   ]
  },
  {
   "cell_type": "markdown",
   "metadata": {},
   "source": [
    "#### pypdf\n",
    "\n",
    "* https://github.com/py-pdf/PyPDF\n",
    "* https://pypdf.readthedocs.io/en/latest/\n",
    "* mamba install conda-forge::pypdf "
   ]
  },
  {
   "cell_type": "code",
   "execution_count": 5,
   "metadata": {},
   "outputs": [],
   "source": [
    "from pypdf import PdfReader"
   ]
  },
  {
   "cell_type": "code",
   "execution_count": 6,
   "metadata": {},
   "outputs": [
    {
     "name": "stdout",
     "output_type": "stream",
     "text": [
      "../data/Jordan Peterson - Beyond Order_ 12 More Rules For Life.pdf\n"
     ]
    }
   ],
   "source": [
    "pdfFile = pdfFolder +  \"/\" + pdfFiles[1]\n",
    "print(pdfFile)"
   ]
  },
  {
   "cell_type": "code",
   "execution_count": 7,
   "metadata": {},
   "outputs": [],
   "source": [
    "reader = PdfReader(pdfFile)"
   ]
  },
  {
   "cell_type": "code",
   "execution_count": 8,
   "metadata": {},
   "outputs": [],
   "source": [
    "page = reader.pages[22:26]"
   ]
  },
  {
   "cell_type": "code",
   "execution_count": 10,
   "metadata": {},
   "outputs": [
    {
     "name": "stdout",
     "output_type": "stream",
     "text": [
      "\u0000\u0000\u0000\u0000 \u0000\n",
      "D O  N O T  C A R E L E S S L Y  D E N I G R A T E  S O C I A L\n",
      "I N S T I T U T I O N S  O R  C R E A T I V E  A C H I E V E M E N T\n",
      "\u0000\u0000\u0000\u0000\u0000\u0000\u0000\u0000\u0000\u0000 \u0000\u0000\u0000 \u0000\u0000\u0000\u0000\u0000\u0000\u0000\u0000\u0000\n",
      "For years, I saw a client who lived by himself. *  He was isolated in\n",
      "many other ways in addition to his living situation. He had extremely\n",
      "limited family ties. Both of his daughters had moved out of the\n",
      "country, and did not maintain much contact, and he had no other\n",
      "relatives except a father and sister from whom he was estranged. His\n",
      "wife and the mother of his children had passed away years ago, and\n",
      "the sole relationship he endeavored to establish while he saw me\n",
      "over the course of more than a decade and a half terminated\n",
      "tragically when his new partner was killed in an automobile accident.\n",
      "When we began to work together, our conversations were\n",
      "decidedly awkward. He was not accustomed to the subtleties of social\n",
      "interaction, so his behaviors, verbal and nonverbal, lacked the dance-\n",
      "like rhythm and harmony that characterize the socially fluent. As a\n",
      "child, he had been thoroughly ignored as well as actively discouraged\n",
      "by both parents. His father—mostly absent—was neglectful and\n",
      "sadistic in his inclinations, while his mother was chronically\n",
      "alcoholic. He had also been consistently tormented and harassed at\n",
      "school, and had not chanced upon a teacher in all his years of\n",
      "education who paid him any genuine attention. These experiences\n",
      "left my client with a proclivity toward depression, or at least\n",
      "worsened what might have been a biological tendency in that\n",
      "direction. He was, in consequence, abrupt, irritable, and somewhat\n",
      "volatile if he felt misunderstood or was unexpectedly interrupted\n",
      "during a conversation. Such reactions helped ensure that his\n"
     ]
    }
   ],
   "source": [
    "print(page[0].extract_text())"
   ]
  },
  {
   "cell_type": "code",
   "execution_count": 9,
   "metadata": {},
   "outputs": [
    {
     "name": "stdout",
     "output_type": "stream",
     "text": [
      "targeting by bullies continued into his adult life, particularly in his\n",
      "place of work.\n",
      "I soon noticed, however, that things worked out quite well during\n",
      "our sessions if I kept mostly quiet. He would drop in, weekly or\n",
      "biweekly, and talk about what had befallen and preoccupied him\n",
      "during the previous seven to fourteen days. If I maintained silence\n",
      "for the first fifty minutes of our one-hour sessions, listening intently,\n",
      "then we could converse, in a relatively normal, reciprocal manner,\n",
      "for the remaining ten minutes. This pattern continued for more than\n",
      "a decade, as I learned, increasingly, to hold my tongue (something\n",
      "that does not come easily to me). As the years passed, however, I\n",
      "noticed that the proportion of time he spent discussing negative\n",
      "issues with me decreased. Our conversation—his monologue, really—\n",
      "had always started with what was bothering him, and rarely\n",
      "progressed past that. But he worked hard outside our sessions,\n",
      "cultivating friends, attending artistic gatherings and music festivals,\n",
      "and resurrecting a long-dormant talent for composing songs and\n",
      "playing the guitar. As he became more social, he began to generate\n",
      "solutions to the problems he communicated to me, and to discuss, in\n",
      "the latter portion of the hours we shared, some of the more positive\n",
      "aspects of his existence. It was slow going, but he made continual\n",
      "incremental progress. When he first came to see me, we could not sit\n",
      "together at a table in a coffee shop—or, indeed, in any public space—\n",
      "and practice anything resembling a real-world conversation without\n",
      "his being paralyzed into absolute silence. By the time we finished, he\n",
      "was reading his original poetry in front of small groups, and had\n",
      "even tried his hand at stand-up comedy.\n",
      "He was the best personal and practical exemplar of something I\n",
      "had come to realize over my more than twenty years of psychological\n",
      "practice: people depend on constant communication with others to\n",
      "keep their minds organized. We all need to think to keep things\n",
      "straight, but we mostly think by talking. We need to talk about the\n",
      "past, so we can distinguish the trivial, overblown concerns that\n",
      "otherwise plague our thoughts from the experiences that are truly\n",
      "important. We need to talk about the nature of the present and our\n",
      "plans for the future, so we know where we are, where we are going,\n",
      "and why we are going there. We must submit the strategies and\n",
      "tactics we formulate to the judgments of others, to ensure their\n",
      "efficiency and resilience. We need to listen to ourselves as we talk, as\n"
     ]
    }
   ],
   "source": [
    "print(page[1].extract_text())"
   ]
  },
  {
   "cell_type": "code",
   "execution_count": null,
   "metadata": {},
   "outputs": [],
   "source": [
    "print(page[2].extract_text())"
   ]
  },
  {
   "cell_type": "code",
   "execution_count": null,
   "metadata": {},
   "outputs": [],
   "source": [
    "for page in reader.pages:\n",
    "    if \"/Annots\" in page:\n",
    "        for annot in page[\"/Annots\"]:\n",
    "            obj = annot.get_object()\n",
    "            annotation = {\"subtype\": obj[\"/Subtype\"], \"location\": obj[\"/Rect\"]}\n",
    "            print(annotation)"
   ]
  },
  {
   "cell_type": "code",
   "execution_count": 12,
   "metadata": {},
   "outputs": [],
   "source": [
    "for page in reader.pages:\n",
    "    if \"/Annots\" in page:\n",
    "        for annot in page[\"/Annots\"]:\n",
    "            subtype = annot.get_object()[\"/Subtype\"]\n",
    "            if subtype == \"/Text\":\n",
    "                print(annot.get_object()[\"/Contents\"])"
   ]
  },
  {
   "cell_type": "code",
   "execution_count": 13,
   "metadata": {},
   "outputs": [],
   "source": [
    "for page in reader.pages:\n",
    "    if \"/Annots\" in page:\n",
    "        for annot in page[\"/Annots\"]:\n",
    "            subtype = annot.get_object()[\"/Subtype\"]\n",
    "            if subtype == \"/Highlight\":\n",
    "                coords = annot.get_object()[\"/QuadPoints\"]\n",
    "                x1, y1, x2, y2, x3, y3, x4, y4 = coords"
   ]
  },
  {
   "cell_type": "code",
   "execution_count": null,
   "metadata": {},
   "outputs": [],
   "source": [
    "page.extract_text(extraction_mode=\"layout\", layout_mode_debug_path=\"debug2\")"
   ]
  },
  {
   "cell_type": "code",
   "execution_count": null,
   "metadata": {},
   "outputs": [],
   "source": [
    "# extract text in a fixed width format that closely adheres to the rendered\n",
    "# layout in the source pdf\n",
    "print(page.extract_text(extraction_mode=\"layout\"))"
   ]
  },
  {
   "cell_type": "code",
   "execution_count": null,
   "metadata": {},
   "outputs": [],
   "source": [
    "# extract text preserving horizontal positioning without excess vertical\n",
    "# whitespace (removes blank and \"whitespace only\" lines)\n",
    "print(page.extract_text(extraction_mode=\"layout\", layout_mode_space_vertically=False))"
   ]
  },
  {
   "cell_type": "code",
   "execution_count": null,
   "metadata": {},
   "outputs": [],
   "source": [
    "# adjust horizontal spacing\n",
    "print(page.extract_text(extraction_mode=\"layout\", layout_mode_scale_weight=1.0))"
   ]
  },
  {
   "cell_type": "code",
   "execution_count": null,
   "metadata": {},
   "outputs": [],
   "source": [
    "# exclude (default) or include (as shown below) text rotated w.r.t. the page\n",
    "print(page.extract_text(extraction_mode=\"layout\", layout_mode_strip_rotated=False))"
   ]
  },
  {
   "cell_type": "code",
   "execution_count": null,
   "metadata": {},
   "outputs": [],
   "source": [
    "page = reader.pages[31]\n",
    "print(page.extract_text())"
   ]
  },
  {
   "cell_type": "markdown",
   "metadata": {},
   "source": [
    "#### pdf miner six\n",
    "\n",
    "* https://github.com/pdfminer/pdfminer.six\n",
    "* https://pdfminersix.readthedocs.io/en/latest/\n",
    "* mamba install conda-forge::pdfminer.six"
   ]
  },
  {
   "cell_type": "code",
   "execution_count": 27,
   "metadata": {},
   "outputs": [
    {
     "data": {
      "text/plain": [
       "'20231228'"
      ]
     },
     "execution_count": 27,
     "metadata": {},
     "output_type": "execute_result"
    }
   ],
   "source": [
    "import pdfminer\n",
    "from pdfminer.high_level import extract_text\n",
    "from pdfminer.high_level import extract_pages\n",
    "pdfminer.__version__"
   ]
  },
  {
   "cell_type": "code",
   "execution_count": 12,
   "metadata": {},
   "outputs": [
    {
     "data": {
      "text/plain": [
       "'../data/Jordan Peterson - Beyond Order_ 12 More Rules For Life.pdf'"
      ]
     },
     "execution_count": 12,
     "metadata": {},
     "output_type": "execute_result"
    }
   ],
   "source": [
    "pdfFile"
   ]
  },
  {
   "cell_type": "code",
   "execution_count": 13,
   "metadata": {},
   "outputs": [],
   "source": [
    "text = extract_text(pdfFile)\n",
    "# 7.8s"
   ]
  },
  {
   "cell_type": "code",
   "execution_count": null,
   "metadata": {},
   "outputs": [],
   "source": [
    "print(repr(text))"
   ]
  },
  {
   "cell_type": "code",
   "execution_count": null,
   "metadata": {},
   "outputs": [],
   "source": [
    "print(text)"
   ]
  },
  {
   "cell_type": "code",
   "execution_count": null,
   "metadata": {},
   "outputs": [],
   "source": [
    "from pdfminer.high_level import extract_pages\n",
    "for page_layout in extract_pages(pdfFile):\n",
    "    for element in page_layout:\n",
    "        print(element)\n",
    "        \n",
    "# 8.2s"
   ]
  },
  {
   "cell_type": "code",
   "execution_count": null,
   "metadata": {},
   "outputs": [],
   "source": [
    "from pdfminer.high_level import extract_pages\n",
    "from pdfminer.layout import LTTextContainer\n",
    "for page_layout in extract_pages(pdfFile):\n",
    "    for element in page_layout:\n",
    "        if isinstance(element, LTTextContainer):\n",
    "            print(element.get_text())"
   ]
  },
  {
   "cell_type": "markdown",
   "metadata": {},
   "source": [
    "The next two cells are from [How to resolve the target page of ToC entries](https://pdfminersix.readthedocs.io/en/latest/howto/toc_target_page.html)"
   ]
  },
  {
   "cell_type": "code",
   "execution_count": 14,
   "metadata": {},
   "outputs": [],
   "source": [
    "from enum import Enum, auto\n",
    "from pathlib import Path\n",
    "from typing import Any, Optional\n",
    "from pdfminer.pdfdocument import PDFDocument, PDFNoOutlines\n",
    "from pdfminer.pdfpage import PDFPage, LITERAL_PAGE\n",
    "from pdfminer.pdfparser import PDFParser, PDFSyntaxError\n",
    "from pdfminer.pdftypes import PDFObjRef\n",
    "\n",
    "\n",
    "class PDFRefType(Enum):\n",
    "    \"\"\"PDF reference type.\"\"\"\n",
    "\n",
    "    PDF_OBJ_REF = auto()\n",
    "    DICTIONARY = auto()\n",
    "    LIST = auto()\n",
    "    NAMED_REF = auto()\n",
    "    UNK = auto()  # fallback\n",
    "\n",
    "\n",
    "class RefPageNumberResolver:\n",
    "    \"\"\"PDF Reference to page number resolver.\n",
    "\n",
    "    .. note::\n",
    "\n",
    "       Remote Go-To Actions (see 12.6.4.3 in\n",
    "       `https://www.adobe.com/go/pdfreference/`__)\n",
    "       are out of the scope of this resolver.\n",
    "\n",
    "    Attributes:\n",
    "        document (:obj:`pdfminer.pdfdocument.PDFDocument`):\n",
    "            The document that contains the references.\n",
    "        objid_to_pagenum (:obj:`dict[int, int]`):\n",
    "            Mapping from an object id to the number of the page that contains\n",
    "            that object.\n",
    "    \"\"\"\n",
    "\n",
    "    def __init__(self, document: PDFDocument):\n",
    "        self.document = document\n",
    "        # obj_id -> page_number\n",
    "        self.objid_to_pagenum: dict[int, int] = {\n",
    "            page.pageid: page_num\n",
    "            for page_num, page in enumerate(PDFPage.create_pages(document), 1)\n",
    "        }\n",
    "\n",
    "    @classmethod\n",
    "    def get_ref_type(cls, ref: Any) -> PDFRefType:\n",
    "        \"\"\"Get the type of a PDF reference.\"\"\"\n",
    "        if isinstance(ref, PDFObjRef):\n",
    "            return PDFRefType.PDF_OBJ_REF\n",
    "        elif isinstance(ref, dict) and \"D\" in ref:\n",
    "            return PDFRefType.DICTIONARY\n",
    "        elif isinstance(ref, list) and any(isinstance(e, PDFObjRef) for e in ref):\n",
    "            return PDFRefType.LIST\n",
    "        elif isinstance(ref, bytes):\n",
    "            return PDFRefType.NAMED_REF\n",
    "        else:\n",
    "            return PDFRefType.UNK\n",
    "\n",
    "    @classmethod\n",
    "    def is_ref_page(cls, ref: Any) -> bool:\n",
    "        \"\"\"Check whether a reference is of type '/Page'.\n",
    "\n",
    "        Args:\n",
    "            ref (:obj:`Any`):\n",
    "                The PDF reference.\n",
    "\n",
    "        Returns:\n",
    "            :obj:`bool`: :obj:`True` if the reference references\n",
    "            a page, :obj:`False` otherwise.\n",
    "        \"\"\"\n",
    "        return isinstance(ref, dict) and \"Type\" in ref and ref[\"Type\"] is LITERAL_PAGE\n",
    "\n",
    "    def resolve(self, ref: Any) -> Optional[int]:\n",
    "        \"\"\"Resolve a PDF reference to a page number recursively.\n",
    "\n",
    "        Args:\n",
    "            ref (:obj:`Any`):\n",
    "                The PDF reference.\n",
    "\n",
    "        Returns:\n",
    "            :obj:`Optional[int]`: The page number or :obj:`None`\n",
    "            if the reference could not be resolved (e.g., remote Go-To\n",
    "            Actions or malformed references).\n",
    "        \"\"\"\n",
    "        ref_type = self.get_ref_type(ref)\n",
    "\n",
    "        if ref_type is PDFRefType.PDF_OBJ_REF and self.is_ref_page(ref.resolve()):\n",
    "            return self.objid_to_pagenum.get(ref.objid)\n",
    "        elif ref_type is PDFRefType.PDF_OBJ_REF:\n",
    "            return self.resolve(ref.resolve())\n",
    "\n",
    "        if ref_type is PDFRefType.DICTIONARY:\n",
    "            return self.resolve(ref[\"D\"])\n",
    "\n",
    "        if ref_type is PDFRefType.LIST:\n",
    "            # Get the PDFObjRef in the list (usually first element).\n",
    "            return self.resolve(next(filter(lambda e: isinstance(e, PDFObjRef), ref)))\n",
    "\n",
    "        if ref_type is PDFRefType.NAMED_REF:\n",
    "            return self.resolve(self.document.get_dest(ref))\n",
    "\n",
    "        return None  # PDFRefType.UNK"
   ]
  },
  {
   "cell_type": "code",
   "execution_count": 15,
   "metadata": {},
   "outputs": [],
   "source": [
    "def print_outlines(file: str) -> dict[int, int]:\n",
    "    \"\"\"Pretty print the outlines (ToC) of a PDF document.\"\"\"\n",
    "    with open(file, \"rb\") as fp:\n",
    "        try:\n",
    "            \n",
    "            parser = PDFParser(fp)\n",
    "            document = PDFDocument(parser)\n",
    "\n",
    "            ref_pagenum_resolver = RefPageNumberResolver(document)\n",
    "\n",
    "            outlines = list(document.get_outlines())\n",
    "\n",
    "            if not outlines:\n",
    "                print(\"No outlines found.\")\n",
    "            for (level, title, dest, a, se) in outlines:\n",
    "                if dest:\n",
    "                    page_num = ref_pagenum_resolver.resolve(dest)\n",
    "                elif a:\n",
    "                    page_num = ref_pagenum_resolver.resolve(a)\n",
    "                elif se:\n",
    "                    page_num = ref_pagenum_resolver.resolve(se)\n",
    "                else:\n",
    "                    page_num = None\n",
    "\n",
    "                # Calculate leading spaces and filling dots for formatting.\n",
    "                leading_spaces = (level-1) * 4\n",
    "                fill_dots = 80 - len(title) - leading_spaces\n",
    "\n",
    "                print(\n",
    "                    f\"{' ' * leading_spaces}\"\n",
    "                    f\"{title}\",\n",
    "                    f\"{'.' * fill_dots}\",\n",
    "                    f\"{page_num:>3}\"\n",
    "                )\n",
    "        except PDFNoOutlines:\n",
    "            print(\"No outlines found.\")\n",
    "        except PDFSyntaxError:\n",
    "            print(\"Corrupted PDF or non-PDF file.\")\n",
    "        finally:\n",
    "            try:\n",
    "                parser.close()\n",
    "            except NameError:\n",
    "                pass  # nothing to do"
   ]
  },
  {
   "cell_type": "code",
   "execution_count": 16,
   "metadata": {},
   "outputs": [
    {
     "name": "stdout",
     "output_type": "stream",
     "text": [
      "Also by Jordan B. Peterson ......................................................   2\n",
      "Title Page ......................................................................   3\n",
      "Copyright .......................................................................   4\n",
      "Dedication ......................................................................   5\n",
      "Contents ........................................................................   6\n",
      "Table of Illustrations ..........................................................   8\n",
      "A Note from the Author in the Time of the Pandemic ..............................  10\n",
      "Overture ........................................................................  11\n",
      "Rule I: Do Not Carelessly Denigrate Social Institutions or Creative Achievement .  23\n",
      "    Loneliness and Confusion ....................................................  23\n",
      "    Sanity as a Social Institution ..............................................  25\n",
      "    The Point of Pointing .......................................................  27\n",
      "    What Should We Point To? ....................................................  29\n",
      "    Bottom Up ...................................................................  31\n",
      "    The Utility of the Fool .....................................................  35\n",
      "    The Necessity of Equals .....................................................  38\n",
      "    Top Dog .....................................................................  41\n",
      "    Social Institutions Are Necessary—But Insufficient ..........................  44\n",
      "    The Necessity of Balance ....................................................  48\n",
      "    Personality as Hierarchy—And Capacity for Transformation ....................  50\n",
      "Rule II: Imagine Who You Could Be, and Then Aim Single-Mindedly at That .........  61\n",
      "    Who Are You—And Who Could You Be? ...........................................  61\n",
      "    The Emergence of the Unforgettable ..........................................  64\n",
      "    Materia Prima: Who You Could Be (I) .........................................  67\n",
      "    Polytheism into Monotheism, and the Emergence of the Virtuous Hero: Who You Could Be (II)   73\n",
      "    Hero, Dragon, Death, and Rebirth: Who You Could Be (III) ....................  80\n",
      "    How to Act ..................................................................  84\n",
      "Rule III: Do Not Hide Unwanted Things in the Fog ................................  89\n",
      "    Those Damned Plates .........................................................  89\n",
      "    Just Not Worth the Fight ....................................................  90\n",
      "    Corruption: Commission and Omission .........................................  93\n",
      "    What Is the Fog? ............................................................  98\n",
      "    Events and Memories ......................................................... 102\n",
      "Rule IV: Notice That Opportunity Lurks Where Responsibility Has Been Abdicated .. 106\n",
      "    Make Yourself Invaluable .................................................... 106\n",
      "    Responsibility and Meaning .................................................. 108\n",
      "    Rescue Your Father: Osiris and Horus ........................................ 112\n",
      "    And Who Might That Be? ...................................................... 116\n",
      "    Happiness and Responsibility ................................................ 119\n",
      "    Pick Up the Extra Weight .................................................... 121\n",
      "Rule V: Do Not Do What You Hate ................................................. 129\n",
      "    Pathological Order in Its Day-To-Day Guise .................................. 129\n",
      "    Fortify Your Position ....................................................... 135\n",
      "    Practicalities .............................................................. 136\n",
      "Rule VI: Abandon Ideology ....................................................... 141\n",
      "    The Wrong Places ............................................................ 141\n",
      "    Perhaps He Is Only Sleeping ................................................. 144\n",
      "    The Fatal Attraction of the False Idol ...................................... 150\n",
      "    Ressentiment ................................................................ 155\n",
      "Rule VII: Work as Hard as You Possibly Can on at Least One Thing and See What Happens  159\n",
      "    The Value of Heat and Pressure .............................................. 159\n",
      "    The Worst Decision of All ................................................... 162\n",
      "    Discipline and Unity ........................................................ 165\n",
      "    Dogma and Spirit ............................................................ 168\n",
      "Rule VIII: Try to Make One Room in Your Home as Beautiful as Possible ........... 174\n",
      "    Cleaning Your Room Is Not Enough ............................................ 174\n",
      "    Memory and Vision ........................................................... 176\n",
      "    The Land You Know, the Land You Do Not Know, and the Land You Cannot Even Imagine  183\n",
      "    One Room .................................................................... 187\n",
      "    Not Decoration .............................................................. 192\n",
      "Rule IX: If Old Memories Still Upset You, Write Them Down Carefully and Completely  196\n",
      "    But Is Yesterday Finished with You? ......................................... 196\n",
      "    Do Not Fall Twice into the Same Pit ......................................... 200\n",
      "    Possessed by Ghosts ......................................................... 202\n",
      "    Uncomprehended Malevolence .................................................. 211\n",
      "    Potential into Actuality .................................................... 214\n",
      "    The Word as Savior .......................................................... 216\n",
      "Rule X: Plan and Work Diligently to Maintain the Romance in Your Relationship ... 224\n",
      "    The Unbearable Date ......................................................... 224\n",
      "    Bedrock ..................................................................... 227\n",
      "    Christ in the Candle ........................................................ 230\n",
      "    Negotiation, Tyranny, or Slavery ............................................ 235\n",
      "    The Domestic Economy ........................................................ 243\n",
      "    Finally: Romance ............................................................ 248\n",
      "Rule XI: Do Not Allow Yourself to Become Resentful, Deceitful, or Arrogant ...... 255\n",
      "    The Story Is the Thing ...................................................... 255\n",
      "    The Eternal Characters of the Human Drama ................................... 261\n",
      "    Nature: Creation and Destruction ............................................ 265\n",
      "    Culture: Security and Tyranny ............................................... 275\n",
      "    The Individual: Hero and Adversary .......................................... 279\n",
      "    Resentment .................................................................. 282\n",
      "    Deceit and Arrogance ........................................................ 286\n",
      "    The Existential Danger of Arrogance and Deceit .............................. 291\n",
      "    The Place You Should Be ..................................................... 293\n",
      "Rule XII: Be Grateful in Spite of Your Suffering ................................ 296\n",
      "    Down Can Define Up .......................................................... 296\n",
      "    The Mephistophelian Spirit .................................................. 298\n",
      "    Courage—But Superordinate, Love ............................................. 308\n",
      "Coda ............................................................................ 313\n",
      "Notes ........................................................................... 318\n",
      "Index ........................................................................... 324\n",
      "About the Author ................................................................ 344\n"
     ]
    }
   ],
   "source": [
    "print_outlines(pdfFile)"
   ]
  },
  {
   "cell_type": "code",
   "execution_count": 19,
   "metadata": {},
   "outputs": [
    {
     "data": {
      "text/plain": [
       "<generator object extract_pages at 0x7f94c070ae30>"
      ]
     },
     "execution_count": 19,
     "metadata": {},
     "output_type": "execute_result"
    }
   ],
   "source": [
    "pages = extract_pages(pdf_file = pdfFile, page_numbers=[22,23])\n",
    "pages"
   ]
  },
  {
   "cell_type": "code",
   "execution_count": 20,
   "metadata": {},
   "outputs": [
    {
     "data": {
      "text/plain": [
       "'\\x00\\x00\\x00\\x00 \\x00\\n\\nDO NOT CARELESSLY DENIGRATE SOCIAL\\nINSTITUTIONS OR CREATIVE ACHIEVEMENT\\n\\n\\x00\\x00\\x00\\x00\\x00\\x00\\x00\\x00\\x00\\x00 \\x00\\x00\\x00 \\x00\\x00\\x00\\x00\\x00\\x00\\x00\\x00\\x00\\n\\nFor years, I saw a client who lived by himself.* He was isolated in\\nmany other ways in addition to his living situation. He had extremely\\nlimited family ties. Both of his daughters had moved out of the\\ncountry, and did not maintain much contact, and he had no other\\nrelatives except a father and sister from whom he was estranged. His\\nwife and the mother of his children had passed away years ago, and\\nthe sole relationship he endeavored to establish while he saw me\\nover the course of more than a decade and a half terminated\\ntragically when his new partner was killed in an automobile accident.\\n\\nWhen we began to work together, our conversations were\\n\\ndecidedly awkward. He was not accustomed to the subtleties of social\\ninteraction, so his behaviors, verbal and nonverbal, lacked the dance-\\nlike rhythm and harmony that characterize the socially fluent. As a\\nchild, he had been thoroughly ignored as well as actively discouraged\\nby both parents. His father—mostly absent—was neglectful and\\nsadistic in his inclinations, while his mother was chronically\\nalcoholic. He had also been consistently tormented and harassed at\\nschool, and had not chanced upon a teacher in all his years of\\neducation who paid him any genuine attention. These experiences\\nleft my client with a proclivity toward depression, or at least\\nworsened what might have been a biological tendency in that\\ndirection. He was, in consequence, abrupt, irritable, and somewhat\\nvolatile if he felt misunderstood or was unexpectedly interrupted\\nduring a conversation. Such reactions helped ensure that his\\n\\n\\x0ctargeting by bullies continued into his adult life, particularly in his\\nplace of work.\\n\\nI soon noticed, however, that things worked out quite well during\\n\\nour sessions if I kept mostly quiet. He would drop in, weekly or\\nbiweekly, and talk about what had befallen and preoccupied him\\nduring the previous seven to fourteen days. If I maintained silence\\nfor the first fifty minutes of our one-hour sessions, listening intently,\\nthen we could converse, in a relatively normal, reciprocal manner,\\nfor the remaining ten minutes. This pattern continued for more than\\na decade, as I learned, increasingly, to hold my tongue (something\\nthat does not come easily to me). As the years passed, however, I\\nnoticed that the proportion of time he spent discussing negative\\nissues with me decreased. Our conversation—his monologue, really—\\nhad always started with what was bothering him, and rarely\\nprogressed past that. But he worked hard outside our sessions,\\ncultivating friends, attending artistic gatherings and music festivals,\\nand resurrecting a long-dormant talent for composing songs and\\nplaying the guitar. As he became more social, he began to generate\\nsolutions to the problems he communicated to me, and to discuss, in\\nthe latter portion of the hours we shared, some of the more positive\\naspects of his existence. It was slow going, but he made continual\\nincremental progress. When he first came to see me, we could not sit\\ntogether at a table in a coffee shop—or, indeed, in any public space—\\nand practice anything resembling a real-world conversation without\\nhis being paralyzed into absolute silence. By the time we finished, he\\nwas reading his original poetry in front of small groups, and had\\neven tried his hand at stand-up comedy.\\n\\nHe was the best personal and practical exemplar of something I\\nhad come to realize over my more than twenty years of psychological\\npractice: people depend on constant communication with others to\\nkeep their minds organized. We all need to think to keep things\\nstraight, but we mostly think by talking. We need to talk about the\\npast, so we can distinguish the trivial, overblown concerns that\\notherwise plague our thoughts from the experiences that are truly\\nimportant. We need to talk about the nature of the present and our\\nplans for the future, so we know where we are, where we are going,\\nand why we are going there. We must submit the strategies and\\ntactics we formulate to the judgments of others, to ensure their\\nefficiency and resilience. We need to listen to ourselves as we talk, as\\n\\n\\x0c'"
      ]
     },
     "execution_count": 20,
     "metadata": {},
     "output_type": "execute_result"
    }
   ],
   "source": [
    "\n",
    "extract_text(pdf_file = pdfFile, page_numbers=[22,23])"
   ]
  },
  {
   "cell_type": "code",
   "execution_count": 25,
   "metadata": {},
   "outputs": [
    {
     "data": {
      "text/plain": [
       "'well, so that we may organize our otherwise inchoate bodily\\nreactions, motivations, and emotions into something articulate and\\norganized, and dispense with those concerns that are exaggerated\\nand irrational. We need to talk—both to remember and to forget.\\nMy client desperately needed someone to listen to him. He also\\nneeded to be fully part of additional, larger, and more complex social\\ngroups—something he planned in our sessions together, and then\\ncarried out on his own. Had he fallen prey to the temptation to\\ndenigrate the value of interpersonal interactions and relationships\\nbecause of his history of isolation and harsh treatment, he would\\nhave had very little chance of regaining his health and well-being.\\nInstead, he learned the ropes and joined the world.\\n\\n\\x00\\x00\\x00\\x00\\x00\\x00 \\x00\\x00 \\x00 \\x00\\x00\\x00\\x00\\x00\\x00 \\x00\\x00\\x00\\x00\\x00\\x00\\x00\\x00\\x00\\x00\\x00\\n\\nFor Drs. Sigmund Freud and Carl Jung, the great depth\\npsychologists, sanity was a characteristic of the individual mind.\\nPeople were well-adjusted, in their views, when the subpersonalities\\nexisting within each of them were properly integrated and balanced\\nin expression. The id, the instinctive part of the psyche (from the\\nGerman “it,” representing nature, in all its power and foreignness,\\ninside us); the superego (the sometimes oppressive, internalized\\nrepresentative of social order); and the ego (the I, the personality\\nproper, crushed between those two necessary tyrants)—all had their\\nspecialized functions for Freud, who first conceptualized their\\nexistence. Id, ego, and superego interacted with each other like the\\nexecutive, legislative, and judicial branches of a modern government.\\nJung, although profoundly influenced by Freud, parsed the\\ncomplexity of the psyche in a different manner. For him, the ego of\\nthe individual had to find its proper place in relationship to the\\nshadow (the dark side of the personality), the anima or animus (the\\ncontrasexual and thus often repressed side of the personality), and\\nthe self (the internal being of ideal possibility). But all these different\\nsubentities, Jungian and Freudian alike, share one thing in common:\\nthey exist in the interior of the person, regardless of his or her\\nsurroundings. People are social beings, however—par excellence—\\nand there is no shortage of wisdom and guidance outside of us,\\nembedded in the social world. Why rely on our own limited resources\\n\\n\\x0cto remember the road, or to orient ourselves in new territory, when\\nwe can rely on signs and guideposts placed there so effortfully by\\nothers? Freud and Jung, with their intense focus on the autonomous\\nindividual psyche, placed too little focus on the role of the\\ncommunity in the maintenance of personal mental health.\\n\\nIt is for such reasons that I assess the position of all my new\\nclinical clients along a few dimensions largely dependent on the\\nsocial world when I first start working with them: Have they been\\neducated to the level of their intellectual ability or ambition? Is their\\nuse of free time engaging, meaningful, and productive? Have they\\nformulated solid and well-articulated plans for the future? Are they\\n(and those they are close to) free of any serious physical health or\\neconomic problems? Do they have friends and a social life? A stable\\nand satisfying intimate partnership? Close and functional familial\\nrelationships? A career—or, at least, a job—that is financially\\nsufficient, stable and, if possible, a source of satisfaction and\\nopportunity? If the answer to any three or more of these questions is\\nno, I consider that my new client is insufficiently embedded in the\\ninterpersonal world and is in danger of spiraling downward\\npsychologically because of that. People exist among other people and\\nnot as purely individual minds. An individual does not have to be\\nthat well put together if he or she can remain at least minimally\\nacceptable in behavior to others. Simply put: We outsource the\\nproblem of sanity. People remain mentally healthy not merely\\nbecause of the integrity of their own minds, but because they are\\nconstantly being reminded how to think, act, and speak by those\\naround them.\\n\\nIf you begin to deviate from the straight and narrow path—if you\\nbegin to act improperly—people will react to your errors before they\\nbecome too great, and cajole, laugh, tap, and criticize you back into\\nplace. They will raise an eyebrow, or smile (or not), or pay attention\\n(or not). If other people can tolerate having you around, in other\\nwords, they will constantly remind you not to misbehave, and just as\\nconstantly call on you to be at your best. All that is left for you to do\\nis watch, listen, and respond appropriately to the cues. Then you\\nmight remain motivated, and able to stay together enough so that\\nyou will not begin the long journey downhill. This is reason enough\\nto appreciate your immersion in the world of other people—friends,\\n\\n\\x0c'"
      ]
     },
     "execution_count": 25,
     "metadata": {},
     "output_type": "execute_result"
    }
   ],
   "source": [
    "extract_text(pdf_file = pdfFile, page_numbers=[24,25])"
   ]
  },
  {
   "cell_type": "code",
   "execution_count": null,
   "metadata": {},
   "outputs": [],
   "source": [
    "# https://stackoverflow.com/questions/25665/python-module-for-converting-pdf-to-text\n",
    "def pdf_to_csv(filename):\n",
    "    from cStringIO import StringIO  #<-- added so you can copy/paste this to try it\n",
    "    from pdfminer.converter import LTTextItem, TextConverter\n",
    "    from pdfminer.pdfparser import PDFDocument, PDFParser\n",
    "    from pdfminer.pdfinterp import PDFResourceManager, PDFPageInterpreter\n",
    "\n",
    "    class CsvConverter(TextConverter):\n",
    "        def __init__(self, *args, **kwargs):\n",
    "            TextConverter.__init__(self, *args, **kwargs)\n",
    "\n",
    "        def end_page(self, i):\n",
    "            from collections import defaultdict\n",
    "            lines = defaultdict(lambda : {})\n",
    "            for child in self.cur_item.objs:\n",
    "                if isinstance(child, LTTextItem):\n",
    "                    (_,_,x,y) = child.bbox                   #<-- changed\n",
    "                    line = lines[int(-y)]\n",
    "                    line[x] = child.text.encode(self.codec)  #<-- changed\n",
    "\n",
    "            for y in sorted(lines.keys()):\n",
    "                line = lines[y]\n",
    "                self.outfp.write(\";\".join(line[x] for x in sorted(line.keys())))\n",
    "                self.outfp.write(\"\\n\")\n",
    "\n",
    "    # ... the following part of the code is a remix of the \n",
    "    # convert() function in the pdfminer/tools/pdf2text module\n",
    "    rsrc = PDFResourceManager()\n",
    "    outfp = StringIO()\n",
    "    device = CsvConverter(rsrc, outfp, codec=\"utf-8\")  #<-- changed \n",
    "        # becuase my test documents are utf-8 (note: utf-8 is the default codec)\n",
    "\n",
    "    doc = PDFDocument()\n",
    "    fp = open(filename, 'rb')\n",
    "    parser = PDFParser(fp)       #<-- changed\n",
    "    parser.set_document(doc)     #<-- added\n",
    "    doc.set_parser(parser)       #<-- added\n",
    "    doc.initialize('')\n",
    "\n",
    "    interpreter = PDFPageInterpreter(rsrc, device)\n",
    "\n",
    "    for i, page in enumerate(doc.get_pages()):\n",
    "        outfp.write(\"START PAGE %d\\n\" % i)\n",
    "        interpreter.process_page(page)\n",
    "        outfp.write(\"END PAGE %d\\n\" % i)\n",
    "\n",
    "    device.close()\n",
    "    fp.close()\n",
    "\n",
    "    return outfp.getvalue()"
   ]
  }
 ],
 "metadata": {
  "kernelspec": {
   "display_name": "mls2",
   "language": "python",
   "name": "python3"
  },
  "language_info": {
   "codemirror_mode": {
    "name": "ipython",
    "version": 3
   },
   "file_extension": ".py",
   "mimetype": "text/x-python",
   "name": "python",
   "nbconvert_exporter": "python",
   "pygments_lexer": "ipython3",
   "version": "3.11.7"
  }
 },
 "nbformat": 4,
 "nbformat_minor": 2
}
