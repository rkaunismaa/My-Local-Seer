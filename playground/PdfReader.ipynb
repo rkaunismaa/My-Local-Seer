{
 "cells": [
  {
   "cell_type": "markdown",
   "metadata": {},
   "source": [
    "#### Saturday, February 10, 2024\n",
    "\n",
    "How do I load a pdf file, and then extract the text from it?"
   ]
  },
  {
   "cell_type": "markdown",
   "metadata": {},
   "source": [
    "#### Libraries to consider:\n",
    "\n",
    "* [pypdf](https://github.com/py-pdf/PyPDF) \n",
    "* [pdfminer.six](https://github.com/pdfminer/pdfminer.six)\n",
    "* [pdfplumber](https://github.com/jsvine/pdfplumber) "
   ]
  },
  {
   "cell_type": "code",
   "execution_count": 1,
   "metadata": {},
   "outputs": [],
   "source": [
    "import os \n",
    "\n",
    "pdfFolder = \"../data\""
   ]
  },
  {
   "cell_type": "code",
   "execution_count": 2,
   "metadata": {},
   "outputs": [],
   "source": [
    "def list_files_in_folder(folder_path):\n",
    "    # Get the list of files in the specified folder\n",
    "    files = os.listdir(folder_path)\n",
    "\n",
    "    # Filter out subdirectories, leaving only files\n",
    "    files = [f for f in files if os.path.isfile(os.path.join(folder_path, f))]\n",
    "\n",
    "    return files"
   ]
  },
  {
   "cell_type": "code",
   "execution_count": 3,
   "metadata": {},
   "outputs": [],
   "source": [
    "pdfFiles = list_files_in_folder(pdfFolder)"
   ]
  },
  {
   "cell_type": "code",
   "execution_count": 4,
   "metadata": {},
   "outputs": [
    {
     "name": "stdout",
     "output_type": "stream",
     "text": [
      "Jordan B. Peterson -12 Rules for Life_ An Antidote to Chaos.pdf\n",
      "Jordan Peterson - Beyond Order_ 12 More Rules For Life.pdf\n"
     ]
    }
   ],
   "source": [
    "for file_name in pdfFiles:\n",
    "    print(file_name)"
   ]
  },
  {
   "cell_type": "markdown",
   "metadata": {},
   "source": [
    "#### pypdf\n",
    "\n",
    "* https://github.com/py-pdf/PyPDF\n",
    "* https://pypdf.readthedocs.io/en/latest/\n",
    "* mamba install conda-forge::pypdf "
   ]
  },
  {
   "cell_type": "code",
   "execution_count": 5,
   "metadata": {},
   "outputs": [],
   "source": [
    "from pypdf import PdfReader"
   ]
  },
  {
   "cell_type": "code",
   "execution_count": 6,
   "metadata": {},
   "outputs": [
    {
     "name": "stdout",
     "output_type": "stream",
     "text": [
      "../data/Jordan B. Peterson -12 Rules for Life_ An Antidote to Chaos.pdf\n"
     ]
    }
   ],
   "source": [
    "pdfFile = pdfFolder +  \"/\" + pdfFiles[0]\n",
    "print(pdfFile)"
   ]
  },
  {
   "cell_type": "code",
   "execution_count": 7,
   "metadata": {},
   "outputs": [],
   "source": [
    "reader = PdfReader(pdfFile)"
   ]
  },
  {
   "cell_type": "markdown",
   "metadata": {},
   "source": [
    "#### 12 Rules for Life - An Antidote to Chaos\n",
    "\n",
    "Extract the text from every chapter of the book into individual objects.\n",
    "\n",
    "There does not seem to be any obvious way to automatically extract the page numbers from each chapter, so I am just gonna manually determine that.\n"
   ]
  },
  {
   "cell_type": "code",
   "execution_count": 8,
   "metadata": {},
   "outputs": [],
   "source": [
    "# A helper function to validate the chapters start and end page values\n",
    "def validateChapter(chapter):\n",
    "\n",
    "    limit = 256\n",
    "    start = chapter[0].extract_text()\n",
    "    end = chapter[len(chapter)-1].extract_text()\n",
    "    print(\"*** START ***\")\n",
    "    print(start[:limit])\n",
    "    print(\"...\")\n",
    "    print(\"*** End ***\")\n",
    "    print(end[-limit:])"
   ]
  },
  {
   "cell_type": "markdown",
   "metadata": {},
   "source": [
    "##### Forward"
   ]
  },
  {
   "cell_type": "code",
   "execution_count": 9,
   "metadata": {},
   "outputs": [
    {
     "name": "stdout",
     "output_type": "stream",
     "text": [
      "*** START ***\n",
      "Foreword\n",
      "Rules? More rules? Really? Isn’t life complicated enough, restricting enough,\n",
      "without abstract rules that don’t take our unique, individual situations into\n",
      "account? And given that our brains are plastic, and all develop differently\n",
      "based on our li\n",
      "...\n",
      "*** End ***\n",
      ", it is certain\n",
      "you will never feel that your life has meaning.\n",
      "And perhaps because, as unfamiliar and strange as it sounds, in the deepest\n",
      "part of our psyche, we all want to be judged.\n",
      "Dr. Norman Doidge, MD, is the author\n",
      "of \n",
      "The Brain That Changes Itself\n"
     ]
    }
   ],
   "source": [
    "forward = reader.pages[4:19]\n",
    "validateChapter(forward)"
   ]
  },
  {
   "cell_type": "markdown",
   "metadata": {},
   "source": [
    "##### Overture"
   ]
  },
  {
   "cell_type": "code",
   "execution_count": 10,
   "metadata": {},
   "outputs": [
    {
     "name": "stdout",
     "output_type": "stream",
     "text": [
      "*** START ***\n",
      "Overture\n",
      "This book has a short history and a long history. We’ll begin with the short\n",
      "history.\n",
      "In 2012, I started contributing to a website called Quora. On Quora,\n",
      "anyone can ask a question, of any sort—and anyone can answer. Readers\n",
      "upvote those answers t\n",
      "...\n",
      "*** End ***\n",
      "onsibility is identical to the decision to live a meaningful life.\n",
      "If we each live properly, we will collectively flourish.\n",
      "Best wishes to you all, as you proceed through these pages.\n",
      "Dr. Jordan B. Peterson\n",
      "Clinical Psychologist and Professor of Psychology\n"
     ]
    }
   ],
   "source": [
    "overture = reader.pages[19:28]\n",
    "validateChapter(overture)"
   ]
  },
  {
   "cell_type": "markdown",
   "metadata": {},
   "source": [
    "##### Chapter 1"
   ]
  },
  {
   "cell_type": "code",
   "execution_count": 11,
   "metadata": {},
   "outputs": [
    {
     "name": "stdout",
     "output_type": "stream",
     "text": [
      "*** START ***\n",
      "RULE 1\n",
      "STAND UP STRAIGHT WITH YOUR\n",
      "SHOULDERS BACK\n",
      "LOBSTERS—AND TERRITORY\n",
      "If you are like most people, you don’t often think about lobsters\n",
      "2\n",
      "—unless\n",
      "you’re eating one. However, these interesting and delicious crustaceans are\n",
      "very much worth considering. Th\n",
      "...\n",
      "*** End ***\n",
      "uence of mortal despair at bay.\n",
      "Then you may be able to accept the terrible burden of the World, and find\n",
      "joy.\n",
      "Look for your inspiration to the victorious lobster, with its 350 million\n",
      "years of practical wisdom. Stand up straight, with your shoulders back.\n"
     ]
    }
   ],
   "source": [
    "chapter1 = reader.pages[30:56]\n",
    "validateChapter(chapter1)"
   ]
  },
  {
   "cell_type": "markdown",
   "metadata": {},
   "source": [
    "##### Chapter 2"
   ]
  },
  {
   "cell_type": "code",
   "execution_count": 12,
   "metadata": {},
   "outputs": [
    {
     "name": "stdout",
     "output_type": "stream",
     "text": [
      "*** START ***\n",
      "RULE 2\n",
      "TREAT YOURSELF LIKE SOMEONE YOU ARE\n",
      "RESPONSIBLE FOR HELPING\n",
      "WHY WON’T YOU JUST TAKE YOUR DAMN PILLS?\n",
      "Imagine that a hundred people are prescribed a drug. Consider what happens\n",
      "next. One-third of them won’t fill the prescription.\n",
      "30\n",
      " Half of the rema\n",
      "...\n",
      "*** End ***\n",
      "d replace your shame and self-consciousness with the\n",
      "natural pride and forthright confidence of someone who has learned once\n",
      "again to walk with God in the Garden.\n",
      "You could begin by treating yourself as if you were someone you were\n",
      "responsible for helping.\n"
     ]
    }
   ],
   "source": [
    "chapter2 = reader.pages[59:89]\n",
    "validateChapter(chapter2)\n"
   ]
  },
  {
   "cell_type": "markdown",
   "metadata": {},
   "source": [
    "##### Chapter 3"
   ]
  },
  {
   "cell_type": "code",
   "execution_count": 13,
   "metadata": {},
   "outputs": [
    {
     "name": "stdout",
     "output_type": "stream",
     "text": [
      "*** START ***\n",
      "RULE 3\n",
      "MAKE FRIENDS WITH PEOPLE WHO WANT\n",
      "THE BEST FOR YOU\n",
      "THE OLD HOMETOWN\n",
      "The town I grew up in had been scraped only fifty years earlier out of the\n",
      "endless flat Northern prairie. Fairview, Alberta, was part of the frontier, and\n",
      "had the cowboy bars to pro\n",
      "...\n",
      "*** End ***\n",
      " person is an ideal. It\n",
      "requires strength and daring to stand up near such a person. Have some\n",
      "humility. Have some courage. Use your judgment, and protect yourself from\n",
      "too-uncritical compassion and pity.\n",
      "Make friends with people who want the best for you.\n"
     ]
    }
   ],
   "source": [
    "chapter3 = reader.pages[92:107]\n",
    "validateChapter(chapter3)"
   ]
  },
  {
   "cell_type": "markdown",
   "metadata": {},
   "source": [
    "##### Chapter 4"
   ]
  },
  {
   "cell_type": "code",
   "execution_count": 14,
   "metadata": {},
   "outputs": [
    {
     "name": "stdout",
     "output_type": "stream",
     "text": [
      "*** START ***\n",
      "RULE 4\n",
      "COMPARE YOURSELF TO WHO YOU WERE\n",
      "YESTERDAY, NOT TO WHO SOMEONE ELSE\n",
      "IS TODAY\n",
      "THE INTERNAL CRITIC\n",
      "It was easier for people to be good at something when more of us lived in\n",
      "small, rural communities. Someone could be homecoming queen. Someone\n",
      "else coul\n",
      "...\n",
      "*** End ***\n",
      "k, as if you want to enter, you may be offered the chance\n",
      "to improve your life, a little; a lot; completely—and with that improvement,\n",
      "some progress will be made in Being itself.\n",
      "Compare yourself to who you were yesterday, not to who someone else is\n",
      "today.\n"
     ]
    }
   ],
   "source": [
    "chapter4 = reader.pages[109:133]\n",
    "validateChapter(chapter4)"
   ]
  },
  {
   "cell_type": "markdown",
   "metadata": {},
   "source": [
    "##### Chapter 5"
   ]
  },
  {
   "cell_type": "code",
   "execution_count": 15,
   "metadata": {},
   "outputs": [
    {
     "name": "stdout",
     "output_type": "stream",
     "text": [
      "*** START ***\n",
      "RULE 5\n",
      "DO NOT LET YOUR CHILDREN DO\n",
      "ANYTHING THAT MAKES YOU DISLIKE\n",
      "THEM\n",
      "ACTUALLY, IT’S NOT OK\n",
      "Recently, I watched a three-year-old boy trail his mother and father slowly\n",
      "through a crowded airport. He was screaming violently at five-second\n",
      "intervals—and, mo\n",
      "...\n",
      "*** End ***\n",
      "os and the terrors of the underworld, where everything is\n",
      "uncertain, anxiety-provoking, hopeless and depressing. There are no greater\n",
      "gifts that a committed and courageous parent can bestow.\n",
      "Do not let your children do anything that makes you dislike them.\n"
     ]
    }
   ],
   "source": [
    "chapter5 = reader.pages[135:165]\n",
    "validateChapter(chapter5)"
   ]
  },
  {
   "cell_type": "markdown",
   "metadata": {},
   "source": [
    "##### Chapter 6"
   ]
  },
  {
   "cell_type": "code",
   "execution_count": 16,
   "metadata": {},
   "outputs": [
    {
     "name": "stdout",
     "output_type": "stream",
     "text": [
      "*** START ***\n",
      "RULE 6\n",
      "SET YOUR HOUSE IN PERFECT ORDER\n",
      "BEFORE YOU CRITICIZE THE WORLD\n",
      "A RELIGIOUS PROBLEM\n",
      "It does not seem reasonable to describe the young man who shot twenty\n",
      "children and six staff members at Sandy Hook Elementary School in\n",
      "Newtown, Connecticut, in 2012 \n",
      "...\n",
      "*** End ***\n",
      "Set your house in perfect order before you criticize the world.\n"
     ]
    }
   ],
   "source": [
    "chapter6 = reader.pages[168:180]\n",
    "validateChapter(chapter6)"
   ]
  },
  {
   "cell_type": "markdown",
   "metadata": {},
   "source": [
    "##### Chapter 7"
   ]
  },
  {
   "cell_type": "code",
   "execution_count": 17,
   "metadata": {},
   "outputs": [
    {
     "name": "stdout",
     "output_type": "stream",
     "text": [
      "*** START ***\n",
      "RULE 7\n",
      "PURSUE WHAT IS MEANINGFUL (NOT WHAT\n",
      "IS EXPEDIENT)\n",
      "GET WHILE THE GETTING’S GOOD\n",
      "Life is suffering. That’s clear. There is no more basic, irrefutable truth. It’s\n",
      "basically what God tells Adam and Eve, immediately before he kicks them\n",
      "out of Paradise.\n",
      "\n",
      "...\n",
      "*** End ***\n",
      ". Meaning is the Way, the path of\n",
      "life more abundant, the place you live when you are guided by Love and\n",
      "speaking Truth and when nothing you want or could possibly want takes any\n",
      "precedence over precisely that.\n",
      "Do what is meaningful, not what is expedient.\n"
     ]
    }
   ],
   "source": [
    "chapter7 = reader.pages[182:219]\n",
    "validateChapter(chapter7)"
   ]
  },
  {
   "cell_type": "markdown",
   "metadata": {},
   "source": [
    "##### Chapter 8"
   ]
  },
  {
   "cell_type": "code",
   "execution_count": 19,
   "metadata": {},
   "outputs": [
    {
     "name": "stdout",
     "output_type": "stream",
     "text": [
      "*** START ***\n",
      "RULE 8\n",
      "TELL THE TRUTH—OR, AT LEAST, DON’T LIE\n",
      "TRUTH IN NO-MAN’S-LAND\n",
      "I trained to become a clinical psychologist at McGill University, in Montreal.\n",
      "While doing so, I sometimes met my classmates on the grounds of Montreal’s\n",
      "Douglas Hospital, where we had ou\n",
      "...\n",
      "*** End ***\n",
      "o an ideology, or wallow in nihilism, try telling the truth. If you\n",
      "feel weak and rejected, and desperate, and confused, try telling the truth. In\n",
      "Paradise, everyone speaks the truth. That is what makes it Paradise.\n",
      "Tell the truth. Or, at least, don’t lie.\n"
     ]
    }
   ],
   "source": [
    "chapter8 = reader.pages[221:246]\n",
    "validateChapter(chapter8)"
   ]
  },
  {
   "cell_type": "markdown",
   "metadata": {},
   "source": [
    "##### Chapter 9"
   ]
  },
  {
   "cell_type": "code",
   "execution_count": 20,
   "metadata": {},
   "outputs": [
    {
     "name": "stdout",
     "output_type": "stream",
     "text": [
      "*** START ***\n",
      "RULE 9\n",
      "ASSUME THAT THE PERSON YOU ARE\n",
      "LISTENING TO MIGHT KNOW SOMETHING\n",
      "YOU DON’T\n",
      "NOT ADVICE\n",
      "Psychotherapy is not advice. Advice is what you get when the person you’re\n",
      "talking with about something horrible and complicated wishes you would just\n",
      "shut up and \n",
      "...\n",
      "*** End ***\n",
      "phic Oracle in ancient Greece spoke\n",
      "most highly of Socrates, who always sought the truth. She described him as\n",
      "the wisest living man, because he knew that what he knew was nothing.\n",
      "Assume that the person you are listening to might know something you\n",
      "don’t.\n"
     ]
    }
   ],
   "source": [
    "chapter9 = reader.pages[249:270]\n",
    "validateChapter(chapter9)"
   ]
  },
  {
   "cell_type": "markdown",
   "metadata": {},
   "source": [
    "##### Chapter 10"
   ]
  },
  {
   "cell_type": "code",
   "execution_count": 22,
   "metadata": {},
   "outputs": [
    {
     "name": "stdout",
     "output_type": "stream",
     "text": [
      "*** START ***\n",
      "RULE 10\n",
      "BE PRECISE IN YOUR SPEECH\n",
      "WHY IS MY LAPTOP OBSOLETE?\n",
      "What do you see, when you look at a computer—at your own laptop, more\n",
      "precisely? You see a flat, thin, grey-and-black box. Less evidently, you see\n",
      "something to type on and look at. Nonetheless, e\n",
      "...\n",
      "*** End ***\n",
      "ont the chaos of Being. Take aim against a sea of troubles. Specify\n",
      "your destination, and chart your course. Admit to what you want. Tell those\n",
      "around you who you are. Narrow, and gaze attentively, and move forward,\n",
      "forthrightly.\n",
      "Be precise in your speech.\n"
     ]
    }
   ],
   "source": [
    "chapter10 = reader.pages[273:295]\n",
    "validateChapter(chapter10)"
   ]
  },
  {
   "cell_type": "markdown",
   "metadata": {},
   "source": [
    "##### Chapter 11"
   ]
  },
  {
   "cell_type": "code",
   "execution_count": 24,
   "metadata": {},
   "outputs": [
    {
     "name": "stdout",
     "output_type": "stream",
     "text": [
      "*** START ***\n",
      "RULE 11\n",
      "DO NOT BOTHER CHILDREN WHEN THEY\n",
      "ARE SKATEBOARDING\n",
      "DANGER AND MASTERY\n",
      "There was a time when kids skateboarded on the west side of Sidney Smith\n",
      "Hall, at the University of Toronto, where I work. Sometimes I stood there and\n",
      "watched them. There are rou\n",
      "...\n",
      "*** End ***\n",
      "rself with such a thing. No\n",
      "one aiming at moving up would allow him or herself to become possessed by\n",
      "such a thing. And if you think tough men are dangerous, wait until you see\n",
      "what weak men are capable of.\n",
      "Leave children alone when they are skateboarding.\n"
     ]
    }
   ],
   "source": [
    "chapter11 = reader.pages[297:340]\n",
    "validateChapter(chapter11)"
   ]
  },
  {
   "cell_type": "markdown",
   "metadata": {},
   "source": [
    "##### Chapter 12"
   ]
  },
  {
   "cell_type": "code",
   "execution_count": 25,
   "metadata": {},
   "outputs": [
    {
     "name": "stdout",
     "output_type": "stream",
     "text": [
      "*** START ***\n",
      "RULE 12\n",
      "PET A CAT WHEN YOU ENCOUNTER ONE ON\n",
      "THE STREET\n",
      "DOGS ARE OK TOO\n",
      "I am going to start this chapter by stating directly that I own a dog, an\n",
      "American Eskimo, one of the many variants of the basic spitz type. They\n",
      "were known as German spitzes until the \n",
      "...\n",
      "*** End ***\n",
      "ipse around in her bare feet. The calf muscle on\n",
      "her damaged leg is growing back. She has much more flexion in the artificial\n",
      "joint. This year, she got married and had a baby girl, Elizabeth, named after\n",
      "my wife’s departed mother.\n",
      "Things are good.\n",
      "For now.\n"
     ]
    }
   ],
   "source": [
    "chapter12 = reader.pages[343:360]\n",
    "validateChapter(chapter12)"
   ]
  },
  {
   "cell_type": "markdown",
   "metadata": {},
   "source": [
    "##### Coda"
   ]
  },
  {
   "cell_type": "code",
   "execution_count": 27,
   "metadata": {},
   "outputs": [
    {
     "name": "stdout",
     "output_type": "stream",
     "text": [
      "*** START ***\n",
      "Coda\n",
      "WHAT SHALL I DO WITH MY NEWFOUND PEN OF LIGHT?\n",
      "In late 2016 I travelled to northern California to meet a friend and business\n",
      "associate. We spent an evening together thinking and talking. At one point he\n",
      "took a pen from his jacket and took a few notes.\n",
      "...\n",
      "*** End ***\n",
      "skateboarding), that you strengthen and\n",
      "encourage those who are committed to your care instead of protecting them\n",
      "to the point of weakness.\n",
      "I wish you all the best, and hope that you can wish the best for others.\n",
      "What will you write with your pen of light?\n"
     ]
    }
   ],
   "source": [
    "coda = reader.pages[361:373]\n",
    "validateChapter(coda)"
   ]
  },
  {
   "cell_type": "markdown",
   "metadata": {},
   "source": [
    "Now that we have manually identified the start and end pages of every chapter, let's put those values into a dictionary object then write a simple function to read the text from the PDF file."
   ]
  },
  {
   "cell_type": "code",
   "execution_count": 30,
   "metadata": {},
   "outputs": [],
   "source": [
    "bookChapters = { \"Forward\" : [4,19],\n",
    "                 \"Overture\": [19, 28],\n",
    "                 \"RULE 1: Stand up straight with your shoulders back\" : [30, 56],\n",
    "                 \"RULE 2: Treat yourself like someone you are responsible for helping\" : [59,89],\n",
    "                 \"RULE 3: Make friends with people who want the best for you\" : [92, 107],\n",
    "                 \"RULE 4: Compare yourself to who you were yesterday,not to who someone else is today\" : [109, 133],\n",
    "                 \"RULE 5: Do not let your children do anything that makes you disklike them\" : [135,165],\n",
    "                 \"RULE 6: Set your house in perfect order before you criticize the world\" : [168, 180],\n",
    "                 \"RULE 7: Pursue what is meaningful (not what is expedient)\" : [182, 219],\n",
    "                 \"RULE 8: Tell the truth - or, at least, don't lie\" : [221, 246],\n",
    "                 \"RULE 9: Assume that the person you are listening to might know something you don't\" : [249, 270],\n",
    "                 \"RULE 10: Be precise in your speech\" : [273, 295],\n",
    "                 \"RULE 11: Do not bother children when they are skateboarding\" : [297, 340],\n",
    "                 \"RULE 12: Pet a cat when you encounter one on the street\" : [343, 360],\n",
    "                 \"Coda\" : [361, 373]\n",
    "                }"
   ]
  },
  {
   "cell_type": "markdown",
   "metadata": {},
   "source": [
    "#### pdf miner six\n",
    "\n",
    "* https://github.com/pdfminer/pdfminer.six\n",
    "* https://pdfminersix.readthedocs.io/en/latest/\n",
    "* mamba install conda-forge::pdfminer.six"
   ]
  },
  {
   "cell_type": "code",
   "execution_count": 28,
   "metadata": {},
   "outputs": [
    {
     "data": {
      "text/plain": [
       "'20231228'"
      ]
     },
     "execution_count": 28,
     "metadata": {},
     "output_type": "execute_result"
    }
   ],
   "source": [
    "import pdfminer\n",
    "from pdfminer.high_level import extract_text\n",
    "from pdfminer.high_level import extract_pages\n",
    "pdfminer.__version__"
   ]
  },
  {
   "cell_type": "code",
   "execution_count": 34,
   "metadata": {},
   "outputs": [
    {
     "data": {
      "text/plain": [
       "'../data/Jordan B. Peterson -12 Rules for Life_ An Antidote to Chaos.pdf'"
      ]
     },
     "execution_count": 34,
     "metadata": {},
     "output_type": "execute_result"
    }
   ],
   "source": [
    "pdfFile"
   ]
  },
  {
   "cell_type": "code",
   "execution_count": 35,
   "metadata": {},
   "outputs": [],
   "source": [
    "text = extract_text(pdfFile)\n",
    "# 7.8s  Beyond Order\n",
    "# 32.9s 12 Rules"
   ]
  },
  {
   "cell_type": "code",
   "execution_count": null,
   "metadata": {},
   "outputs": [],
   "source": [
    "print(repr(text))"
   ]
  },
  {
   "cell_type": "code",
   "execution_count": null,
   "metadata": {},
   "outputs": [],
   "source": [
    "print(text)"
   ]
  },
  {
   "cell_type": "code",
   "execution_count": null,
   "metadata": {},
   "outputs": [],
   "source": [
    "from pdfminer.high_level import extract_pages\n",
    "for page_layout in extract_pages(pdfFile):\n",
    "    for element in page_layout:\n",
    "        print(element)\n",
    "        \n",
    "# 8.2s"
   ]
  },
  {
   "cell_type": "code",
   "execution_count": null,
   "metadata": {},
   "outputs": [],
   "source": [
    "from pdfminer.high_level import extract_pages\n",
    "from pdfminer.layout import LTTextContainer\n",
    "for page_layout in extract_pages(pdfFile):\n",
    "    for element in page_layout:\n",
    "        if isinstance(element, LTTextContainer):\n",
    "            print(element.get_text())"
   ]
  },
  {
   "cell_type": "markdown",
   "metadata": {},
   "source": [
    "The next two cells are from [How to resolve the target page of ToC entries](https://pdfminersix.readthedocs.io/en/latest/howto/toc_target_page.html)"
   ]
  },
  {
   "cell_type": "code",
   "execution_count": 30,
   "metadata": {},
   "outputs": [],
   "source": [
    "from enum import Enum, auto\n",
    "from pathlib import Path\n",
    "from typing import Any, Optional\n",
    "from pdfminer.pdfdocument import PDFDocument, PDFNoOutlines\n",
    "from pdfminer.pdfpage import PDFPage, LITERAL_PAGE\n",
    "from pdfminer.pdfparser import PDFParser, PDFSyntaxError\n",
    "from pdfminer.pdftypes import PDFObjRef\n",
    "\n",
    "\n",
    "class PDFRefType(Enum):\n",
    "    \"\"\"PDF reference type.\"\"\"\n",
    "\n",
    "    PDF_OBJ_REF = auto()\n",
    "    DICTIONARY = auto()\n",
    "    LIST = auto()\n",
    "    NAMED_REF = auto()\n",
    "    UNK = auto()  # fallback\n",
    "\n",
    "\n",
    "class RefPageNumberResolver:\n",
    "    \"\"\"PDF Reference to page number resolver.\n",
    "\n",
    "    .. note::\n",
    "\n",
    "       Remote Go-To Actions (see 12.6.4.3 in\n",
    "       `https://www.adobe.com/go/pdfreference/`__)\n",
    "       are out of the scope of this resolver.\n",
    "\n",
    "    Attributes:\n",
    "        document (:obj:`pdfminer.pdfdocument.PDFDocument`):\n",
    "            The document that contains the references.\n",
    "        objid_to_pagenum (:obj:`dict[int, int]`):\n",
    "            Mapping from an object id to the number of the page that contains\n",
    "            that object.\n",
    "    \"\"\"\n",
    "\n",
    "    def __init__(self, document: PDFDocument):\n",
    "        self.document = document\n",
    "        # obj_id -> page_number\n",
    "        self.objid_to_pagenum: dict[int, int] = {\n",
    "            page.pageid: page_num\n",
    "            for page_num, page in enumerate(PDFPage.create_pages(document), 1)\n",
    "        }\n",
    "\n",
    "    @classmethod\n",
    "    def get_ref_type(cls, ref: Any) -> PDFRefType:\n",
    "        \"\"\"Get the type of a PDF reference.\"\"\"\n",
    "        if isinstance(ref, PDFObjRef):\n",
    "            return PDFRefType.PDF_OBJ_REF\n",
    "        elif isinstance(ref, dict) and \"D\" in ref:\n",
    "            return PDFRefType.DICTIONARY\n",
    "        elif isinstance(ref, list) and any(isinstance(e, PDFObjRef) for e in ref):\n",
    "            return PDFRefType.LIST\n",
    "        elif isinstance(ref, bytes):\n",
    "            return PDFRefType.NAMED_REF\n",
    "        else:\n",
    "            return PDFRefType.UNK\n",
    "\n",
    "    @classmethod\n",
    "    def is_ref_page(cls, ref: Any) -> bool:\n",
    "        \"\"\"Check whether a reference is of type '/Page'.\n",
    "\n",
    "        Args:\n",
    "            ref (:obj:`Any`):\n",
    "                The PDF reference.\n",
    "\n",
    "        Returns:\n",
    "            :obj:`bool`: :obj:`True` if the reference references\n",
    "            a page, :obj:`False` otherwise.\n",
    "        \"\"\"\n",
    "        return isinstance(ref, dict) and \"Type\" in ref and ref[\"Type\"] is LITERAL_PAGE\n",
    "\n",
    "    def resolve(self, ref: Any) -> Optional[int]:\n",
    "        \"\"\"Resolve a PDF reference to a page number recursively.\n",
    "\n",
    "        Args:\n",
    "            ref (:obj:`Any`):\n",
    "                The PDF reference.\n",
    "\n",
    "        Returns:\n",
    "            :obj:`Optional[int]`: The page number or :obj:`None`\n",
    "            if the reference could not be resolved (e.g., remote Go-To\n",
    "            Actions or malformed references).\n",
    "        \"\"\"\n",
    "        ref_type = self.get_ref_type(ref)\n",
    "\n",
    "        if ref_type is PDFRefType.PDF_OBJ_REF and self.is_ref_page(ref.resolve()):\n",
    "            return self.objid_to_pagenum.get(ref.objid)\n",
    "        elif ref_type is PDFRefType.PDF_OBJ_REF:\n",
    "            return self.resolve(ref.resolve())\n",
    "\n",
    "        if ref_type is PDFRefType.DICTIONARY:\n",
    "            return self.resolve(ref[\"D\"])\n",
    "\n",
    "        if ref_type is PDFRefType.LIST:\n",
    "            # Get the PDFObjRef in the list (usually first element).\n",
    "            return self.resolve(next(filter(lambda e: isinstance(e, PDFObjRef), ref)))\n",
    "\n",
    "        if ref_type is PDFRefType.NAMED_REF:\n",
    "            return self.resolve(self.document.get_dest(ref))\n",
    "\n",
    "        return None  # PDFRefType.UNK"
   ]
  },
  {
   "cell_type": "code",
   "execution_count": 31,
   "metadata": {},
   "outputs": [],
   "source": [
    "def print_outlines(file: str) -> dict[int, int]:\n",
    "    \n",
    "    \"\"\"Pretty print the outlines (ToC) of a PDF document.\"\"\"\n",
    "\n",
    "    with open(file, \"rb\") as fp:\n",
    "        try:\n",
    "            \n",
    "            parser = PDFParser(fp)\n",
    "            document = PDFDocument(parser)\n",
    "\n",
    "            ref_pagenum_resolver = RefPageNumberResolver(document)\n",
    "\n",
    "            outlines = list(document.get_outlines())\n",
    "\n",
    "            if not outlines:\n",
    "                print(\"No outlines found.\")\n",
    "            for (level, title, dest, a, se) in outlines:\n",
    "                if dest:\n",
    "                    page_num = ref_pagenum_resolver.resolve(dest)\n",
    "                elif a:\n",
    "                    page_num = ref_pagenum_resolver.resolve(a)\n",
    "                elif se:\n",
    "                    page_num = ref_pagenum_resolver.resolve(se)\n",
    "                else:\n",
    "                    page_num = None\n",
    "\n",
    "                # Calculate leading spaces and filling dots for formatting.\n",
    "                leading_spaces = (level-1) * 4\n",
    "                fill_dots = 80 - len(title) - leading_spaces\n",
    "\n",
    "                print(\n",
    "                    f\"{' ' * leading_spaces}\"\n",
    "                    f\"{title}\",\n",
    "                    f\"{'.' * fill_dots}\",\n",
    "                    f\"{page_num:>3}\"\n",
    "                )\n",
    "        except PDFNoOutlines:\n",
    "            print(\"No outlines found.\")\n",
    "        except PDFSyntaxError:\n",
    "            print(\"Corrupted PDF or non-PDF file.\")\n",
    "        finally:\n",
    "            try:\n",
    "                parser.close()\n",
    "            except NameError:\n",
    "                pass  # nothing to do"
   ]
  },
  {
   "cell_type": "code",
   "execution_count": 36,
   "metadata": {},
   "outputs": [
    {
     "name": "stdout",
     "output_type": "stream",
     "text": [
      "Title Page ......................................................................   3\n",
      "Foreword ........................................................................   5\n",
      "Overture ........................................................................  20\n",
      "‌RULE 1: Stand up straight with your shoulders back .............................  30\n",
      "‌RULE 2: Treat yourself like someone you are responsible for helping ............  59\n",
      "‌RULE 3: Make friends with people who want the best for you .....................  92\n",
      "‌RULE 4: Compare yourself to who you were yesterday, not to who someone else is today  109\n",
      "‌RULE 5: Do not let your children do anything that makes you dislike them ....... 135\n",
      "‌RULE 6: Set your house in perfect order before you criticize the world ......... 168\n",
      "‌RULE 7: Pursue what is meaningful (not what is expedient) ...................... 182\n",
      "‌RULE 8: Tell the truth—or, at least, don’t lie ................................. 221\n",
      "‌RULE 9: Assume that the person you are listening to might know something you don’t  249\n",
      "‌RULE 10: Be precise in your speech ............................................. 273\n",
      "‌RULE 11: Do not bother children when they are skateboarding .................... 297\n",
      "‌RULE 12: Pet a cat when you encounter one on the street ........................ 343\n",
      "‌Coda ........................................................................... 361\n",
      "‌Endnotes ....................................................................... 374\n",
      "Acknowledgements ................................................................ 395\n",
      "Follow Penguin .................................................................. 397\n",
      "Copyright Page .................................................................. 399\n"
     ]
    }
   ],
   "source": [
    "print_outlines(pdfFile)"
   ]
  },
  {
   "cell_type": "code",
   "execution_count": 40,
   "metadata": {},
   "outputs": [],
   "source": [
    "pages = extract_pages(pdf_file = pdfFile)"
   ]
  },
  {
   "cell_type": "code",
   "execution_count": 45,
   "metadata": {},
   "outputs": [
    {
     "data": {
      "text/plain": [
       "<generator object extract_pages at 0x7f94c070b760>"
      ]
     },
     "execution_count": 45,
     "metadata": {},
     "output_type": "execute_result"
    }
   ],
   "source": [
    "pages = extract_pages(pdf_file = pdfFile, page_numbers=[0,10000])\n",
    "pages"
   ]
  },
  {
   "cell_type": "code",
   "execution_count": 39,
   "metadata": {},
   "outputs": [
    {
     "data": {
      "text/plain": [
       "'R U L E   1\\n\\nSTAND UP STRAIGHT WITH YOUR\\nSHOULDERS BACK\\n\\nLOBSTERS—AND TERRITORY\\n\\nIf you are like most people, you don’t often think about lobsters2—unless\\nyou’re eating one. However, these interesting and delicious crustaceans are\\nvery much worth considering. Their nervous systems are comparatively\\nsimple, with large, easily observable neurons, the magic cells of the brain.\\nBecause of this, scientists have been able to map the neural circuitry of\\nlobsters very accurately. This has helped us understand the structure and\\nfunction of the brain and behaviour of more complex animals, including\\nhuman beings. Lobsters have more in common with you than you might think\\n(particularly when you are feeling crabby—ha ha).\\n\\nLobsters live on the ocean floor. They need a home base down there, a\\nrange within which they hunt for prey and scavenge around for stray edible\\nbits and pieces of whatever rains down from the continual chaos of carnage\\nand death far above. They want somewhere secure, where the hunting and the\\ngathering is good. They want a home.\\n\\nThis can present a problem, since there are many lobsters. What if two of\\nthem occupy the same territory, at the bottom of the ocean, at the same time,\\nand both want to live there? What if there are hundreds of lobsters, all trying\\nto make a living and raise a family, in the same crowded patch of sand and\\nrefuse?\\n\\nOther creatures have this problem, too. When songbirds come north in the\\nspring, for example, they engage in ferocious territorial disputes. The songs\\nthey sing, so peaceful and beautiful to human ears, are siren calls and cries of\\ndomination. A brilliantly musical bird is a small warrior proclaiming his\\nsovereignty. Take the wren, for example, a small, feisty, insect-eating\\nsongbird common in North America. A newly arrived wren wants a sheltered\\nplace to build a nest, away from the wind and rain. He wants it close to food,\\n\\n\\x0cunderwater, and are seldom served with butter. However, they are also\\nsimilar in important ways. Both are obsessed with status and position, for\\nexample, like a great many creatures. The Norwegian zoologist and\\ncomparative psychologist Thorlief Schjelderup-Ebbe observed (back in 1921)\\nthat even common barnyard chickens establish a “pecking order.”3\\n\\nThe determination of Who’s Who in the chicken world has important\\nimplications for each individual bird’s survival, particularly in times of\\nscarcity. The birds that always have priority access to whatever food is\\nsprinkled out in the yard in the morning are the celebrity chickens. After\\nthem come the second-stringers, the hangers-on and wannabes. Then the\\nthird-rate chickens have their turn, and so on, down to the bedraggled,\\npartially-feathered and badly-pecked wretches who occupy the lowest,\\nuntouchable stratum of the chicken hierarchy.\\n\\nChickens, like suburbanites, live communally. Songbirds, such as wrens,\\ndo not, but they still inhabit a dominance hierarchy. It’s just spread out over\\nmore territory. The wiliest, strongest, healthiest and most fortunate birds\\noccupy prime territory, and defend it. Because of this, they are more likely to\\nattract high-quality mates, and to hatch chicks who survive and thrive.\\nProtection from wind, rain and predators, as well as easy access to superior\\nfood, makes for a much less stressed existence. Territory matters, and there is\\nlittle difference between territorial rights and social status. It is often a matter\\nof life and death.\\n\\nIf a contagious avian disease sweeps through a neighbourhood of well-\\n\\nstratified songbirds, it is the least dominant and most stressed birds,\\noccupying the lowest rungs of the bird world, who are most likely to sicken\\nand die.4 This is equally true of human neighbourhoods, when bird flu viruses\\nand other illnesses sweep across the planet. The poor and stressed always die\\nfirst, and in greater numbers. They are also much more susceptible to non-\\ninfectious diseases, such as cancer, diabetes and heart disease. When the\\naristocracy catches a cold, as it is said, the working class dies of pneumonia.\\nBecause territory matters, and because the best locales are always in short\\nsupply, territory-seeking among animals produces conflict. Conflict, in turn,\\nproduces another problem: how to win or lose without the disagreeing parties\\nincurring too great a cost. This latter point is particularly important. Imagine\\nthat two birds engage in a squabble about a desirable nesting area. The\\n\\n\\x0c'"
      ]
     },
     "execution_count": 39,
     "metadata": {},
     "output_type": "execute_result"
    }
   ],
   "source": [
    "\n",
    "extract_text(pdf_file = pdfFile, page_numbers=[30,32])"
   ]
  },
  {
   "cell_type": "code",
   "execution_count": 25,
   "metadata": {},
   "outputs": [
    {
     "data": {
      "text/plain": [
       "'well, so that we may organize our otherwise inchoate bodily\\nreactions, motivations, and emotions into something articulate and\\norganized, and dispense with those concerns that are exaggerated\\nand irrational. We need to talk—both to remember and to forget.\\nMy client desperately needed someone to listen to him. He also\\nneeded to be fully part of additional, larger, and more complex social\\ngroups—something he planned in our sessions together, and then\\ncarried out on his own. Had he fallen prey to the temptation to\\ndenigrate the value of interpersonal interactions and relationships\\nbecause of his history of isolation and harsh treatment, he would\\nhave had very little chance of regaining his health and well-being.\\nInstead, he learned the ropes and joined the world.\\n\\n\\x00\\x00\\x00\\x00\\x00\\x00 \\x00\\x00 \\x00 \\x00\\x00\\x00\\x00\\x00\\x00 \\x00\\x00\\x00\\x00\\x00\\x00\\x00\\x00\\x00\\x00\\x00\\n\\nFor Drs. Sigmund Freud and Carl Jung, the great depth\\npsychologists, sanity was a characteristic of the individual mind.\\nPeople were well-adjusted, in their views, when the subpersonalities\\nexisting within each of them were properly integrated and balanced\\nin expression. The id, the instinctive part of the psyche (from the\\nGerman “it,” representing nature, in all its power and foreignness,\\ninside us); the superego (the sometimes oppressive, internalized\\nrepresentative of social order); and the ego (the I, the personality\\nproper, crushed between those two necessary tyrants)—all had their\\nspecialized functions for Freud, who first conceptualized their\\nexistence. Id, ego, and superego interacted with each other like the\\nexecutive, legislative, and judicial branches of a modern government.\\nJung, although profoundly influenced by Freud, parsed the\\ncomplexity of the psyche in a different manner. For him, the ego of\\nthe individual had to find its proper place in relationship to the\\nshadow (the dark side of the personality), the anima or animus (the\\ncontrasexual and thus often repressed side of the personality), and\\nthe self (the internal being of ideal possibility). But all these different\\nsubentities, Jungian and Freudian alike, share one thing in common:\\nthey exist in the interior of the person, regardless of his or her\\nsurroundings. People are social beings, however—par excellence—\\nand there is no shortage of wisdom and guidance outside of us,\\nembedded in the social world. Why rely on our own limited resources\\n\\n\\x0cto remember the road, or to orient ourselves in new territory, when\\nwe can rely on signs and guideposts placed there so effortfully by\\nothers? Freud and Jung, with their intense focus on the autonomous\\nindividual psyche, placed too little focus on the role of the\\ncommunity in the maintenance of personal mental health.\\n\\nIt is for such reasons that I assess the position of all my new\\nclinical clients along a few dimensions largely dependent on the\\nsocial world when I first start working with them: Have they been\\neducated to the level of their intellectual ability or ambition? Is their\\nuse of free time engaging, meaningful, and productive? Have they\\nformulated solid and well-articulated plans for the future? Are they\\n(and those they are close to) free of any serious physical health or\\neconomic problems? Do they have friends and a social life? A stable\\nand satisfying intimate partnership? Close and functional familial\\nrelationships? A career—or, at least, a job—that is financially\\nsufficient, stable and, if possible, a source of satisfaction and\\nopportunity? If the answer to any three or more of these questions is\\nno, I consider that my new client is insufficiently embedded in the\\ninterpersonal world and is in danger of spiraling downward\\npsychologically because of that. People exist among other people and\\nnot as purely individual minds. An individual does not have to be\\nthat well put together if he or she can remain at least minimally\\nacceptable in behavior to others. Simply put: We outsource the\\nproblem of sanity. People remain mentally healthy not merely\\nbecause of the integrity of their own minds, but because they are\\nconstantly being reminded how to think, act, and speak by those\\naround them.\\n\\nIf you begin to deviate from the straight and narrow path—if you\\nbegin to act improperly—people will react to your errors before they\\nbecome too great, and cajole, laugh, tap, and criticize you back into\\nplace. They will raise an eyebrow, or smile (or not), or pay attention\\n(or not). If other people can tolerate having you around, in other\\nwords, they will constantly remind you not to misbehave, and just as\\nconstantly call on you to be at your best. All that is left for you to do\\nis watch, listen, and respond appropriately to the cues. Then you\\nmight remain motivated, and able to stay together enough so that\\nyou will not begin the long journey downhill. This is reason enough\\nto appreciate your immersion in the world of other people—friends,\\n\\n\\x0c'"
      ]
     },
     "execution_count": 25,
     "metadata": {},
     "output_type": "execute_result"
    }
   ],
   "source": [
    "extract_text(pdf_file = pdfFile, page_numbers=[24,25])"
   ]
  },
  {
   "cell_type": "code",
   "execution_count": null,
   "metadata": {},
   "outputs": [],
   "source": [
    "# https://stackoverflow.com/questions/25665/python-module-for-converting-pdf-to-text\n",
    "def pdf_to_csv(filename):\n",
    "    from cStringIO import StringIO  #<-- added so you can copy/paste this to try it\n",
    "    from pdfminer.converter import LTTextItem, TextConverter\n",
    "    from pdfminer.pdfparser import PDFDocument, PDFParser\n",
    "    from pdfminer.pdfinterp import PDFResourceManager, PDFPageInterpreter\n",
    "\n",
    "    class CsvConverter(TextConverter):\n",
    "        def __init__(self, *args, **kwargs):\n",
    "            TextConverter.__init__(self, *args, **kwargs)\n",
    "\n",
    "        def end_page(self, i):\n",
    "            from collections import defaultdict\n",
    "            lines = defaultdict(lambda : {})\n",
    "            for child in self.cur_item.objs:\n",
    "                if isinstance(child, LTTextItem):\n",
    "                    (_,_,x,y) = child.bbox                   #<-- changed\n",
    "                    line = lines[int(-y)]\n",
    "                    line[x] = child.text.encode(self.codec)  #<-- changed\n",
    "\n",
    "            for y in sorted(lines.keys()):\n",
    "                line = lines[y]\n",
    "                self.outfp.write(\";\".join(line[x] for x in sorted(line.keys())))\n",
    "                self.outfp.write(\"\\n\")\n",
    "\n",
    "    # ... the following part of the code is a remix of the \n",
    "    # convert() function in the pdfminer/tools/pdf2text module\n",
    "    rsrc = PDFResourceManager()\n",
    "    outfp = StringIO()\n",
    "    device = CsvConverter(rsrc, outfp, codec=\"utf-8\")  #<-- changed \n",
    "        # becuase my test documents are utf-8 (note: utf-8 is the default codec)\n",
    "\n",
    "    doc = PDFDocument()\n",
    "    fp = open(filename, 'rb')\n",
    "    parser = PDFParser(fp)       #<-- changed\n",
    "    parser.set_document(doc)     #<-- added\n",
    "    doc.set_parser(parser)       #<-- added\n",
    "    doc.initialize('')\n",
    "\n",
    "    interpreter = PDFPageInterpreter(rsrc, device)\n",
    "\n",
    "    for i, page in enumerate(doc.get_pages()):\n",
    "        outfp.write(\"START PAGE %d\\n\" % i)\n",
    "        interpreter.process_page(page)\n",
    "        outfp.write(\"END PAGE %d\\n\" % i)\n",
    "\n",
    "    device.close()\n",
    "    fp.close()\n",
    "\n",
    "    return outfp.getvalue()"
   ]
  }
 ],
 "metadata": {
  "kernelspec": {
   "display_name": "mls2",
   "language": "python",
   "name": "python3"
  },
  "language_info": {
   "codemirror_mode": {
    "name": "ipython",
    "version": 3
   },
   "file_extension": ".py",
   "mimetype": "text/x-python",
   "name": "python",
   "nbconvert_exporter": "python",
   "pygments_lexer": "ipython3",
   "version": "3.11.7"
  }
 },
 "nbformat": 4,
 "nbformat_minor": 2
}
