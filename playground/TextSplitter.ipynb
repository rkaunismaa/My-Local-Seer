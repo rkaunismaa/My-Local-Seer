{
 "cells": [
  {
   "cell_type": "markdown",
   "metadata": {},
   "source": [
    "#### Monday, February 12, 2024\n",
    "\n",
    "This notebook will read the csv file containing the text from every chapter, and will split this text into chunks for embedding and vector storage."
   ]
  },
  {
   "cell_type": "markdown",
   "metadata": {},
   "source": [
    "Load the csv file containing all the text from every chapter of the book."
   ]
  },
  {
   "cell_type": "code",
   "execution_count": 1,
   "metadata": {},
   "outputs": [],
   "source": [
    "import pandas as pd"
   ]
  },
  {
   "cell_type": "code",
   "execution_count": 2,
   "metadata": {},
   "outputs": [],
   "source": [
    "dataFolder = '../data'"
   ]
  },
  {
   "cell_type": "code",
   "execution_count": 3,
   "metadata": {},
   "outputs": [],
   "source": [
    "df12Rules = pd.read_csv(dataFolder + '/12Rules.csv')"
   ]
  },
  {
   "cell_type": "code",
   "execution_count": 4,
   "metadata": {},
   "outputs": [
    {
     "data": {
      "text/html": [
       "<div>\n",
       "<style scoped>\n",
       "    .dataframe tbody tr th:only-of-type {\n",
       "        vertical-align: middle;\n",
       "    }\n",
       "\n",
       "    .dataframe tbody tr th {\n",
       "        vertical-align: top;\n",
       "    }\n",
       "\n",
       "    .dataframe thead th {\n",
       "        text-align: right;\n",
       "    }\n",
       "</style>\n",
       "<table border=\"1\" class=\"dataframe\">\n",
       "  <thead>\n",
       "    <tr style=\"text-align: right;\">\n",
       "      <th></th>\n",
       "      <th>Unnamed: 0</th>\n",
       "      <th>ChapterName</th>\n",
       "      <th>PageNumber</th>\n",
       "      <th>PageText</th>\n",
       "    </tr>\n",
       "  </thead>\n",
       "  <tbody>\n",
       "    <tr>\n",
       "      <th>0</th>\n",
       "      <td>0</td>\n",
       "      <td>Forward</td>\n",
       "      <td>4</td>\n",
       "      <td>Foreword\\nRules? More rules? Really? Isn’t lif...</td>\n",
       "    </tr>\n",
       "    <tr>\n",
       "      <th>1</th>\n",
       "      <td>1</td>\n",
       "      <td>Forward</td>\n",
       "      <td>5</td>\n",
       "      <td>reminds us that without rules we quickly becom...</td>\n",
       "    </tr>\n",
       "    <tr>\n",
       "      <th>2</th>\n",
       "      <td>2</td>\n",
       "      <td>Forward</td>\n",
       "      <td>6</td>\n",
       "      <td>liberating us, and more laughs, and making the...</td>\n",
       "    </tr>\n",
       "    <tr>\n",
       "      <th>3</th>\n",
       "      <td>3</td>\n",
       "      <td>Forward</td>\n",
       "      <td>7</td>\n",
       "      <td>One might hear such questions discussed at par...</td>\n",
       "    </tr>\n",
       "    <tr>\n",
       "      <th>4</th>\n",
       "      <td>4</td>\n",
       "      <td>Forward</td>\n",
       "      <td>8</td>\n",
       "      <td>I was always especially fond of mid-Western, P...</td>\n",
       "    </tr>\n",
       "  </tbody>\n",
       "</table>\n",
       "</div>"
      ],
      "text/plain": [
       "   Unnamed: 0 ChapterName  PageNumber  \\\n",
       "0           0     Forward           4   \n",
       "1           1     Forward           5   \n",
       "2           2     Forward           6   \n",
       "3           3     Forward           7   \n",
       "4           4     Forward           8   \n",
       "\n",
       "                                            PageText  \n",
       "0  Foreword\\nRules? More rules? Really? Isn’t lif...  \n",
       "1  reminds us that without rules we quickly becom...  \n",
       "2  liberating us, and more laughs, and making the...  \n",
       "3  One might hear such questions discussed at par...  \n",
       "4  I was always especially fond of mid-Western, P...  "
      ]
     },
     "execution_count": 4,
     "metadata": {},
     "output_type": "execute_result"
    }
   ],
   "source": [
    "df12Rules.head()"
   ]
  },
  {
   "cell_type": "markdown",
   "metadata": {},
   "source": [
    "Let's identify which page in the dataframe contains the most text, then grab that text to begin exploring how to split the data."
   ]
  },
  {
   "cell_type": "code",
   "execution_count": 5,
   "metadata": {},
   "outputs": [],
   "source": [
    "# Find the row with the maximum length in the 'PageText' column\n",
    "longest_page_id = df12Rules['PageText'].apply(len).idxmax()"
   ]
  },
  {
   "cell_type": "code",
   "execution_count": 6,
   "metadata": {},
   "outputs": [],
   "source": [
    "# Access only the 'PageText' column for the row with the maximum length\n",
    "longest_page_text = df12Rules.loc[longest_page_id, 'PageText']"
   ]
  },
  {
   "cell_type": "code",
   "execution_count": 7,
   "metadata": {},
   "outputs": [
    {
     "data": {
      "text/plain": [
       "3262"
      ]
     },
     "execution_count": 7,
     "metadata": {},
     "output_type": "execute_result"
    }
   ],
   "source": [
    "len(longest_page_text)"
   ]
  },
  {
   "cell_type": "code",
   "execution_count": 8,
   "metadata": {},
   "outputs": [
    {
     "data": {
      "text/plain": [
       "'One day passed, however, another and another; she did not come a'"
      ]
     },
     "execution_count": 8,
     "metadata": {},
     "output_type": "execute_result"
    }
   ],
   "source": [
    "longest_page_text[:64]"
   ]
  },
  {
   "cell_type": "markdown",
   "metadata": {},
   "source": [
    "Let's also load the other 12 Rules csv file we created that has contains an entire chapter in every record."
   ]
  },
  {
   "cell_type": "code",
   "execution_count": 9,
   "metadata": {},
   "outputs": [],
   "source": [
    "df12RulesChapters = pd.read_csv(dataFolder + '/12RulesChapters.csv')"
   ]
  },
  {
   "cell_type": "code",
   "execution_count": 10,
   "metadata": {},
   "outputs": [
    {
     "data": {
      "text/html": [
       "<div>\n",
       "<style scoped>\n",
       "    .dataframe tbody tr th:only-of-type {\n",
       "        vertical-align: middle;\n",
       "    }\n",
       "\n",
       "    .dataframe tbody tr th {\n",
       "        vertical-align: top;\n",
       "    }\n",
       "\n",
       "    .dataframe thead th {\n",
       "        text-align: right;\n",
       "    }\n",
       "</style>\n",
       "<table border=\"1\" class=\"dataframe\">\n",
       "  <thead>\n",
       "    <tr style=\"text-align: right;\">\n",
       "      <th></th>\n",
       "      <th>Unnamed: 0</th>\n",
       "      <th>ChapterName</th>\n",
       "      <th>ChapterText</th>\n",
       "    </tr>\n",
       "  </thead>\n",
       "  <tbody>\n",
       "    <tr>\n",
       "      <th>0</th>\n",
       "      <td>0</td>\n",
       "      <td>Forward</td>\n",
       "      <td>Foreword\\n\\nRules? More rules? Really? Isn’t l...</td>\n",
       "    </tr>\n",
       "    <tr>\n",
       "      <th>1</th>\n",
       "      <td>1</td>\n",
       "      <td>Overture</td>\n",
       "      <td>Overture\\n\\nThis book has a short history and ...</td>\n",
       "    </tr>\n",
       "    <tr>\n",
       "      <th>2</th>\n",
       "      <td>2</td>\n",
       "      <td>RULE 1: Stand up straight with your shoulders ...</td>\n",
       "      <td>R U L E   1\\n\\nSTAND UP STRAIGHT WITH YOUR\\nSH...</td>\n",
       "    </tr>\n",
       "    <tr>\n",
       "      <th>3</th>\n",
       "      <td>3</td>\n",
       "      <td>RULE 2: Treat yourself like someone you are re...</td>\n",
       "      <td>R U L E   2\\n\\nTREAT YOURSELF LIKE SOMEONE YOU...</td>\n",
       "    </tr>\n",
       "    <tr>\n",
       "      <th>4</th>\n",
       "      <td>4</td>\n",
       "      <td>RULE 3: Make friends with people who want the ...</td>\n",
       "      <td>R U L E   3\\n\\nMAKE FRIENDS WITH PEOPLE WHO WA...</td>\n",
       "    </tr>\n",
       "  </tbody>\n",
       "</table>\n",
       "</div>"
      ],
      "text/plain": [
       "   Unnamed: 0                                        ChapterName  \\\n",
       "0           0                                            Forward   \n",
       "1           1                                           Overture   \n",
       "2           2  RULE 1: Stand up straight with your shoulders ...   \n",
       "3           3  RULE 2: Treat yourself like someone you are re...   \n",
       "4           4  RULE 3: Make friends with people who want the ...   \n",
       "\n",
       "                                         ChapterText  \n",
       "0  Foreword\\n\\nRules? More rules? Really? Isn’t l...  \n",
       "1  Overture\\n\\nThis book has a short history and ...  \n",
       "2  R U L E   1\\n\\nSTAND UP STRAIGHT WITH YOUR\\nSH...  \n",
       "3  R U L E   2\\n\\nTREAT YOURSELF LIKE SOMEONE YOU...  \n",
       "4  R U L E   3\\n\\nMAKE FRIENDS WITH PEOPLE WHO WA...  "
      ]
     },
     "execution_count": 10,
     "metadata": {},
     "output_type": "execute_result"
    }
   ],
   "source": [
    "df12RulesChapters.head()"
   ]
  },
  {
   "cell_type": "markdown",
   "metadata": {},
   "source": [
    "Look here [LangChain Text Splitters](https://python.langchain.com/docs/modules/data_connection/document_transformers/) to better understand what we want to do with the text from the pdf document.\n",
    "\n",
    "And yes, I want to implement something myself to once again better understand what and why we want to do this."
   ]
  },
  {
   "cell_type": "markdown",
   "metadata": {},
   "source": [
    "Which chapter has the most text?"
   ]
  },
  {
   "cell_type": "code",
   "execution_count": 11,
   "metadata": {},
   "outputs": [
    {
     "data": {
      "text/plain": [
       "12"
      ]
     },
     "execution_count": 11,
     "metadata": {},
     "output_type": "execute_result"
    }
   ],
   "source": [
    "longest_chapter_id = df12RulesChapters['ChapterText'].apply(len).idxmax()\n",
    "longest_chapter_id"
   ]
  },
  {
   "cell_type": "code",
   "execution_count": 12,
   "metadata": {},
   "outputs": [
    {
     "data": {
      "text/plain": [
       "106955"
      ]
     },
     "execution_count": 12,
     "metadata": {},
     "output_type": "execute_result"
    }
   ],
   "source": [
    "longest_chapter_text = df12RulesChapters.loc[longest_chapter_id, 'ChapterText']\n",
    "len(longest_chapter_text)"
   ]
  },
  {
   "cell_type": "code",
   "execution_count": 13,
   "metadata": {},
   "outputs": [
    {
     "data": {
      "text/plain": [
       "'R U L E   11\\n\\nDO NOT BOTHER CHILDREN WHEN THEY\\nARE SKATEBOARDING\\n\\nDANGER AND MASTERY\\n\\nThere was a time when kids skateboarded on'"
      ]
     },
     "execution_count": 13,
     "metadata": {},
     "output_type": "execute_result"
    }
   ],
   "source": [
    "longest_chapter_text[:128]"
   ]
  },
  {
   "cell_type": "markdown",
   "metadata": {},
   "source": [
    "What happens when we apply the [RecursiveCharacterTextSplitter](https://python.langchain.com/docs/modules/data_connection/document_transformers/recursive_text_splitter) by LangChain to this chapter of text?\n",
    "\n",
    "This text splitter is the recommended one for generic text. It is parameterized by a list of characters. It tries to split on them in order until the chunks are small enough. The default list is [\"\\n\\n\", \"\\n\", \" \", \"\"]. This has the effect of trying to keep all paragraphs (and then sentences, and then words) together as long as possible, as those would generically seem to be the strongest semantically related pieces of text.\n",
    "\n",
    "1) How the text is split: by list of characters.\n",
    "2) How the chunk size is measured: by number of characters."
   ]
  },
  {
   "cell_type": "code",
   "execution_count": 14,
   "metadata": {},
   "outputs": [
    {
     "name": "stdout",
     "output_type": "stream",
     "text": [
      "page_content='R U L E   11\\n\\nDO NOT BOTHER CHILDREN WHEN THEY\\nARE SKATEBOARDING\\n\\nDANGER AND MASTERY'\n",
      "page_content='There was a time when kids skateboarded on the west side of Sidney Smith\\nHall, at the University of Toronto, where I work. Sometimes I stood there and'\n"
     ]
    }
   ],
   "source": [
    "from langchain.text_splitter import RecursiveCharacterTextSplitter\n",
    "\n",
    "text_splitter = RecursiveCharacterTextSplitter(\n",
    "    # Set a really small chunk size, just to show.\n",
    "    chunk_size=200,\n",
    "    chunk_overlap=20,\n",
    "    length_function=len,\n",
    "    is_separator_regex=False,\n",
    ")\n",
    "\n",
    "texts = text_splitter.create_documents([longest_chapter_text])\n",
    "print(texts[0])\n",
    "print(texts[1])\n"
   ]
  },
  {
   "cell_type": "markdown",
   "metadata": {},
   "source": []
  },
  {
   "cell_type": "code",
   "execution_count": 15,
   "metadata": {},
   "outputs": [
    {
     "data": {
      "text/plain": [
       "[Document(page_content='R U L E   11\\n\\nDO NOT BOTHER CHILDREN WHEN THEY\\nARE SKATEBOARDING\\n\\nDANGER AND MASTERY'),\n",
       " Document(page_content='There was a time when kids skateboarded on the west side of Sidney Smith\\nHall, at the University of Toronto, where I work. Sometimes I stood there and'),\n",
       " Document(page_content='watched them. There are rough, wide, shallow concrete steps there, leading\\nup from the street to the front entrance, accompanied by tubular iron'),\n",
       " Document(page_content='handrails, about two and a half inches in diameter and twenty feet long. The\\ncrazy kids, almost always boys, would pull back about fifteen yards from the'),\n",
       " Document(page_content='top of the steps. Then they would place a foot on their boards, and skate like\\nmad to get up some speed. Just before they collided with the handrail, they'),\n",
       " Document(page_content='would reach down, grab their board with a single hand and jump onto the top\\nof the rail, boardsliding their way down its length, propelling themselves off')]"
      ]
     },
     "execution_count": 15,
     "metadata": {},
     "output_type": "execute_result"
    }
   ],
   "source": [
    "texts[:6]"
   ]
  },
  {
   "cell_type": "code",
   "execution_count": 16,
   "metadata": {},
   "outputs": [
    {
     "data": {
      "text/plain": [
       "['R U L E   11\\n\\nDO NOT BOTHER CHILDREN WHEN THEY\\nARE SKATEBOARDING\\n\\nDANGER AND MASTERY',\n",
       " 'There was a time when kids skateboarded on the west side of Sidney Smith\\nHall, at the University of Toronto, where I work. Sometimes I stood there and',\n",
       " 'watched them. There are rough, wide, shallow concrete steps there, leading\\nup from the street to the front entrance, accompanied by tubular iron',\n",
       " 'handrails, about two and a half inches in diameter and twenty feet long. The\\ncrazy kids, almost always boys, would pull back about fifteen yards from the',\n",
       " 'top of the steps. Then they would place a foot on their boards, and skate like\\nmad to get up some speed. Just before they collided with the handrail, they',\n",
       " 'would reach down, grab their board with a single hand and jump onto the top\\nof the rail, boardsliding their way down its length, propelling themselves off']"
      ]
     },
     "execution_count": 16,
     "metadata": {},
     "output_type": "execute_result"
    }
   ],
   "source": [
    "text_splitter.split_text(longest_chapter_text)[:6]"
   ]
  },
  {
   "cell_type": "code",
   "execution_count": 17,
   "metadata": {},
   "outputs": [
    {
     "name": "stdout",
     "output_type": "stream",
     "text": [
      "84\n",
      "150\n",
      "144\n",
      "153\n",
      "154\n",
      "154\n"
     ]
    }
   ],
   "source": [
    "for sentence in text_splitter.split_text(longest_chapter_text)[:6]:\n",
    "    print(len(sentence))"
   ]
  }
 ],
 "metadata": {
  "kernelspec": {
   "display_name": "mls2",
   "language": "python",
   "name": "python3"
  },
  "language_info": {
   "codemirror_mode": {
    "name": "ipython",
    "version": 3
   },
   "file_extension": ".py",
   "mimetype": "text/x-python",
   "name": "python",
   "nbconvert_exporter": "python",
   "pygments_lexer": "ipython3",
   "version": "3.11.7"
  }
 },
 "nbformat": 4,
 "nbformat_minor": 2
}
